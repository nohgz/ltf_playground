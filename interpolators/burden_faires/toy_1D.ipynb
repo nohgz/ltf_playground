{
 "cells": [
  {
   "cell_type": "markdown",
   "id": "c4e10935",
   "metadata": {},
   "source": [
    "## Toy 1D Interpolator"
   ]
  },
  {
   "cell_type": "code",
   "execution_count": 166,
   "id": "f67be1b5",
   "metadata": {},
   "outputs": [
    {
     "data": {
      "text/plain": [
       "array([1. , 1.3, 1.6, 1.9, 2.2])"
      ]
     },
     "execution_count": 166,
     "metadata": {},
     "output_type": "execute_result"
    }
   ],
   "source": [
    "import numpy as np\n",
    "\n",
    "# define data table\n",
    "x = np.array([1.0, 1.3, 1.6, 1.9, 2.2])\n",
    "y = np.array([0.7651977, 0.6200860, 0.4554022, 0.2818186, 0.1103623])\n",
    "\n",
    "# takes the x and y data arrays and ensures they are monotonically increasing\n",
    "# this is important as bisection() only works for arrays like this\n",
    "idx = np.argsort(x)\n",
    "points = np.column_stack((x[idx], y[idx]))\n",
    "\n",
    "points[:,0]"
   ]
  },
  {
   "cell_type": "markdown",
   "id": "5f6a3953",
   "metadata": {},
   "source": [
    "Polynomials given by\n",
    "$$\n",
    "P_k(x) = \\sum_{k = 0}^k f(x_k)L_{n,k}(x) \\tag{1}\n",
    "$$\n",
    "where\n",
    "$$\n",
    "L_{n,k}(x) = \\prod_{\\substack{i = 0 \\\\ i \\neq k}}^i \\frac{x - x_i}{x_k - x_i} \\tag{2}\n",
    "$$"
   ]
  },
  {
   "cell_type": "code",
   "execution_count": null,
   "id": "cc018aa9",
   "metadata": {},
   "outputs": [
    {
     "name": "stdout",
     "output_type": "stream",
     "text": [
      "x values: [1.  1.3 1.6 1.9 2.2]\n",
      "f values: [0.7651977 0.620086  0.4554022 0.2818186 0.1103623]\n",
      "0.5118200\n"
     ]
    }
   ],
   "source": [
    "def _bisection(array, value) -> int:\n",
    "    '''Given an ``array`` , and given a ``value`` , returns an index j such that ``value`` is between array[j]\n",
    "    and array[j+1]. ``array`` must be monotonic increasing. j=-1 or j=len(array) is returned\n",
    "    to indicate that ``value`` is out of range below and above respectively.'''\n",
    "    n = len(array)\n",
    "    if (value < array[0]):\n",
    "        return -1\n",
    "    elif (value > array[n-1]):\n",
    "        return n\n",
    "    jl = 0                          # Initialize lower\n",
    "    ju = n-1                        # and upper limits.\n",
    "    while (ju-jl > 1):              # If we are not yet done,\n",
    "        jm=(ju+jl) >> 1             # compute a midpoint with a bitshift\n",
    "        if (value >= array[jm]):\n",
    "            jl=jm                   # and replace either the lower limit\n",
    "        else:\n",
    "            ju=jm                   # or the upper limit, as appropriate.\n",
    "                                    # Repeat until the test condition is satisfied.\n",
    "    if (value == array[0]):\n",
    "        return 0\n",
    "    elif (value == array[n-1]):# and top\n",
    "        return n-1\n",
    "    else:\n",
    "        return jl\n",
    "\n",
    "def _compute_lagrange_coeff(value, x_vals, k, i) -> float:\n",
    "    # base case: the count is greater than number of terms\n",
    "    if (i > len(x_vals)-1):\n",
    "        return 1\n",
    "\n",
    "    # recursive case 1: skip that part of the term if i = k\n",
    "    if (i == k):\n",
    "        return _compute_lagrange_coeff(value, x_vals, k, i+1)\n",
    "\n",
    "    # recursive case 2: compute the term according to eq. 2\n",
    "    return (value - x_vals[i])/(x_vals[k] - x_vals[i]) * _compute_lagrange_coeff(value, x_vals, k, i+1)\n",
    "\n",
    "def Toy1DInterpolator(points: np.ndarray, value=0.0, num_terms=1) -> float:\n",
    "    # If the user asks for far too many terms\n",
    "    # aka more terms that points in input array\n",
    "    if (num_terms > len(points[:,0])):\n",
    "        raise RuntimeWarning(\"Number of requested terms exceeds number of points given.\")\n",
    "\n",
    "    # find the index of the closest x value to the value to be interpolated\n",
    "    lower_index = _bisection(points[:,0], value)\n",
    "\n",
    "    # edge case 1: requested x is lower than the lowest x value\n",
    "    if (lower_index == -1):\n",
    "        print(\"WARNING: Requested x is lower than lowest x in data.\")\n",
    "        lower_index = np.clip(lower_index, 0, None)\n",
    "\n",
    "    # edge case 2: If the user asks for more terms but not enough close ones,\n",
    "    # shift the index backward to get more data in\n",
    "    # also handles requested x higher than the highest x value\n",
    "    diff = len(points[lower_index:]) - num_terms\n",
    "    if (diff < 0):\n",
    "        # shift the index down\n",
    "        lower_index += diff\n",
    "        # cap it at zero\n",
    "        lower_index = np.clip(lower_index, 0, None)\n",
    "\n",
    "    # allocate arrays to hold x and f values needed\n",
    "    x_vals = points[lower_index:, 0]\n",
    "    f_vals = points[lower_index:, 1]\n",
    "\n",
    "    # Debug Statements\n",
    "    # print(f\"clamped lindex: {lower_index} diff: {diff}\")\n",
    "    # print(f\"x values: {x_vals}\")\n",
    "    # print(f\"f values: {f_vals}\")\n",
    "    # for k in range(num_terms): # print number of terms\n",
    "    #   print(f\"term {k} -> {_compute_lagrange_coeff(value, x_vals, k, i=0)} x {f_vals[k]}\")\n",
    "\n",
    "    # evaluate eq. 1 at value requested\n",
    "    sum = 0\n",
    "    for k in range(num_terms):\n",
    "        sum += _compute_lagrange_coeff(value, x_vals, k, i=0) * f_vals[k]\n",
    "\n",
    "    return sum\n",
    "\n",
    "print(f\"{Toy1DInterpolator(points, 1.5, 5):0.7f}\") # corresponds to P_4"
   ]
  },
  {
   "cell_type": "code",
   "execution_count": null,
   "id": "4bd0d8f5",
   "metadata": {},
   "outputs": [],
   "source": [
    "# x values: [1.  1.3 1.6 1.9 2.2]\n",
    "# f values: [0.7651977 0.620086  0.4554022 0.2818186 0.1103623]\n",
    "# 0.5118200"
   ]
  }
 ],
 "metadata": {
  "kernelspec": {
   "display_name": "base",
   "language": "python",
   "name": "python3"
  },
  "language_info": {
   "codemirror_mode": {
    "name": "ipython",
    "version": 3
   },
   "file_extension": ".py",
   "mimetype": "text/x-python",
   "name": "python",
   "nbconvert_exporter": "python",
   "pygments_lexer": "ipython3",
   "version": "3.12.4"
  }
 },
 "nbformat": 4,
 "nbformat_minor": 5
}
