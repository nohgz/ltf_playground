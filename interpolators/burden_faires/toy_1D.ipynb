{
 "cells": [
  {
   "cell_type": "markdown",
   "id": "c4e10935",
   "metadata": {},
   "source": [
    "## Toy 1D Interpolator\n",
    "Simple 1D interpolator based off of Sections 3.1-3.2 in Numerical Analysis by Burden and Faires. Employs the Lagrange Polynomial method.\n",
    "\n",
    "### todo\n",
    "1. implement L2 norm\n",
    "2. pretend interpolated field is an bfld, then numerical integrate for lorentz force\n",
    "\n",
    "2. if needed then do 2d, if i got time"
   ]
  },
  {
   "cell_type": "code",
   "execution_count": 2,
   "id": "f67be1b5",
   "metadata": {},
   "outputs": [],
   "source": [
    "import numpy as np\n",
    "import matplotlib.pyplot as plt\n",
    "import scipy.stats as stats\n",
    "%matplotlib inline"
   ]
  },
  {
   "cell_type": "code",
   "execution_count": 3,
   "id": "120615ca",
   "metadata": {},
   "outputs": [],
   "source": [
    "# define data table\n",
    "x = np.array([1.0, 1.3, 1.6, 1.9, 2.2])\n",
    "y = np.array([0.7651977, 0.6200860, 0.4554022, 0.2818186, 0.1103623])\n",
    "\n",
    "# takes the x and y data arrays and ensures they are monotonically increasing\n",
    "# this is important as bisection() only works for arrays like this\n",
    "idx = np.argsort(x)\n",
    "points = np.column_stack((x[idx], y[idx]))"
   ]
  },
  {
   "cell_type": "markdown",
   "id": "5f6a3953",
   "metadata": {},
   "source": [
    "The Lagrange Interpolating Polynomial is given by\n",
    "$$\n",
    "P_k(x) = \\sum_{k = 0}^n f(x_k)L_{n,k}(x), \\tag{3.1}\n",
    "$$\n",
    "where $k = 0,1,\\dots,n,$\n",
    "$$\n",
    "L_{n,k}(x) = \\prod_{\\substack{i = 0 \\\\ i \\neq k}}^n \\frac{x - x_i}{x_k - x_i}. \\tag{3.2}\n",
    "$$"
   ]
  },
  {
   "cell_type": "code",
   "execution_count": null,
   "id": "cc018aa9",
   "metadata": {},
   "outputs": [],
   "source": [
    "def _bisection(array, value) -> int:\n",
    "    '''Given an ``array`` , and given a ``value`` , returns an index j such that ``value`` is between array[j]\n",
    "    and array[j+1]. ``array`` must be monotonic increasing. j=-1 or j=len(array) is returned\n",
    "    to indicate that ``value`` is out of range below and above respectively.\n",
    "\n",
    "    Taken from https://stackoverflow.com/a/41856629'''\n",
    "    n = len(array)\n",
    "    if (value < array[0]):\n",
    "        return -1\n",
    "    elif (value > array[n-1]):\n",
    "        return n\n",
    "    jl = 0                          # Initialize lower\n",
    "    ju = n-1                        # and upper limits.\n",
    "    while (ju-jl > 1):              # If we are not yet done,\n",
    "        jm=(ju+jl) >> 1             # compute a midpoint with a bitshift\n",
    "        if (value >= array[jm]):\n",
    "            jl=jm                   # and replace either the lower limit\n",
    "        else:\n",
    "            ju=jm                   # or the upper limit, as appropriate.\n",
    "                                    # Repeat until the test condition is satisfied.\n",
    "    if (value == array[0]):\n",
    "        return 0\n",
    "    elif (value == array[n-1]):# and top\n",
    "        return n-1\n",
    "    else:\n",
    "        return jl\n",
    "\n",
    "\n",
    "def _compute_lagrange_coeff(value, x_vals, k, i) -> float:\n",
    "    # base case: the count is greater than number of terms\n",
    "    if (i > len(x_vals)-1):\n",
    "        return 1\n",
    "\n",
    "    # recursive case 1: skip that part of the term if i = k\n",
    "    if (i == k):\n",
    "        return _compute_lagrange_coeff(value, x_vals, k, i+1)\n",
    "\n",
    "    # recursive case 2: compute the term according to eq. 3.2\n",
    "    return (value - x_vals[i])/(x_vals[k] - x_vals[i]) * _compute_lagrange_coeff(value, x_vals, k, i+1)\n",
    "\n",
    "\n",
    "def Toy1DInterpolator(points: np.ndarray, value, num_terms: int = 1) -> float:\n",
    "    # get x values for input\n",
    "    x = points[:,0]\n",
    "\n",
    "    # If the user asks for too little terms\n",
    "    if (num_terms <= 0):\n",
    "        raise RuntimeError(\"Number of requested terms is less than or equal to zero.\")\n",
    "\n",
    "    # If the user asks for far too many terms\n",
    "    # aka more terms that points in input array\n",
    "    if (num_terms > len(x)):\n",
    "        raise RuntimeError(\"Number of requested terms exceeds number of points given.\")\n",
    "\n",
    "    # Check if the input is evenly spaced\n",
    "    # couldn't use direct comparison (==) because floating point error grumble grumble\n",
    "    if (np.allclose(np.diff(x), np.diff(x)[0])):\n",
    "        # get spacing\n",
    "        dx = x[1]-x[0]\n",
    "        lower_index = int((value - x[0])/dx)\n",
    "    # if not evenly spaced, then use the bisection algorithm\n",
    "    else:\n",
    "        lower_index = _bisection(x, value)\n",
    "\n",
    "    # clamp the indices to be in the array\n",
    "    lower_index = np.clip(lower_index, 0, len(x))\n",
    "\n",
    "    # edge case: If the user asks for more terms but not enough close ones,\n",
    "    # shift the index backward to get more data in\n",
    "    diff = len(points[lower_index:]) - num_terms\n",
    "    if (diff < 0):\n",
    "        # shift the index down\n",
    "        lower_index += diff\n",
    "        # cap it at zero\n",
    "        lower_index = np.clip(lower_index, 0, None)\n",
    "\n",
    "\n",
    "    # allocate arrays to hold x and f values needed\n",
    "    x_vals = points[lower_index:lower_index+num_terms, 0]\n",
    "    f_vals = points[lower_index:lower_index+num_terms, 1]\n",
    "\n",
    "    # Debug Statements\n",
    "    # print(f\"lowest accomodating value: {x[lower_index]}\")\n",
    "    # print(f\"clamped lindex: {lower_index} diff: {diff}\")\n",
    "    # print(f\"x values: {x_vals}\")\n",
    "    # print(f\"f values: {f_vals}\")\n",
    "    # for k in range(num_terms): # print number of terms\n",
    "    #   print(f\"term {k} -> {_compute_lagrange_coeff(value, x_vals, k, i=0)} x {f_vals[k]}\")\n",
    "\n",
    "    # evaluate eq. 3.1 at value requested\n",
    "    # all id have to do is prange (in numba) for parallelization\n",
    "    sum = 0\n",
    "    for k in range(num_terms):\n",
    "        sum += _compute_lagrange_coeff(value, x_vals, k, i=0) * f_vals[k]\n",
    "\n",
    "    return sum\n",
    "\n",
    "def l2norm_comparison(min_x: float, max_x: float, interpolator, true_function) -> float:\n",
    "    # create a very dense array across x to get a whole bunch of values\n",
    "    x_dense = np.linspace(min_x, max_x, 1000)\n",
    "\n",
    "    # get a whole bunch of sample points\n",
    "    true_vals = true_function(x_dense)\n",
    "    interp_vals = interpolator(...,x_dense,...)\n",
    "\n",
    "    # get the squared error to evalute the l2 norm and the spacing\n",
    "    squared_error = (true_vals - interp_vals)**2\n",
    "    dx = x_dense[1] - x_dense[0]\n",
    "\n",
    "    return np.sqrt(np.sum(squared_error) * dx)"
   ]
  },
  {
   "cell_type": "code",
   "execution_count": 5,
   "id": "4bd0d8f5",
   "metadata": {},
   "outputs": [
    {
     "name": "stdout",
     "output_type": "stream",
     "text": [
      "0.5118302\n"
     ]
    }
   ],
   "source": [
    "print(f\"{Toy1DInterpolator(points, 1.5, 4):0.7f}\") # corresponds to P_4, as it is on page 118"
   ]
  },
  {
   "cell_type": "markdown",
   "id": "f1639ecc",
   "metadata": {},
   "source": [
    "## Test - Normal Distribution PDF"
   ]
  },
  {
   "cell_type": "code",
   "execution_count": 6,
   "id": "4254e786",
   "metadata": {},
   "outputs": [
    {
     "data": {
      "text/plain": [
       "[<matplotlib.lines.Line2D at 0x71769621e210>]"
      ]
     },
     "execution_count": 6,
     "metadata": {},
     "output_type": "execute_result"
    },
    {
     "data": {
      "image/png": "[encoded data removed]",
      "text/plain": [
       "<Figure size 640x480 with 1 Axes>"
      ]
     },
     "metadata": {},
     "output_type": "display_data"
    }
   ],
   "source": [
    "x = np.arange(-5, 5, 0.25)\n",
    "y = stats.norm.pdf(x, loc=0, scale=1)\n",
    "\n",
    "idx = np.argsort(x)\n",
    "points = np.column_stack((x[idx], y[idx]))\n",
    "\n",
    "plt.plot(x,y)"
   ]
  },
  {
   "cell_type": "code",
   "execution_count": null,
   "id": "0d32ae9d",
   "metadata": {},
   "outputs": [
    {
     "name": "stdout",
     "output_type": "stream",
     "text": [
      "Interpolated = 0.3864486\n",
      "      Actual = 0.3864448\n",
      "L2 NORM: 0.0001491559372792351\n"
     ]
    }
   ],
   "source": [
    "value = 0.2523\n",
    "\n",
    "interpolated = Toy1DInterpolator(points, value, 5)\n",
    "actual = stats.norm.pdf(value, loc=0, scale=1)\n",
    "\n",
    "print(f\"Interpolated = {interpolated:0.7f}\\n\\\n",
    "      Actual = {actual:0.7f}\") # corresponds to P_4\n",
    "\n",
    "## FOR L2 NORM STUFF, DIDN'T BOTHER MAKING IT A FUNCTION\n",
    "x_dense = np.linspace(-2, 2, 1000)\n",
    "\n",
    "# get a whole bunch of sample points for the true function and interpolated function\n",
    "true_vals = stats.norm.pdf(x_dense, loc=0, scale=1)\n",
    "interp_vals = np.array([Toy1DInterpolator(points, x, 4) for x in x_dense])\n",
    "\n",
    "# get the squared error to evalute the l2 norm and the spacing\n",
    "squared_error = (true_vals - interp_vals)**2\n",
    "dx = x_dense[1] - x_dense[0]\n",
    "\n",
    "# Return the L2 norm\n",
    "print(f\"L2 NORM: {np.sqrt(np.sum(squared_error) * dx)}\")"
   ]
  }
 ],
 "metadata": {
  "kernelspec": {
   "display_name": "base",
   "language": "python",
   "name": "python3"
  },
  "language_info": {
   "codemirror_mode": {
    "name": "ipython",
    "version": 3
   },
   "file_extension": ".py",
   "mimetype": "text/x-python",
   "name": "python",
   "nbconvert_exporter": "python",
   "pygments_lexer": "ipython3",
   "version": "3.12.9"
  }
 },
 "nbformat": 4,
 "nbformat_minor": 5
}
