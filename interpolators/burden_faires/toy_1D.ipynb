{
 "cells": [
  {
   "cell_type": "code",
   "execution_count": null,
   "id": "f67be1b5",
   "metadata": {},
   "outputs": [
    {
     "data": {
      "text/plain": [
       "[array([1.       , 0.7651977]),\n",
       " array([1.3     , 0.620086]),\n",
       " array([1.6      , 0.4554022]),\n",
       " array([1.9      , 0.2818186]),\n",
       " array([2.2      , 0.1103623])]"
      ]
     },
     "execution_count": 2,
     "metadata": {},
     "output_type": "execute_result"
    }
   ],
   "source": [
    "import numpy as np\n",
    "\n",
    "\n",
    "# define data table\n",
    "x = np.array([1.0, 1.3, 1.6, 1.9, 2.2])\n",
    "y = np.array([0.7651977, 0.6200860, 0.4554022, 0.2818186, 0.1103623])\n",
    "\n",
    "# takes the x and y data arrays and ensures they are monotonically increasing\n",
    "# this is important as bisection() only works for arrays like this\n",
    "points = sorted(np.column_stack((x, y)), key=lambda p: p[0])"
   ]
  },
  {
   "cell_type": "markdown",
   "id": "5f6a3953",
   "metadata": {},
   "source": [
    "Polynomials given by\n",
    "$$\n",
    "P(x) = \\sum_{k = 0}^n f(x_k)L_{n,k}(x)\n",
    "$$\n",
    "where\n",
    "$$\n",
    "L_{n,k}(x) = \\prod_{\\substack{i = 0 \\\\ i \\neq k}} \\frac{x - x_i}{x_k - x_i}\n",
    "$$"
   ]
  },
  {
   "cell_type": "code",
   "execution_count": null,
   "id": "cc018aa9",
   "metadata": {},
   "outputs": [
    {
     "data": {
      "text/plain": [
       "1"
      ]
     },
     "execution_count": 34,
     "metadata": {},
     "output_type": "execute_result"
    }
   ],
   "source": [
    "def toy1DInterpolator(x, pts, k):\n",
    "    # k is number of polynomials\n",
    "    # find the lagrange coefficients\n",
    "    l_coeff = np.zeros(k)\n",
    "\n",
    "    for i in range(k):\n",
    "        \n",
    "\n",
    "\n",
    "    # find the product about\n",
    "\n",
    "    return y\n",
    "\n",
    "\n",
    "def bisection(array, value):\n",
    "    '''Given an ``array`` , and given a ``value`` , returns an index j such that ``value`` is between array[j]\n",
    "    and array[j+1]. ``array`` must be monotonic increasing. j=-1 or j=len(array) is returned\n",
    "    to indicate that ``value`` is out of range below and above respectively.'''\n",
    "    n = len(array)\n",
    "    if (value < array[0]):\n",
    "        return -1\n",
    "    elif (value > array[n-1]):\n",
    "        return n\n",
    "    jl = 0                          # Initialize lower\n",
    "    ju = n-1                        # and upper limits.\n",
    "    while (ju-jl > 1):              # If we are not yet done,\n",
    "        jm=(ju+jl) >> 1             # compute a midpoint with a bitshift\n",
    "        if (value >= array[jm]):\n",
    "            jl=jm                   # and replace either the lower limit\n",
    "        else:\n",
    "            ju=jm                   # or the upper limit, as appropriate.\n",
    "                                    # Repeat until the test condition is satisfied.\n",
    "    if (value == array[0]):\n",
    "        return 0\n",
    "    elif (value == array[n-1]):# and top\n",
    "        return n-1\n",
    "    else:\n",
    "        return jl"
   ]
  }
 ],
 "metadata": {
  "kernelspec": {
   "display_name": "base",
   "language": "python",
   "name": "python3"
  },
  "language_info": {
   "codemirror_mode": {
    "name": "ipython",
    "version": 3
   },
   "file_extension": ".py",
   "mimetype": "text/x-python",
   "name": "python",
   "nbconvert_exporter": "python",
   "pygments_lexer": "ipython3",
   "version": "3.12.4"
  }
 },
 "nbformat": 4,
 "nbformat_minor": 5
}
