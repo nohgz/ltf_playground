{
 "cells": [
  {
   "cell_type": "code",
   "execution_count": 1,
   "id": "9e0477d9",
   "metadata": {},
   "outputs": [],
   "source": [
    "import numpy as np\n",
    "import matplotlib.pyplot as plt\n",
    "import scipy.stats as stats\n",
    "%matplotlib inline"
   ]
  },
  {
   "cell_type": "markdown",
   "id": "3956396f",
   "metadata": {},
   "source": [
    "# Toy 2-D Interpolator\n",
    "Assumptions\n",
    "- Input points are evenly spaced\n",
    "- Input points are monotonically increasing\n",
    "- Doesn't take into account edge cases\n",
    "\n",
    "## Method\n",
    "Uses the formula for bilinear interpolation from Wikipedia:\n",
    "$$\n",
    "f(x,y) = \\frac{1}{(x_2 - x_1)(y_2-y_1)} \\left[x_2 - x \\quad x - x_1\\right] \\begin{bmatrix}\n",
    "f(Q_{11}) & f(Q_{12}) \\\\\n",
    "f(Q_{21}) & f(Q_{22})\n",
    "\\end{bmatrix} \\begin{bmatrix}\n",
    "y_2 - y \\\\\n",
    "y-y_1\n",
    "\\end{bmatrix}\n",
    "$$\n",
    "Where the 1 indicates a lower value, and 2 indicates a higher one- this applies to Q, in which each Q is a point indicated by the subscripts. i.e. (Q_11) is x_lo, y_lo\n",
    "\n",
    "\n",
    "I am also implementing this using OOP, as the Superfish tracking code utilizes RegularGridInterpolator which is also implemented with OOP. This is mainly for ease of compatibility."
   ]
  },
  {
   "cell_type": "code",
   "execution_count": 2,
   "id": "5c45019f",
   "metadata": {},
   "outputs": [],
   "source": [
    "class ToyBilinearInterpolator:\n",
    "    # Create the interpolator with data for interpolation\n",
    "    def __init__(self, points, data, grid_tolerance=0.05):\n",
    "        self.x_vals, self.y_vals = points\n",
    "        self.data = np.array(data)\n",
    "\n",
    "        # Run some basic checks for the input data\n",
    "        self.__sanitizeCoordinates();\n",
    "\n",
    "        # if the data is reasonable, then do the spacing checks\n",
    "        self.dx = np.diff(self.x_vals).flat\n",
    "        self.dy = np.diff(self.y_vals).flat\n",
    "\n",
    "        if not self.__isRegularlySpaced(grid_tolerance):\n",
    "            print(f\"dx: {self.dx[0]},\\t dy{self.dy[0]}\")\n",
    "            raise ValueError(\"Input x and y arrays are not evenly spaced!\")\n",
    "\n",
    "    def __call__(self, point):\n",
    "        \"\"\"Calls the bilinear interpolation routine when provided a x,y point.\"\"\"\n",
    "        x_vals, y_vals, data = self.x_vals, self.y_vals, self.data\n",
    "        x, y = point\n",
    "\n",
    "        # As we are regularly spaced, we can use the simple floor method to\n",
    "        # get the index of the value closest to the interpolant\n",
    "        lower_index_x = int((x - x_vals[0])/self.dx[0])\n",
    "        lower_index_y = int((y - y_vals[0])/self.dy[0])\n",
    "\n",
    "        # build the f(Q_xy) dudes\n",
    "        q11 = data[lower_index_x][lower_index_y]\n",
    "        q12 = data[lower_index_x][lower_index_y + 1]\n",
    "        q21 = data[lower_index_x + 1][lower_index_y]\n",
    "        q22 = data[lower_index_x + 1][lower_index_y + 1]\n",
    "\n",
    "        # and the x1,x2,y1,y2 dudes\n",
    "        x1 = x_vals[lower_index_x]\n",
    "        x2 = x_vals[lower_index_x + 1]\n",
    "        y1 = y_vals[lower_index_y]\n",
    "        y2 = y_vals[lower_index_y + 1]\n",
    "\n",
    "        # the expanded form of that matrix equation on top\n",
    "        return (q11 * (x2 - x) * (y2 - y) +\n",
    "                q12 * (x2 - x) * (y - y1) +\n",
    "                q21 * (x - x1) * (y2 - y) +\n",
    "                q22 * (x - x1) * (y - y1)) / ((x2 - x1) * (y2 - y1))\n",
    "\n",
    "    def __sanitizeCoordinates(self):\n",
    "        x_vals, y_vals, data = self.x_vals, self.y_vals, self.data\n",
    "        \"\"\"Does basic checks for the input data.\"\"\"\n",
    "\n",
    "        # Ensures that there are enough points in the data array to\n",
    "        # actually do an interpolation (in this case, 2 for x and 2 for y)\n",
    "        if len(x_vals) < 2 and len(y_vals) < 2:\n",
    "            raise ValueError(\"Not enough points for an interpolation!\")\n",
    "\n",
    "        # Ensures that the x and y values for the input data have a value\n",
    "        if len(x_vals) * len(y_vals) != data.size:\n",
    "            raise ValueError(\"Not every x and y point has a value!\")\n",
    "\n",
    "        # Ensures that x and y array is monotonically increasing\n",
    "        if not all(i<j for i, j in zip(x_vals, x_vals[1:])):\n",
    "            raise ValueError(\"The x array is not monotonically increasing!\")\n",
    "\n",
    "        if not all(i<j for i, j in zip(y_vals, y_vals[1:])):\n",
    "            raise ValueError(\"The y array is not monotonically increasing!\")\n",
    "\n",
    "    def __isRegularlySpaced(self, tolerance):\n",
    "        \"\"\"Checks if the spacing beween the x and y arrays is consistent between\n",
    "        themselves and each other.\"\"\"\n",
    "        dx, dy = self.dx, self.dy\n",
    "\n",
    "        # Check if the x and y values are evenly spaced\n",
    "        if (np.allclose(dx, dx[0], rtol=tolerance) and np.allclose(dy, dy[0], rtol=tolerance)):\n",
    "            # and that the x and y values are evenly spaced from each other\n",
    "            return np.allclose(dx[0], dy[0], rtol=tolerance)\n",
    "        else:\n",
    "            return False"
   ]
  },
  {
   "cell_type": "markdown",
   "id": "abb4965f",
   "metadata": {},
   "source": [
    "# Basic Testing"
   ]
  },
  {
   "cell_type": "code",
   "execution_count": 3,
   "id": "4a9c6fd7",
   "metadata": {},
   "outputs": [
    {
     "name": "stdout",
     "output_type": "stream",
     "text": [
      "test 1\n",
      "330.0\n",
      "\n",
      "test 2\n",
      "137.5\n"
     ]
    }
   ],
   "source": [
    "interp = ToyBilinearInterpolator(\n",
    "    points=((1, 2, 3, 4, 5),\n",
    "            (1, 2, 3, 4, 5)),\n",
    "    data=((110, 120, 130, 140, 150),\n",
    "          (210, 220, 230, 240, 250),\n",
    "          (310, 320, 330, 340, 350),\n",
    "          (410, 420, 430, 440, 450),\n",
    "          (510, 520, 530, 540, 550)\n",
    "    ))\n",
    "\n",
    "print('test 1')\n",
    "print(interp((3, 3))) # should be 330\n",
    "\n",
    "print(\"\\ntest 2\")\n",
    "print(interp((1.25, 1.25))) # should be 137.5"
   ]
  },
  {
   "cell_type": "markdown",
   "id": "a54b644b",
   "metadata": {},
   "source": [
    "# Superfish Testing"
   ]
  },
  {
   "cell_type": "code",
   "execution_count": 4,
   "id": "8abcb224",
   "metadata": {},
   "outputs": [],
   "source": [
    "f_res = 2.856e9\n",
    "phi_RF = 0 #np.pi\n",
    "Amp_fac=0.12"
   ]
  },
  {
   "cell_type": "code",
   "execution_count": 5,
   "id": "e3a86c59",
   "metadata": {},
   "outputs": [],
   "source": [
    "from scipy.interpolate import RegularGridInterpolator\n",
    "\n",
    "\n",
    "def trueSuperfishFields(fname):\n",
    "    with open(fname) as fin:\n",
    "        lines = fin.readlines()\n",
    "        linesplit = [lines[i].split() for i in range(len(lines))]\n",
    "        Zmin = float(linesplit[0][0])/100\n",
    "        Zmax = float(linesplit[0][1])/100\n",
    "        Nz = int(linesplit[0][2])\n",
    "        freq = float(linesplit[1][0])*1e6\n",
    "        Rmin = float(linesplit[2][0])/100\n",
    "        Rmax = float(linesplit[2][1])/100\n",
    "        Nr = int(linesplit[2][2])\n",
    "\n",
    "    rr = np.linspace(Rmin,Rmax,Nr+1,endpoint=True)\n",
    "    zz = np.linspace(Zmin,Zmax,Nz+1,endpoint=True)\n",
    "\n",
    "    print(Zmin, Zmax, Nz, Rmin, Rmax, Nr)\n",
    "\n",
    "    E = np.zeros([Nz+1,Nr+1,2])\n",
    "    Emag = np.zeros([Nz+1,Nr+1])\n",
    "    Bt = np.zeros([Nz+1,Nr+1])\n",
    "\n",
    "    linesplitE = linesplit[4::2]\n",
    "    linesplitB = linesplit[5::2]\n",
    "\n",
    "    for ind in range(len(linesplitE)):\n",
    "        i = ind % (Nz+1)\n",
    "        j = int(ind / (Nz+1)) - 1\n",
    "        E[i,j,0] = float(linesplitE[ind][0])*1e6\n",
    "        E[i,j,1] = float(linesplitE[ind][1])*1e6\n",
    "        Emag[i,j] = float(linesplitE[ind][2])*1e6\n",
    "        Bt[i,j] = float(linesplitB[ind][0])*4e-7*np.pi\n",
    "\n",
    "    ## Chris -- Here's a little assignment to work on when you get a second\n",
    "    # The 'RegularGridInterpolator' function in scipy basically takes discrete data, i.e E[:,:,0/1]\n",
    "    # and converts it into a function that can spit out the right fields at any (z,r).\n",
    "    # Write a custom function that does this using only basic numpy operations and python primitives.\n",
    "    # We're eventually going to use numba to speed it up (and parallelize with MPI/CUDA down the line).\n",
    "    ERint = RegularGridInterpolator((zz,rr),E[:,:,1])\n",
    "    EZint = RegularGridInterpolator((zz,rr),E[:,:,0])\n",
    "    BTint = RegularGridInterpolator((zz,rr),Bt[:,:])\n",
    "\n",
    "    return ERint,EZint,BTint, rr, zz, Emag\n",
    "\n",
    "    \n",
    "def toySuperfishFields(fname):\n",
    "    with open(fname) as fin:\n",
    "        lines = fin.readlines()\n",
    "        linesplit = [lines[i].split() for i in range(len(lines))]\n",
    "        Zmin = float(linesplit[0][0])/100\n",
    "        Zmax = float(linesplit[0][1])/100\n",
    "        Nz = int(linesplit[0][2])\n",
    "        freq = float(linesplit[1][0])*1e6\n",
    "        Rmin = float(linesplit[2][0])/100\n",
    "        Rmax = float(linesplit[2][1])/100\n",
    "        Nr = int(linesplit[2][2])\n",
    "\n",
    "    rr = np.linspace(Rmin,Rmax,Nr+1,endpoint=True)\n",
    "    zz = np.linspace(Zmin,Zmax,Nz+1,endpoint=True)\n",
    "\n",
    "    print(Zmin, Zmax, Nz, Rmin, Rmax, Nr)\n",
    "\n",
    "    E = np.zeros([Nz+1,Nr+1,2])\n",
    "    Emag = np.zeros([Nz+1,Nr+1])\n",
    "    Bt = np.zeros([Nz+1,Nr+1])\n",
    "\n",
    "    linesplitE = linesplit[4::2]\n",
    "    linesplitB = linesplit[5::2]\n",
    "\n",
    "    for ind in range(len(linesplitE)):\n",
    "        i = ind % (Nz+1)\n",
    "        j = int(ind / (Nz+1)) - 1\n",
    "        E[i,j,0] = float(linesplitE[ind][0])*1e6\n",
    "        E[i,j,1] = float(linesplitE[ind][1])*1e6\n",
    "        Emag[i,j] = float(linesplitE[ind][2])*1e6\n",
    "        Bt[i,j] = float(linesplitB[ind][0])*4e-7*np.pi\n",
    "\n",
    "    ## Chris -- Here's a little assignment to work on when you get a second\n",
    "    # The 'RegularGridInterpolator' function in scipy basically takes discrete data, i.e E[:,:,0/1]\n",
    "    # and converts it into a function that can spit out the right fields at any (z,r).\n",
    "    # Write a custom function that does this using only basic numpy operations and python primitives.\n",
    "    # We're eventually going to use numba to speed it up (and parallelize with MPI/CUDA down the line).\n",
    "    ERint = ToyBilinearInterpolator((zz,rr),E[:,:,1])\n",
    "    EZint = ToyBilinearInterpolator((zz,rr),E[:,:,0])\n",
    "    BTint = ToyBilinearInterpolator((zz,rr),Bt[:,:])\n",
    "\n",
    "    return ERint,EZint,BTint, rr, zz, Emag"
   ]
  },
  {
   "cell_type": "code",
   "execution_count": 6,
   "id": "edead72d",
   "metadata": {},
   "outputs": [],
   "source": [
    "import math\n",
    "\n",
    "def Exint(r):\n",
    "    r = np.flip(r)\n",
    "    rad = np.sqrt(r[0]**2 + r[1]**2)\n",
    "    th = math.atan2(r[1],r[0])\n",
    "    z = r[-1]\n",
    "\n",
    "    return [ERint((z,rad))*np.cos(th)]\n",
    "\n",
    "def Eyint(r):\n",
    "    r = np.flip(r)\n",
    "    rad = np.sqrt(r[0]**2 + r[1]**2)\n",
    "    th = math.atan2(r[1],r[0])\n",
    "    z = r[-1]\n",
    "\n",
    "    return [ERint((z,rad))*np.sin(th)]\n",
    "\n",
    "def Ezint(r):\n",
    "    r = np.flip(r)\n",
    "    rad = np.sqrt(r[0]**2 + r[1]**2)\n",
    "    th = math.atan2(r[1],r[0])\n",
    "    z = r[-1]\n",
    "\n",
    "    return [EZint((z,rad))]\n",
    "\n",
    "def Efld(r,t):\n",
    "    try:\n",
    "        E = Amp_fac*np.array([Exint(r)[0],Eyint(r)[0],Ezint(r)[0]])*np.cos(2*np.pi*f_res*t+phi_RF)\n",
    "    except:\n",
    "        E = np.array([0,0,0])\n",
    "    return E"
   ]
  },
  {
   "cell_type": "markdown",
   "id": "06f895ab",
   "metadata": {},
   "source": [
    "## Checking Error to be $\\mathcal{O}(1e-16)$"
   ]
  },
  {
   "cell_type": "code",
   "execution_count": 7,
   "id": "e774e064",
   "metadata": {},
   "outputs": [
    {
     "name": "stdout",
     "output_type": "stream",
     "text": [
      "0.0 0.29270745000000004 300 0.0 0.05 50\n",
      "[1.98638778e+02 1.01793844e+02 1.56747123e+05]\n",
      "0.0 0.29270745000000004 300 0.0 0.05 50\n",
      "[1.98638778e+02 1.01793844e+02 1.56747123e+05]\n"
     ]
    }
   ],
   "source": [
    "ERint, EZint, BTint, rr, zz, Emag = trueSuperfishFields(\"../../superfish/1T1.T7\")\n",
    "\n",
    "R = rr[4]\n",
    "Z = zz[4]\n",
    "th = np.pi/6\n",
    "\n",
    "r = np.array([R*np.cos(th), R*np.sin(th), Z])\n",
    "E_true = Efld(r,1e-9)\n",
    "print(E_true)\n",
    "\n",
    "ERint, EZint, BTint, rr, zz, Emag = toySuperfishFields(\"../../superfish/1T1.T7\")\n",
    "R = rr[4]\n",
    "Z = zz[4]\n",
    "th = np.pi/6\n",
    "\n",
    "r = np.array([R*np.cos(th), R*np.sin(th), Z])\n",
    "E_toy = Efld(r,1e-9)\n",
    "print(E_toy)"
   ]
  },
  {
   "cell_type": "code",
   "execution_count": 8,
   "id": "0ba547db",
   "metadata": {},
   "outputs": [
    {
     "data": {
      "text/plain": [
       "array([ 0.00000000e+00,  0.00000000e+00, -5.82076609e-11])"
      ]
     },
     "execution_count": 8,
     "metadata": {},
     "output_type": "execute_result"
    }
   ],
   "source": [
    "E_diff = E_toy - E_true\n",
    "E_diff"
   ]
  },
  {
   "cell_type": "code",
   "execution_count": 9,
   "id": "a1ad43dd",
   "metadata": {},
   "outputs": [
    {
     "name": "stdout",
     "output_type": "stream",
     "text": [
      "[-9.10653686e+03 -5.25766151e+03 -7.03131138e+06]\n"
     ]
    }
   ],
   "source": [
    "SCfac = 1.0\n",
    "CST_flag = 1.0\n",
    "\n",
    "#phi_RF = np.pi/2\n",
    "dt = 1e-11 #1.0/(71*f_res)\n",
    "Nt = 150 #)\n",
    "t = np.linspace(0,Nt*dt,Nt,endpoint=False)\n",
    "f_res = 1.3e9\n",
    "Amp_fac = 28.836*(10/61.33) # 6.3 MV/m\n",
    "phi_RF = np.pi/2+45/180*np.pi\n",
    "print(Efld(np.flip(r),0))"
   ]
  },
  {
   "cell_type": "markdown",
   "id": "ab10b2a7",
   "metadata": {},
   "source": [
    "Seems right to me... but I am still a bit weary about not implementing the edge cases in my interpolator. Do we not need to worry about those when going off of real data?\n",
    "\n",
    "The Superfish outputs are:\n",
    "```[1.98638778e+02 1.01793844e+02 1.56747123e+05]``` and  ```[-9.10653686e+03 -5.25766151e+03 -7.03131138e+06]```, which match exactly. This indicates that either:\n",
    "- I correctly implemented the interpolator (which I hope is true!)\n",
    "- Black magic caused the values to match nicely"
   ]
  }
 ],
 "metadata": {
  "kernelspec": {
   "display_name": "base",
   "language": "python",
   "name": "python3"
  },
  "language_info": {
   "codemirror_mode": {
    "name": "ipython",
    "version": 3
   },
   "file_extension": ".py",
   "mimetype": "text/x-python",
   "name": "python",
   "nbconvert_exporter": "python",
   "pygments_lexer": "ipython3",
   "version": "3.12.9"
  }
 },
 "nbformat": 4,
 "nbformat_minor": 5
}
