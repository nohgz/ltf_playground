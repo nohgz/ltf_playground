{
 "cells": [
  {
   "cell_type": "code",
   "execution_count": 2,
   "id": "d7f46c5c",
   "metadata": {},
   "outputs": [],
   "source": [
    "import numpy as np\n",
    "import matplotlib.pyplot as plt\n",
    "%matplotlib inline\n",
    "\n",
    "from numpy.polynomial.laguerre import laggauss\n",
    "from numpy.polynomial.legendre import leggauss"
   ]
  },
  {
   "cell_type": "markdown",
   "id": "9c35d5d7",
   "metadata": {},
   "source": [
    "# Gaussian Quadrature Notebook\n",
    "This notebook implements the Gaussian Quadrature method from *Numerical Analysis* in multiple dimensions.\n",
    "\n",
    "Gaussian Quadrature (below) is valid if $P(x)$ is any polynomial of degree less than $2n$. It is\n",
    "$$\n",
    "\\int_{-1}^{1} P(x)\\,dx = \\sum_{i=1}^{n} c_i P(x_i)\n",
    "$$\n",
    "Otherwise, it will just give a decently good approximation."
   ]
  },
  {
   "cell_type": "code",
   "execution_count": 3,
   "id": "f0346471",
   "metadata": {},
   "outputs": [],
   "source": [
    "### Define a few functions for testing\n",
    "\n",
    "# 1-D\n",
    "const_1D = lambda x: x**0\n",
    "poly   = lambda x: 2*x**3 + 6*x**2 + 3*x + 6\n",
    "expcos = lambda x: np.exp(x) * np.cos(x)\n",
    "expsin = lambda x: x**6 - (x**2 * np.sin(2*x))\n",
    "sin_1D = lambda x : np.sin(x)\n",
    "\n",
    "# 2-D\n",
    "const_2D = lambda x, y: (x*y)**0\n",
    "ln_2d = lambda x, y: np.log(x + 2*y)\n",
    "gaussian_2d = lambda x, y: np.exp(-x**2 -y**2)\n",
    "\n",
    "# 3-D\n",
    "const_3D = lambda x, y, z: 1"
   ]
  },
  {
   "cell_type": "code",
   "execution_count": 4,
   "id": "a4c317ee",
   "metadata": {},
   "outputs": [],
   "source": [
    "### Gaussian Quadrature Implementation\n",
    "def gaussQuad1D(f, a, b, n):\n",
    "    \"\"\"1-D Gaussian Quadrature using Legendre Polynomials\"\"\"\n",
    "    roots, weights = leggauss(n)\n",
    "\n",
    "    sum = 0\n",
    "    # perform the summation\n",
    "    for i in range(n):\n",
    "        # get the roots into a,b from -1,1\n",
    "        u = linTransform(roots[i], a, b)\n",
    "        sum += weights[i] * f(u)\n",
    "\n",
    "    # multiply by the coefficents from the variable substitution\n",
    "    return 0.5 * (b-a) * sum\n",
    "\n",
    "def linTransform(t:float, a:float, b:float ) -> float:\n",
    "    \"\"\"Linear transform from [-1,1] to [a,b]\"\"\"\n",
    "    return 0.5 * ((b - a) * t + (a + b))"
   ]
  },
  {
   "cell_type": "code",
   "execution_count": 5,
   "id": "0ec9b314",
   "metadata": {},
   "outputs": [
    {
     "name": "stdout",
     "output_type": "stream",
     "text": [
      "T1: 16.0000000\n",
      "T2: 1.9333905\n",
      "T3: 317.2641517\n"
     ]
    }
   ],
   "source": [
    "print(f\"T1: {gaussQuad1D(poly, -1, 1, 3):0.7f}\")\n",
    "print(f\"T2: {gaussQuad1D(expcos, -1, 1, 3):0.7f}\")\n",
    "print(f\"T3: {gaussQuad1D(expsin, 1, 3, 3):0.7f}\")\n",
    "\n",
    "#T1: 16.0000000\n",
    "#T2: 1.9333905\n",
    "#T3: 317.2641517\n"
   ]
  },
  {
   "cell_type": "markdown",
   "id": "6eb0ae7a",
   "metadata": {},
   "source": [
    "These match very well with the values provided in the book, so I'm confident in the routine."
   ]
  },
  {
   "cell_type": "markdown",
   "id": "fdd20881",
   "metadata": {},
   "source": [
    "## Gauss-Laguerre Quadrature\n",
    "Figured I'd do this as a bonus- it does the following:\n",
    "$$\n",
    "\\int_{0}^{\\infty} e^{-x} f(x) \\, dx \\approx \\sum_{i=1}^n c_i f(x_i)\n",
    "$$"
   ]
  },
  {
   "cell_type": "code",
   "execution_count": 6,
   "id": "3d3b6dc9",
   "metadata": {},
   "outputs": [
    {
     "name": "stdout",
     "output_type": "stream",
     "text": [
      "G-L T1: 1.0000000000000002\n",
      "G-L T2: 0.5000494747976744\n"
     ]
    }
   ],
   "source": [
    "### This one inherently forces the bounds, so I don't think that any transformations will be necessary.\n",
    "def gaussLaguerre1D(f, n):\n",
    "    roots, weights = laggauss(n)\n",
    "\n",
    "    sum = 0\n",
    "    for i in range(n):\n",
    "        sum += weights[i] * f(roots[i])\n",
    "\n",
    "    return sum\n",
    "\n",
    "\n",
    "print(f\"G-L T1: {gaussLaguerre1D(const_1D, 6)}\") # should be 1\n",
    "print(f\"G-L T2: {gaussLaguerre1D(sin_1D, 6)}\")   # should be 0.5"
   ]
  },
  {
   "cell_type": "markdown",
   "id": "e32fc535",
   "metadata": {},
   "source": [
    "## 2-D Gaussian Quadrature\n",
    "The book provides the integral\n",
    "$$\n",
    "\\int_{1.4}^{2.0} \\int_{1.0}^{1.5} \\ln (x+2y) \\, dy \\, dx \\approx 0.4295545313.\n",
    "$$\n",
    "\n",
    "So, I'll base my initial construction on this thing. It looks to be defined as\n",
    "\n",
    "$$\n",
    "\\int_{-1}^{1} \\int_{-1}^{1} f(x, y) \\, dy \\, dx \\approx \\sum_{i=1}^{n} \\sum_{j=1}^{n} c_i c_j P(x_i, x_j)\n",
    "$$"
   ]
  },
  {
   "cell_type": "code",
   "execution_count": 7,
   "id": "5058b895",
   "metadata": {},
   "outputs": [],
   "source": [
    "def gaussQuad2D(f, x_bounds, y_bounds, n):\n",
    "    \"\"\"2-D Gaussian Quadrature using Legendre Polynomials\"\"\"\n",
    "    # unpack variables needed for algo\n",
    "    roots, weights = leggauss(n)\n",
    "    a,b = x_bounds\n",
    "    c,d = y_bounds\n",
    "\n",
    "    # perform the double summation shown in the eq above\n",
    "    sum = 0\n",
    "    for i in range(n):\n",
    "        # transform out of x\n",
    "        u = linTransform(roots[i], a, b)\n",
    "        for j in range(n):\n",
    "            # transform out of y\n",
    "            v = linTransform(roots[j], c, d)\n",
    "\n",
    "            sum += weights[i] * weights[j] * f(u, v)\n",
    "\n",
    "    # multiply by the extra coefficient needed from variable substitution\n",
    "    return 0.25 * (b - a) * (d - c) * sum"
   ]
  },
  {
   "cell_type": "code",
   "execution_count": 8,
   "id": "1b889c70",
   "metadata": {},
   "outputs": [
    {
     "name": "stdout",
     "output_type": "stream",
     "text": [
      "0.4295545311524899\n",
      "2.230983195257796\n"
     ]
    }
   ],
   "source": [
    "print(gaussQuad2D(ln_2d, (1.4, 2.0), (1.0, 1.5), 3))\n",
    "print(gaussQuad2D(gaussian_2d, (-1, 1), (-1, 1), 6))"
   ]
  },
  {
   "cell_type": "markdown",
   "id": "bcd8ffe6",
   "metadata": {},
   "source": [
    "The first matches the value provided in the book, and the second agrees with the first few digits from WolframAlpha."
   ]
  },
  {
   "cell_type": "markdown",
   "id": "4a9675bc",
   "metadata": {},
   "source": [
    "## 3-D Cartesian Coordinates Gaussian Quadrature\n",
    "I'm just going to test this against a volume of a cube with side lengths = 2.\n",
    "$$\n",
    "\\int_{0}^{2} \\int_{0}^{2} \\int_{0}^{2} 1 \\, dz \\, dy \\, dx = 2^3 = 8\n",
    "$$\n",
    "I'll go out on a limb and say that the quadrature rule looks something like\n",
    "$$\n",
    "\\int_{-1}^{1} \\int_{-1}^{1} \\int_{-1}^{1} f(x, y, z) \\, dz \\, dy \\, dx \\approx \\sum_{i=1}^{n} \\sum_{j=1}^{n} \\sum_{k=1}^{n} c_i c_j c_k P(x_i, x_j, x_k)\n",
    "$$"
   ]
  },
  {
   "cell_type": "code",
   "execution_count": 9,
   "id": "b9f4c06d",
   "metadata": {},
   "outputs": [],
   "source": [
    "def gaussQuad3D(fxn, x_bounds, y_bounds, z_bounds, n):\n",
    "    \"\"\"3-D Gaussian Quadrature using Legendre Polynomials\"\"\"\n",
    "    # unpack variables needed for algo\n",
    "    roots, weights = leggauss(n)\n",
    "    a,b = x_bounds\n",
    "    c,d = y_bounds\n",
    "    e,f = z_bounds\n",
    "\n",
    "    # perform the triple(!) summation shown in the eq above\n",
    "    sum = 0\n",
    "    for i in range(n):\n",
    "        # transform out of x\n",
    "        u = linTransform(roots[i], a, b)\n",
    "\n",
    "        for j in range(n):\n",
    "            # transform out of y\n",
    "            v = linTransform(roots[j], c, d)\n",
    "\n",
    "            for k in range(n):\n",
    "                #transform out of z\n",
    "                w = linTransform(roots[k], e, f)\n",
    "                sum += weights[i] * weights[j] * weights[k] * fxn(u, v, w)\n",
    "\n",
    "    # multiply by the coefficients due to the variable transforms\n",
    "    return 0.125 * (b-a) * (c - d) * (e - f) * sum"
   ]
  },
  {
   "cell_type": "code",
   "execution_count": 10,
   "id": "3fc56634",
   "metadata": {},
   "outputs": [
    {
     "name": "stdout",
     "output_type": "stream",
     "text": [
      "8.0\n"
     ]
    }
   ],
   "source": [
    "print(gaussQuad3D(const_3D, (0, 2), (0, 2), (0, 2), 1)) # should be 8"
   ]
  },
  {
   "cell_type": "markdown",
   "id": "61565582",
   "metadata": {},
   "source": [
    "## 3-D Cylindrical Coordinates Gaussian Quadrature\n",
    "I'll create this by using a simple test (that being the volume of a cylinder):\n",
    "$$\n",
    "\\int_{0}^{2\\pi} \\int_{0}^{L} \\int_{0}^{R} 1 r \\, dr \\, dz \\, d\\phi = \\pi R^2 L\n",
    "$$\n",
    "I'll set R = 2, and L = 7 to obtain a volume of $28\\pi \\approx 87.964594$"
   ]
  },
  {
   "cell_type": "code",
   "execution_count": 11,
   "id": "65ce7493",
   "metadata": {},
   "outputs": [],
   "source": [
    "def gaussQuad3DCyl(fxn, r_bounds, z_bounds, phi_bounds, n):\n",
    "    \"\"\"Performs 3-D Gaussian Quadrature on functions in cylindrical\n",
    "    coordinates using Legendre Polynomials.\"\"\"\n",
    "    # multiply our function by the volume element\n",
    "    cyl_fxn = lambda r, z, phi: fxn(r, z, phi) * r\n",
    "\n",
    "    # unpack variables needed for algo\n",
    "    roots, weights = leggauss(n) # these weighgivents are ones that go from -1 to 1\n",
    "    a,b = r_bounds\n",
    "    c,d = z_bounds\n",
    "    e,f = phi_bounds\n",
    "\n",
    "    # perform the triple(!) summation as done in the cartesian case\n",
    "    sum = 0\n",
    "    for i in range(n):\n",
    "        # transform out of r\n",
    "        u = linTransform(roots[i], a, b)\n",
    "\n",
    "        for j in range(n):\n",
    "            # transform out of z\n",
    "            v = linTransform(roots[j], c, d)\n",
    "\n",
    "            for k in range(n):\n",
    "                #transform out of phi\n",
    "                w = linTransform(roots[k], e, f)\n",
    "                sum += weights[i] * weights[j] * weights[k] * cyl_fxn(u, v, w)\n",
    "\n",
    "    # multiply by the coefficients due to the linear transforms\n",
    "    return 0.125 * (b-a) * (c - d) * (e - f) * sum"
   ]
  },
  {
   "cell_type": "code",
   "execution_count": 12,
   "id": "fa6b895e",
   "metadata": {},
   "outputs": [
    {
     "name": "stdout",
     "output_type": "stream",
     "text": [
      "CPU times: user 42.4 ms, sys: 1.04 ms, total: 43.4 ms\n",
      "Wall time: 42.3 ms\n"
     ]
    },
    {
     "data": {
      "text/plain": [
       "np.float64(87.96459430051515)"
      ]
     },
     "execution_count": 12,
     "metadata": {},
     "output_type": "execute_result"
    }
   ],
   "source": [
    "%%time\n",
    "gaussQuad3DCyl(const_3D, (0, 2), (0, 7), (0, 2*np.pi), 40)"
   ]
  },
  {
   "cell_type": "markdown",
   "id": "86aa58b0",
   "metadata": {},
   "source": [
    "nice"
   ]
  },
  {
   "cell_type": "markdown",
   "id": "b2d97b50",
   "metadata": {},
   "source": [
    "## Gauss's Law Exercise\n",
    "I'll solve Example 2.4 from Griffiths' *Introduction to Electrodynamics (4th Ed.)* using my quadrature methods.\n",
    "\n",
    "### Analytical\n",
    "The analytical solution for the Gauss's Law is\n",
    "$$\n",
    "|\\textbf{E}| 2\\pi s L = \\frac{1}{\\epsilon_0} \\frac{2}{3} \\pi k L r^3 \\longrightarrow \\textbf{E} = \\frac{kr^2}{3\\epsilon_0}  \\hat{r}\n",
    "$$"
   ]
  },
  {
   "cell_type": "code",
   "execution_count": 13,
   "id": "ed0d8694",
   "metadata": {},
   "outputs": [
    {
     "name": "stdout",
     "output_type": "stream",
     "text": [
      "Quadrature:20.000000000000007 \t Analytical 20.0\n"
     ]
    }
   ],
   "source": [
    "def efldCylinder(r, rho = None):\n",
    "    \"\"\"Evaluate the electric field at a radius `r away from the center of an\n",
    "    infinite line of charge with charge density`rho`.\"\"\"\n",
    "\n",
    "    # if no rho provided, assume uniform charge density\n",
    "    if rho is None:\n",
    "        print(\"assume uniform\")\n",
    "        rho = lambda r, z, phi: 1\n",
    "\n",
    "    # First, find q_enc/epsilon_0, but let epsilon_0 = 1 because its a hassle otherwise\n",
    "    rhs = gaussQuad3DCyl(\n",
    "        rho,\n",
    "        r_bounds=(0, r),\n",
    "        z_bounds=(0, 1),\n",
    "        phi_bounds=(0, 2*np.pi),\n",
    "        n=3\n",
    "    )\n",
    "\n",
    "    # Then, the electric field strength is just the enclosed charge divided by the volume\n",
    "    # of the Gaussian cylinder\n",
    "    return rhs / gaussQuad2D(\n",
    "        lambda r,z: 2*np.pi,\n",
    "        x_bounds=(0, r),\n",
    "        y_bounds=(0, 1),\n",
    "        n=2\n",
    "    )\n",
    "\n",
    "rho_example = lambda r, z, phi: 2.4 * r\n",
    "print(f\"Quadrature:{efldCylinder(5, rho_example)} \\t Analytical {2.4 * 5**2 / 3}\")"
   ]
  },
  {
   "cell_type": "markdown",
   "id": "a3890a02",
   "metadata": {},
   "source": [
    "It works, but it's kind of ugly. My main gripe is with defining the functions for the quadrature implementations- I dont want to have to give extra parameters to the lambdas that I won't use just so it works."
   ]
  },
  {
   "cell_type": "code",
   "execution_count": 14,
   "id": "b0e9acda",
   "metadata": {},
   "outputs": [
    {
     "name": "stdout",
     "output_type": "stream",
     "text": [
      "This lambda depends on OrderedDict({'z': <Parameter \"z\">, 'r': <Parameter \"r\">})\n"
     ]
    }
   ],
   "source": [
    "import inspect\n",
    "\n",
    "def lambdaHelper(fxn):\n",
    "    \n",
    "    print(f\"This lambda depends on {inspect.signature(fxn).parameters}\")\n",
    "    \n",
    "lambdaHelper(lambda z, r: r**2)\n"
   ]
  },
  {
   "cell_type": "markdown",
   "id": "116e01d0",
   "metadata": {},
   "source": [
    "# Numba Quadrature"
   ]
  },
  {
   "cell_type": "code",
   "execution_count": 21,
   "id": "ca7578ac",
   "metadata": {},
   "outputs": [],
   "source": [
    "from numba import jit, prange\n",
    "\n",
    "@jit(nopython=True)\n",
    "def linTransform(t:float, a:float, b:float ) -> float:\n",
    "    \"\"\"Linear transform from [-1,1] to [a,b]\"\"\"\n",
    "    return 0.5 * ((b-a) * t + (a + b))\n",
    "\n",
    "@jit(nopython=True, parallel=True)\n",
    "def nb_cyl_const(r_bounds, z_bounds, phi_bounds, n, roots, weights):\n",
    "    \"\"\"Gaussian quadrature for cylindrical coordinates that evaluates\n",
    "    a constant integrand (aka integral of just the volume element).\n",
    "    Parallelized with Numba.\"\"\"\n",
    "\n",
    "    a,b = r_bounds\n",
    "    c,d = z_bounds\n",
    "    e,f = phi_bounds\n",
    "\n",
    "    # perform the triple(!) summation as done in the cartesian case\n",
    "    sum = 0\n",
    "    for i in range(n):\n",
    "        u = linTransform(roots[i], a, b)\n",
    "        for j in range(n):\n",
    "            for k in prange(n):\n",
    "                sum += weights[i] * weights[j] * weights[k] * u\n",
    "\n",
    "    # multiply by the coefficients due to the linear transforms\n",
    "    return 0.0625 * (b - a) * (d - c) * (f - e) * sum\n",
    "\n",
    "def call_cylindrical_quadrature(quadrature, r_bounds, z_bounds, phi_bounds, n):\n",
    "    # unpack variables needed for algo\n",
    "    roots, weights = np.polynomial.legendre.leggauss(n) # these weights given are ones that go from -1 to 1\n",
    "    return quadrature(r_bounds, z_bounds, phi_bounds, n, roots, weights)"
   ]
  },
  {
   "cell_type": "code",
   "execution_count": 23,
   "id": "8edba512",
   "metadata": {},
   "outputs": [
    {
     "ename": "KeyboardInterrupt",
     "evalue": "",
     "output_type": "error",
     "traceback": [
      "\u001b[31m---------------------------------------------------------------------------\u001b[39m",
      "\u001b[31mKeyboardInterrupt\u001b[39m                         Traceback (most recent call last)",
      "\u001b[36mCell\u001b[39m\u001b[36m \u001b[39m\u001b[32mIn[23]\u001b[39m\u001b[32m, line 1\u001b[39m\n\u001b[32m----> \u001b[39m\u001b[32m1\u001b[39m \u001b[43mget_ipython\u001b[49m\u001b[43m(\u001b[49m\u001b[43m)\u001b[49m\u001b[43m.\u001b[49m\u001b[43mrun_cell_magic\u001b[49m\u001b[43m(\u001b[49m\u001b[33;43m'\u001b[39;49m\u001b[33;43mtimeit\u001b[39;49m\u001b[33;43m'\u001b[39;49m\u001b[43m,\u001b[49m\u001b[43m \u001b[49m\u001b[33;43m'\u001b[39;49m\u001b[33;43m'\u001b[39;49m\u001b[43m,\u001b[49m\u001b[43m \u001b[49m\u001b[33;43m\"\u001b[39;49m\u001b[33;43mcall_cylindrical_quadrature(nb_cyl_const, (0, 2), (0, 7), (0, 2*np.pi), 40)\u001b[39;49m\u001b[38;5;130;43;01m\\n\u001b[39;49;00m\u001b[38;5;130;43;01m\\n\u001b[39;49;00m\u001b[33;43m# i noticed the first call takes a while to compile, then it goes quicker\u001b[39;49m\u001b[38;5;130;43;01m\\n\u001b[39;49;00m\u001b[33;43m# shouldn\u001b[39;49m\u001b[33;43m'\u001b[39;49m\u001b[33;43mt really affect my use cases too much\u001b[39;49m\u001b[38;5;130;43;01m\\n\u001b[39;49;00m\u001b[33;43m# ans -> 87.96459430051482\u001b[39;49m\u001b[38;5;130;43;01m\\n\u001b[39;49;00m\u001b[38;5;130;43;01m\\n\u001b[39;49;00m\u001b[33;43m# optimization logging\u001b[39;49m\u001b[38;5;130;43;01m\\n\u001b[39;49;00m\u001b[33;43m# 1. (initial)                         816 μs ± 27.6 μs per loop (mean ± std. dev. of 7 runs, 1,000 loops each)\u001b[39;49m\u001b[38;5;130;43;01m\\n\u001b[39;49;00m\u001b[33;43m# 2. (remove useless calls)            779 μs ± 3.61 μs per loop (mean ± std. dev. of 7 runs, 1,000 loops each)\u001b[39;49m\u001b[38;5;130;43;01m\\n\u001b[39;49;00m\u001b[33;43m# 3. (remove call to lintransform)     actually didn\u001b[39;49m\u001b[33;43m'\u001b[39;49m\u001b[33;43mt do anything...\u001b[39;49m\u001b[38;5;130;43;01m\\n\u001b[39;49;00m\u001b[33;43m# 4. (try removing writes to c thru f) also didn\u001b[39;49m\u001b[33;43m'\u001b[39;49m\u001b[33;43mt really do anything... in fact it made it worse. thank you numba jit optimizations!\u001b[39;49m\u001b[38;5;130;43;01m\\n\u001b[39;49;00m\u001b[33;43m\"\u001b[39;49m\u001b[43m)\u001b[49m\n",
      "\u001b[36mFile \u001b[39m\u001b[32m~/miniconda3/lib/python3.12/site-packages/IPython/core/interactiveshell.py:2547\u001b[39m, in \u001b[36mInteractiveShell.run_cell_magic\u001b[39m\u001b[34m(self, magic_name, line, cell)\u001b[39m\n\u001b[32m   2545\u001b[39m \u001b[38;5;28;01mwith\u001b[39;00m \u001b[38;5;28mself\u001b[39m.builtin_trap:\n\u001b[32m   2546\u001b[39m     args = (magic_arg_s, cell)\n\u001b[32m-> \u001b[39m\u001b[32m2547\u001b[39m     result = \u001b[43mfn\u001b[49m\u001b[43m(\u001b[49m\u001b[43m*\u001b[49m\u001b[43margs\u001b[49m\u001b[43m,\u001b[49m\u001b[43m \u001b[49m\u001b[43m*\u001b[49m\u001b[43m*\u001b[49m\u001b[43mkwargs\u001b[49m\u001b[43m)\u001b[49m\n\u001b[32m   2549\u001b[39m \u001b[38;5;66;03m# The code below prevents the output from being displayed\u001b[39;00m\n\u001b[32m   2550\u001b[39m \u001b[38;5;66;03m# when using magics with decorator @output_can_be_silenced\u001b[39;00m\n\u001b[32m   2551\u001b[39m \u001b[38;5;66;03m# when the last Python token in the expression is a ';'.\u001b[39;00m\n\u001b[32m   2552\u001b[39m \u001b[38;5;28;01mif\u001b[39;00m \u001b[38;5;28mgetattr\u001b[39m(fn, magic.MAGIC_OUTPUT_CAN_BE_SILENCED, \u001b[38;5;28;01mFalse\u001b[39;00m):\n",
      "\u001b[36mFile \u001b[39m\u001b[32m~/miniconda3/lib/python3.12/site-packages/IPython/core/magics/execution.py:1229\u001b[39m, in \u001b[36mExecutionMagics.timeit\u001b[39m\u001b[34m(self, line, cell, local_ns)\u001b[39m\n\u001b[32m   1226\u001b[39m         \u001b[38;5;28;01mif\u001b[39;00m time_number >= \u001b[32m0.2\u001b[39m:\n\u001b[32m   1227\u001b[39m             \u001b[38;5;28;01mbreak\u001b[39;00m\n\u001b[32m-> \u001b[39m\u001b[32m1229\u001b[39m all_runs = \u001b[43mtimer\u001b[49m\u001b[43m.\u001b[49m\u001b[43mrepeat\u001b[49m\u001b[43m(\u001b[49m\u001b[43mrepeat\u001b[49m\u001b[43m,\u001b[49m\u001b[43m \u001b[49m\u001b[43mnumber\u001b[49m\u001b[43m)\u001b[49m\n\u001b[32m   1230\u001b[39m best = \u001b[38;5;28mmin\u001b[39m(all_runs) / number\n\u001b[32m   1231\u001b[39m worst = \u001b[38;5;28mmax\u001b[39m(all_runs) / number\n",
      "\u001b[36mFile \u001b[39m\u001b[32m~/miniconda3/lib/python3.12/timeit.py:208\u001b[39m, in \u001b[36mTimer.repeat\u001b[39m\u001b[34m(self, repeat, number)\u001b[39m\n\u001b[32m    206\u001b[39m r = []\n\u001b[32m    207\u001b[39m \u001b[38;5;28;01mfor\u001b[39;00m i \u001b[38;5;129;01min\u001b[39;00m \u001b[38;5;28mrange\u001b[39m(repeat):\n\u001b[32m--> \u001b[39m\u001b[32m208\u001b[39m     t = \u001b[38;5;28;43mself\u001b[39;49m\u001b[43m.\u001b[49m\u001b[43mtimeit\u001b[49m\u001b[43m(\u001b[49m\u001b[43mnumber\u001b[49m\u001b[43m)\u001b[49m\n\u001b[32m    209\u001b[39m     r.append(t)\n\u001b[32m    210\u001b[39m \u001b[38;5;28;01mreturn\u001b[39;00m r\n",
      "\u001b[36mFile \u001b[39m\u001b[32m~/miniconda3/lib/python3.12/site-packages/IPython/core/magics/execution.py:182\u001b[39m, in \u001b[36mTimer.timeit\u001b[39m\u001b[34m(self, number)\u001b[39m\n\u001b[32m    180\u001b[39m gc.disable()\n\u001b[32m    181\u001b[39m \u001b[38;5;28;01mtry\u001b[39;00m:\n\u001b[32m--> \u001b[39m\u001b[32m182\u001b[39m     timing = \u001b[38;5;28;43mself\u001b[39;49m\u001b[43m.\u001b[49m\u001b[43minner\u001b[49m\u001b[43m(\u001b[49m\u001b[43mit\u001b[49m\u001b[43m,\u001b[49m\u001b[43m \u001b[49m\u001b[38;5;28;43mself\u001b[39;49m\u001b[43m.\u001b[49m\u001b[43mtimer\u001b[49m\u001b[43m)\u001b[49m\n\u001b[32m    183\u001b[39m \u001b[38;5;28;01mfinally\u001b[39;00m:\n\u001b[32m    184\u001b[39m     \u001b[38;5;28;01mif\u001b[39;00m gcold:\n",
      "\u001b[36mFile \u001b[39m\u001b[32m<magic-timeit>:1\u001b[39m, in \u001b[36minner\u001b[39m\u001b[34m(_it, _timer)\u001b[39m\n",
      "\u001b[36mCell\u001b[39m\u001b[36m \u001b[39m\u001b[32mIn[21]\u001b[39m\u001b[32m, line 32\u001b[39m, in \u001b[36mcall_cylindrical_quadrature\u001b[39m\u001b[34m(quadrature, r_bounds, z_bounds, phi_bounds, n)\u001b[39m\n\u001b[32m     29\u001b[39m \u001b[38;5;28;01mdef\u001b[39;00m \u001b[34mcall_cylindrical_quadrature\u001b[39m(quadrature, r_bounds, z_bounds, phi_bounds, n):\n\u001b[32m     30\u001b[39m     \u001b[38;5;66;03m# unpack variables needed for algo\u001b[39;00m\n\u001b[32m     31\u001b[39m     roots, weights = np.polynomial.legendre.leggauss(n) \u001b[38;5;66;03m# these weights given are ones that go from -1 to 1\u001b[39;00m\n\u001b[32m---> \u001b[39m\u001b[32m32\u001b[39m     \u001b[38;5;28;01mreturn\u001b[39;00m \u001b[43mquadrature\u001b[49m\u001b[43m(\u001b[49m\u001b[43mr_bounds\u001b[49m\u001b[43m,\u001b[49m\u001b[43m \u001b[49m\u001b[43mz_bounds\u001b[49m\u001b[43m,\u001b[49m\u001b[43m \u001b[49m\u001b[43mphi_bounds\u001b[49m\u001b[43m,\u001b[49m\u001b[43m \u001b[49m\u001b[43mn\u001b[49m\u001b[43m,\u001b[49m\u001b[43m \u001b[49m\u001b[43mroots\u001b[49m\u001b[43m,\u001b[49m\u001b[43m \u001b[49m\u001b[43mweights\u001b[49m\u001b[43m)\u001b[49m\n",
      "\u001b[31mKeyboardInterrupt\u001b[39m: "
     ]
    }
   ],
   "source": [
    "%%timeit\n",
    "call_cylindrical_quadrature(nb_cyl_const, (0, 2), (0, 7), (0, 2*np.pi), 40)\n",
    "\n",
    "# i noticed the first call takes a while to compile, then it goes quicker\n",
    "# shouldn't really affect my use cases too much\n",
    "# ans -> 87.96459430051482\n",
    "\n",
    "# optimization logging\n",
    "# 1. (initial)                         816 μs ± 27.6 μs per loop (mean ± std. dev. of 7 runs, 1,000 loops each)\n",
    "# 2. (remove useless calls)            779 μs ± 3.61 μs per loop (mean ± std. dev. of 7 runs, 1,000 loops each)\n",
    "# 3. (remove call to lintransform)     actually didn't do anything...\n",
    "# 4. (try removing writes to c thru f) also didn't really do anything... in fact it made it worse. thank you numba jit optimizations!"
   ]
  },
  {
   "cell_type": "code",
   "execution_count": 17,
   "id": "72b019f8",
   "metadata": {},
   "outputs": [
    {
     "name": "stdout",
     "output_type": "stream",
     "text": [
      "41.4 ms ± 2.61 ms per loop (mean ± std. dev. of 7 runs, 10 loops each)\n"
     ]
    }
   ],
   "source": [
    "%%timeit\n",
    "gaussQuad3DCyl(const_3D, (0, 2), (0, 7), (0, 2*np.pi), 40)"
   ]
  }
 ],
 "metadata": {
  "kernelspec": {
   "display_name": "base",
   "language": "python",
   "name": "python3"
  },
  "language_info": {
   "codemirror_mode": {
    "name": "ipython",
    "version": 3
   },
   "file_extension": ".py",
   "mimetype": "text/x-python",
   "name": "python",
   "nbconvert_exporter": "python",
   "pygments_lexer": "ipython3",
   "version": "3.12.2"
  }
 },
 "nbformat": 4,
 "nbformat_minor": 5
}
