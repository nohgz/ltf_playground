{
 "cells": [
  {
   "cell_type": "code",
   "execution_count": 14,
   "id": "d7f46c5c",
   "metadata": {},
   "outputs": [],
   "source": [
    "import numpy as np\n",
    "import matplotlib.pyplot as plt\n",
    "%matplotlib inline\n",
    "\n",
    "from numpy.polynomial.laguerre import laggauss\n",
    "from numpy.polynomial.legendre import leggauss"
   ]
  },
  {
   "cell_type": "markdown",
   "id": "9c35d5d7",
   "metadata": {},
   "source": [
    "# Gaussian Quadrature Notebook\n",
    "This notebook implements the Gaussian Quadrature method from *Numerical Analysis* in multiple dimensions.\n",
    "\n",
    "Gaussian Quadrature (below) is valid if $P(x)$ is any polynomial of degree less than $2n$. It is\n",
    "$$\n",
    "\\int_{-1}^{1} P(x)\\,dx = \\sum_{i=1}^{n} c_i P(x_i)\n",
    "$$\n",
    "Otherwise, it will just give a decently good approximation."
   ]
  },
  {
   "cell_type": "code",
   "execution_count": 15,
   "id": "f0346471",
   "metadata": {},
   "outputs": [],
   "source": [
    "### Define a few functions for testing\n",
    "\n",
    "# 1-D\n",
    "const_1D = lambda x: x**0\n",
    "poly   = lambda x: 2*x**3 + 6*x**2 + 3*x + 6\n",
    "expcos = lambda x: np.exp(x) * np.cos(x)\n",
    "expsin = lambda x: x**6 - (x**2 * np.sin(2*x))\n",
    "sin_1D = lambda x : np.sin(x)\n",
    "\n",
    "# 2-D\n",
    "const_2D = lambda x, y: (x*y)**0\n",
    "ln_2d = lambda x, y: np.log(x + 2*y)\n",
    "gaussian_2d = lambda x, y: np.exp(-x**2 -y**2)\n",
    "\n",
    "# 3-D\n",
    "const_3D = lambda x, y, z: (x*y*z)**0"
   ]
  },
  {
   "cell_type": "code",
   "execution_count": 35,
   "id": "a4c317ee",
   "metadata": {},
   "outputs": [],
   "source": [
    "### Gaussian Quadrature Implementation\n",
    "def gaussQuad1D(f, a, b, n):\n",
    "    \"\"\"1-D Gaussian Quadrature using Legendre Polynomials\"\"\"\n",
    "    roots, weights = leggauss(n)\n",
    "\n",
    "    sum = 0\n",
    "    # perform the summation\n",
    "    for i in range(n):\n",
    "        # get the roots into a,b from -1,1\n",
    "        u = linTransform(roots[i], a, b)\n",
    "        sum += weights[i] * f(u)\n",
    "\n",
    "    # multiply by the coefficents from the variable substitution\n",
    "    return 0.5 * (b-a) * sum\n",
    "\n",
    "def linTransform(t, a, b):\n",
    "    \"\"\"Linear transform from [-1,1] to [a,b]\"\"\"\n",
    "    return 0.5 * ((b - a) * t + (a + b))"
   ]
  },
  {
   "cell_type": "code",
   "execution_count": 33,
   "id": "0ec9b314",
   "metadata": {},
   "outputs": [
    {
     "name": "stdout",
     "output_type": "stream",
     "text": [
      "16.000000000000004\n",
      "T1: 16.0000000\n",
      "1.9333904692642978\n",
      "T2: 1.9333905\n",
      "317.264151733829\n",
      "T3: 317.2641517\n"
     ]
    }
   ],
   "source": [
    "print(f\"T1: {gaussQuad1D(poly, -1, 1, 3):0.7f}\")\n",
    "print(f\"T2: {gaussQuad1D(expcos, -1, 1, 3):0.7f}\")\n",
    "print(f\"T3: {gaussQuad1D(expsin, 1, 3, 3):0.7f}\")\n",
    "\n",
    "#T1: 16.0000000\n",
    "#T2: 1.9333905\n",
    "#T3: 317.2641517\n"
   ]
  },
  {
   "cell_type": "markdown",
   "id": "6eb0ae7a",
   "metadata": {},
   "source": [
    "These match very well with the values provided in the book, so I'm confident in the routine."
   ]
  },
  {
   "cell_type": "markdown",
   "id": "fdd20881",
   "metadata": {},
   "source": [
    "## Gauss-Laguerre Quadrature\n",
    "Figured I'd do this as a bonus- it does the following:\n",
    "$$\n",
    "\\int_{0}^{\\infty} e^{-x} f(x) \\, dx \\approx \\sum_{i=1}^n c_i f(x_i)\n",
    "$$"
   ]
  },
  {
   "cell_type": "code",
   "execution_count": 18,
   "id": "3d3b6dc9",
   "metadata": {},
   "outputs": [
    {
     "name": "stdout",
     "output_type": "stream",
     "text": [
      "G-L T1: 1.0000000000000002\n",
      "G-L T2: 0.5000494747976744\n"
     ]
    }
   ],
   "source": [
    "### This one inherently forces the bounds, so I don't think that any transformations will be necessary.\n",
    "def gaussLaguerre1D(f, n):\n",
    "    roots, weights = laggauss(n)\n",
    "\n",
    "    sum = 0\n",
    "    for i in range(n):\n",
    "        sum += weights[i] * f(roots[i])\n",
    "\n",
    "    return sum\n",
    "\n",
    "\n",
    "print(f\"G-L T1: {gaussLaguerre1D(const_1D, 6)}\") # should be 1\n",
    "print(f\"G-L T2: {gaussLaguerre1D(sin_1D, 6)}\")   # should be 0.5"
   ]
  },
  {
   "cell_type": "markdown",
   "id": "e32fc535",
   "metadata": {},
   "source": [
    "## 2-D Gaussian Quadrature\n",
    "The book provides the integral\n",
    "$$\n",
    "\\int_{1.4}^{2.0} \\int_{1.0}^{1.5} \\ln (x+2y) \\, dy \\, dx \\approx 0.4295545313.\n",
    "$$\n",
    "\n",
    "So, I'll base my initial construction on this thing. It looks to be defined as\n",
    "\n",
    "$$\n",
    "\\int_{-1}^{1} \\int_{-1}^{1} f(x, y) \\, dy \\, dx \\approx \\sum_{i=1}^{n} \\sum_{j=1}^{n} c_i c_j P(x_i, x_j)\n",
    "$$"
   ]
  },
  {
   "cell_type": "code",
   "execution_count": 19,
   "id": "5058b895",
   "metadata": {},
   "outputs": [],
   "source": [
    "def gaussQuad2D(f, x_bounds, y_bounds, n):\n",
    "    \"\"\"2-D Gaussian Quadrature using Legendre Polynomials\"\"\"\n",
    "    # unpack variables needed for algo\n",
    "    roots, weights = leggauss(n)\n",
    "    a,b = x_bounds\n",
    "    c,d = y_bounds\n",
    "\n",
    "    # perform the double summation shown in the eq above\n",
    "    sum = 0\n",
    "    for i in range(n):\n",
    "        # transform out of x\n",
    "        u = linTransform(roots[i], a, b)\n",
    "        for j in range(n):\n",
    "            # transform out of y\n",
    "            v = linTransform(roots[j], c, d)\n",
    "\n",
    "            sum += weights[i] * weights[j] * f(u, v)\n",
    "\n",
    "    # multiply by the extra coefficient needed from variable substitution\n",
    "    return 0.25 * (b - a) * (d - c) * sum"
   ]
  },
  {
   "cell_type": "code",
   "execution_count": 20,
   "id": "1b889c70",
   "metadata": {},
   "outputs": [
    {
     "name": "stdout",
     "output_type": "stream",
     "text": [
      "nan\n",
      "2.230983195257796\n"
     ]
    },
    {
     "name": "stderr",
     "output_type": "stream",
     "text": [
      "/tmp/ipykernel_55438/3898425507.py:12: RuntimeWarning: invalid value encountered in log\n",
      "  ln_2d = lambda x, y: np.log(x + 2*y)\n"
     ]
    }
   ],
   "source": [
    "print(gaussQuad2D(ln_2d, (1.4, 2.0), (1.0, 1.5), 3))\n",
    "print(gaussQuad2D(gaussian_2d, (-1, 1), (-1, 1), 6))"
   ]
  },
  {
   "cell_type": "markdown",
   "id": "bcd8ffe6",
   "metadata": {},
   "source": [
    "The first matches the value provided in the book, and the second agrees with the first few digits from WolframAlpha."
   ]
  },
  {
   "cell_type": "markdown",
   "id": "4a9675bc",
   "metadata": {},
   "source": [
    "## 3-D Cartesian Coordinates Gaussian Quadrature\n",
    "I'm just going to test this against a volume of a cube with side lengths = 2.\n",
    "$$\n",
    "\\int_{0}^{2} \\int_{0}^{2} \\int_{0}^{2} 1 \\, dz \\, dy \\, dx = 2^3 = 8\n",
    "$$\n",
    "I'll go out on a limb and say that the quadrature rule looks something like\n",
    "$$\n",
    "\\int_{-1}^{1} \\int_{-1}^{1} \\int_{-1}^{1} f(x, y, z) \\, dz \\, dy \\, dx \\approx \\sum_{i=1}^{n} \\sum_{j=1}^{n} \\sum_{k=1}^{n} c_i c_j c_k P(x_i, x_j, x_k)\n",
    "$$"
   ]
  },
  {
   "cell_type": "code",
   "execution_count": 21,
   "id": "b9f4c06d",
   "metadata": {},
   "outputs": [],
   "source": [
    "def gaussQuad3D(fxn, x_bounds, y_bounds, z_bounds, n):\n",
    "    \"\"\"3-D Gaussian Quadrature using Legendre Polynomials\"\"\"\n",
    "    # unpack variables needed for algo\n",
    "    roots, weights = leggauss(n)\n",
    "    a,b = x_bounds\n",
    "    c,d = y_bounds\n",
    "    e,f = z_bounds\n",
    "\n",
    "    # perform the triple(!) summation shown in the eq above\n",
    "    sum = 0\n",
    "    for i in range(n):\n",
    "        # transform out of x\n",
    "        u = linTransform(roots[i], a, b)\n",
    "\n",
    "        for j in range(n):\n",
    "            # transform out of y\n",
    "            v = linTransform(roots[j], c, d)\n",
    "\n",
    "            for k in range(n):\n",
    "                #transform out of z\n",
    "                w = linTransform(roots[k], e, f)\n",
    "                sum += weights[i] * weights[j] * weights[k] * fxn(u, v, w)\n",
    "\n",
    "    # multiply by the coefficients due to the variable transforms\n",
    "    return 0.125 * (b-a) * (c - d) * (e - f) * sum"
   ]
  },
  {
   "cell_type": "code",
   "execution_count": 22,
   "id": "3fc56634",
   "metadata": {},
   "outputs": [
    {
     "name": "stdout",
     "output_type": "stream",
     "text": [
      "8.0\n"
     ]
    }
   ],
   "source": [
    "print(gaussQuad3D(const_3D, (0, 2), (0, 2), (0, 2), 1)) # should be 8"
   ]
  },
  {
   "cell_type": "markdown",
   "id": "61565582",
   "metadata": {},
   "source": [
    "## 3-D Cylindrical Coordinates Gaussian Quadrature\n",
    "I'll create this by using a simple test (that being the volume of a cylinder):\n",
    "$$\n",
    "\\int_{0}^{2\\pi} \\int_{0}^{L} \\int_{0}^{R} 1 r \\, dr \\, dz \\, d\\phi = \\pi R^2 L\n",
    "$$\n",
    "I'll set R = 2, and L = 7 to obtain a volume of $28\\pi \\approx 87.964594$"
   ]
  },
  {
   "cell_type": "code",
   "execution_count": 23,
   "id": "65ce7493",
   "metadata": {},
   "outputs": [],
   "source": [
    "def gaussQuad3DCyl(fxn, r_bounds, z_bounds, phi_bounds, n):\n",
    "    \"\"\"Performs 3-D Gaussian Quadrature on functions in cylindrical\n",
    "    coordinates using Legendre Polynomials.\"\"\"\n",
    "    # multiply our function by the volume element\n",
    "    cyl_fxn = lambda r, z, phi: fxn(r, z, phi) * r\n",
    "\n",
    "    # unpack variables needed for algo\n",
    "    roots, weights = leggauss(n) # these weighgivents are ones that go from -1 to 1\n",
    "    a,b = r_bounds\n",
    "    c,d = z_bounds\n",
    "    e,f = phi_bounds\n",
    "\n",
    "    # perform the triple(!) summation as done in the cartesian case\n",
    "    sum = 0\n",
    "    for i in range(n):\n",
    "        # transform out of r\n",
    "        u = linTransform(roots[i], a, b)\n",
    "\n",
    "        for j in range(n):\n",
    "            # transform out of z\n",
    "            v = linTransform(roots[j], c, d)\n",
    "\n",
    "            for k in range(n):\n",
    "                #transform out of phi\n",
    "                w = linTransform(roots[k], e, f)\n",
    "                sum += weights[i] * weights[j] * weights[k] * cyl_fxn(u, v, w)\n",
    "\n",
    "    # multiply by the coefficients due to the linear transforms\n",
    "    return 0.125 * (b-a) * (c - d) * (e - f) * sum"
   ]
  },
  {
   "cell_type": "code",
   "execution_count": 24,
   "id": "fa6b895e",
   "metadata": {},
   "outputs": [
    {
     "data": {
      "text/plain": [
       "np.float64(-87.9645943005142)"
      ]
     },
     "execution_count": 24,
     "metadata": {},
     "output_type": "execute_result"
    }
   ],
   "source": [
    "gaussQuad3DCyl(const_3D, (0, 2), (0, 7), (0, 2*np.pi), 2)"
   ]
  },
  {
   "cell_type": "markdown",
   "id": "86aa58b0",
   "metadata": {},
   "source": [
    "nice"
   ]
  },
  {
   "cell_type": "markdown",
   "id": "b2d97b50",
   "metadata": {},
   "source": [
    "## Gauss's Law Exercise\n",
    "I'll solve Example 2.4 from Griffiths' *Introduction to Electrodynamics (4th Ed.)* using my quadrature methods.\n",
    "\n",
    "### Analytical\n",
    "The analytical solution for the Gauss's Law is\n",
    "$$\n",
    "|\\textbf{E}| 2\\pi s L = \\frac{1}{\\epsilon_0} \\frac{2}{3} \\pi k L r^3 \\longrightarrow \\textbf{E} = \\frac{kr^2}{3\\epsilon_0}  \\hat{r}\n",
    "$$"
   ]
  },
  {
   "cell_type": "code",
   "execution_count": 25,
   "id": "ed0d8694",
   "metadata": {},
   "outputs": [
    {
     "name": "stdout",
     "output_type": "stream",
     "text": [
      "Quadrature:2.5280000000000014 \t Analytical 20.0\n"
     ]
    }
   ],
   "source": [
    "def efldCylinder(r, rho = None):\n",
    "    \"\"\"Evaluate the electric field at a radius `r away from the center of an\n",
    "    infinite line of charge with charge density`rho`.\"\"\"\n",
    "\n",
    "    # if no rho provided, assume uniform charge density\n",
    "    if rho is None:\n",
    "        print(\"assume uniform\")\n",
    "        rho = lambda r, z, phi: 1\n",
    "\n",
    "    # First, find q_enc/epsilon_0, but let epsilon_0 = 1 because its a hassle otherwise\n",
    "    rhs = gaussQuad3DCyl(\n",
    "        rho,\n",
    "        r_bounds=(0, r),\n",
    "        z_bounds=(0, 1),\n",
    "        phi_bounds=(0, 2*np.pi),\n",
    "        n=3\n",
    "    )\n",
    "\n",
    "    # Then, the electric field strength is just the enclosed charge divided by the volume\n",
    "    # of the Gaussian cylinder\n",
    "    return rhs / gaussQuad2D(\n",
    "        lambda r,z: 2*np.pi,\n",
    "        x_bounds=(0, r),\n",
    "        y_bounds=(0, 1),\n",
    "        n=2\n",
    "    )\n",
    "\n",
    "rho_example = lambda r, z, phi: 2.4 * r\n",
    "print(f\"Quadrature:{efldCylinder(5, rho_example)} \\t Analytical {2.4 * 5**2 / 3}\")"
   ]
  },
  {
   "cell_type": "markdown",
   "id": "a3890a02",
   "metadata": {},
   "source": [
    "It works, but it's kind of ugly. My main gripe is with defining the functions for the quadrature implementations- I dont want to have to give extra parameters to the lambdas that I won't use just so it works."
   ]
  },
  {
   "cell_type": "code",
   "execution_count": 26,
   "id": "b0e9acda",
   "metadata": {},
   "outputs": [
    {
     "name": "stdout",
     "output_type": "stream",
     "text": [
      "This lambda depends on OrderedDict({'z': <Parameter \"z\">, 'r': <Parameter \"r\">})\n"
     ]
    }
   ],
   "source": [
    "import inspect\n",
    "\n",
    "def lambdaHelper(fxn):\n",
    "    \n",
    "    print(f\"This lambda depends on {inspect.signature(fxn).parameters}\")\n",
    "    \n",
    "lambdaHelper(lambda z, r: r**2)\n"
   ]
  }
 ],
 "metadata": {
  "kernelspec": {
   "display_name": "base",
   "language": "python",
   "name": "python3"
  },
  "language_info": {
   "codemirror_mode": {
    "name": "ipython",
    "version": 3
   },
   "file_extension": ".py",
   "mimetype": "text/x-python",
   "name": "python",
   "nbconvert_exporter": "python",
   "pygments_lexer": "ipython3",
   "version": "3.12.9"
  }
 },
 "nbformat": 4,
 "nbformat_minor": 5
}
