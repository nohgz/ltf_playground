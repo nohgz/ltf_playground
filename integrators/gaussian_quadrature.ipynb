{
 "cells": [
  {
   "cell_type": "code",
   "execution_count": 2,
   "id": "d7f46c5c",
   "metadata": {},
   "outputs": [],
   "source": [
    "import numpy as np\n",
    "import matplotlib.pyplot as plt\n",
    "%matplotlib inline\n",
    "\n",
    "from numpy.polynomial.laguerre import laggauss\n",
    "from numpy.polynomial.legendre import leggauss"
   ]
  },
  {
   "cell_type": "markdown",
   "id": "9c35d5d7",
   "metadata": {},
   "source": [
    "# Gaussian Quadrature Notebook\n",
    "This notebook implements the Gaussian Quadrature method from *Numerical Analysis* in multiple dimensions.\n",
    "\n",
    "Gaussian Quadrature (below) is valid if $P(x)$ is any polynomial of degree less than $2n$. It is\n",
    "$$\n",
    "\\int_{-1}^{1} P(x)\\,dx = \\sum_{i=1}^{n} c_i P(x_i)\n",
    "$$\n",
    "Otherwise, it will just give a decently good approximation."
   ]
  },
  {
   "cell_type": "code",
   "execution_count": 3,
   "id": "f0346471",
   "metadata": {},
   "outputs": [],
   "source": [
    "poly   = lambda x: 2*x**3 + 6*x**2 + 3*x + 6\n",
    "expcos = lambda x: np.exp(x) * np.cos(x)\n",
    "expsin = lambda x: x**6 - (x**2 * np.sin(2*x))"
   ]
  },
  {
   "cell_type": "code",
   "execution_count": 4,
   "id": "a4c317ee",
   "metadata": {},
   "outputs": [],
   "source": [
    "### Gaussian Quadrature Implementation\n",
    "def gaussQuad1D(f, a, b, n):\n",
    "    \"\"\"1-D Gaussian Quadrature using Legendre Polynomials\"\"\"\n",
    "\n",
    "    roots, weights = leggauss(n)\n",
    "\n",
    "    sum = 0\n",
    "    # perform the summation\n",
    "    for i in range(n):\n",
    "        # do transformation to account for all ranges\n",
    "        # i have to do a negative here because the roots from leggaus\n",
    "        # is negative of what I want\n",
    "        x = linTransform(roots[i], a, b)\n",
    "        sum += weights[i] * f(x)\n",
    "\n",
    "    # multiply by the coefficents from the variable substitution\n",
    "    return 0.5 * (b - a) * sum\n",
    "\n",
    "def linTransform(t, a, b):\n",
    "    \"\"\"Linear transformation for turning bounds from (a, b) to (-1, 1) to be used in Gaussian quadrature\"\"\"\n",
    "    return 0.5 * ((b - a) * t + a + b)"
   ]
  },
  {
   "cell_type": "code",
   "execution_count": 5,
   "id": "0ec9b314",
   "metadata": {},
   "outputs": [
    {
     "name": "stdout",
     "output_type": "stream",
     "text": [
      "T1: 16.0000000\n",
      "T2: 1.9333905\n",
      "T3: 317.2641517\n"
     ]
    }
   ],
   "source": [
    "print(f\"T1: {gaussQuad1D(poly, -1, 1, 3):0.7f}\")\n",
    "print(f\"T2: {gaussQuad1D(expcos, -1, 1, 3):0.7f}\")\n",
    "print(f\"T3: {gaussQuad1D(expsin, 1, 3, 3):0.7f}\")"
   ]
  },
  {
   "cell_type": "markdown",
   "id": "6eb0ae7a",
   "metadata": {},
   "source": [
    "These match very well with the values provided in the book, so I'm confident in the routine."
   ]
  },
  {
   "cell_type": "markdown",
   "id": "e32fc535",
   "metadata": {},
   "source": [
    "## 2-D Gaussian Quadrature\n",
    "The book provides the integral\n",
    "$$\n",
    "\\int_{1.4}^{2.0} \\int_{1.0}^{1.5} \\ln (x+2y) \\, dy \\, dx \\approx 0.4295545313.\n",
    "$$\n",
    "\n",
    "So, I'll base my initial construction on this thing. It looks to be defined as\n",
    "\n",
    "$$\n",
    "\\int_{-1}^{1} \\int_{-1}^{1} f(x, y) \\, dy \\, dx \\approx \\sum_{i=1}^{n} \\sum_{j=1}^{n} c_i c_j P(x_i, x_j)\n",
    "$$"
   ]
  },
  {
   "cell_type": "code",
   "execution_count": 6,
   "id": "5058b895",
   "metadata": {},
   "outputs": [],
   "source": [
    "def gaussQuad2D(f, x_bounds, y_bounds, n):\n",
    "    # unpack variables needed for algo\n",
    "    roots, weights = leggauss(n)\n",
    "    a,b = x_bounds\n",
    "    c,d = y_bounds\n",
    "\n",
    "    # perform the double summation shown in the eq above\n",
    "    sum = 0\n",
    "    for i in range(n):\n",
    "        # transform into x\n",
    "        u = linTransform(roots[i], a, b)\n",
    "        for j in range(n):\n",
    "            # transform into y\n",
    "            v = linTransform(roots[j], c, d)\n",
    "            \n",
    "            sum += weights[i] * weights[j] * f(u, v)\n",
    "\n",
    "    # multiply by the extra coefficient needed from variable substitution\n",
    "    return 0.25 * (b - a) * (d - c) * sum"
   ]
  },
  {
   "cell_type": "code",
   "execution_count": 7,
   "id": "a14a4ab5",
   "metadata": {},
   "outputs": [],
   "source": [
    "ln_2d = lambda x, y: np.log(x + 2*y)\n",
    "gaussian_2d = lambda x, y: np.exp(-x**2 -y**2)"
   ]
  },
  {
   "cell_type": "code",
   "execution_count": 8,
   "id": "1b889c70",
   "metadata": {},
   "outputs": [
    {
     "name": "stdout",
     "output_type": "stream",
     "text": [
      "0.4295545311524899\n",
      "2.230983195257796\n"
     ]
    }
   ],
   "source": [
    "print(gaussQuad2D(ln_2d, (1.4, 2.0), (1.0, 1.5), 3))\n",
    "print(gaussQuad2D(gaussian_2d, (-1, 1), (-1, 1), 6))"
   ]
  },
  {
   "cell_type": "markdown",
   "id": "bcd8ffe6",
   "metadata": {},
   "source": [
    "The first matches the value provided in the book, and the second agrees with the first few digits from WolframAlpha. Extrapolating this to 3-D is pretty trivial, so I will skip it."
   ]
  },
  {
   "cell_type": "markdown",
   "id": "9b4f3745",
   "metadata": {},
   "source": [
    "## Gauss-Laguerre Quadrature\n",
    "Figured I'd do this as a bonus- it does the following:\n",
    "$$\n",
    "\\int_{0}^{\\infty} e^{-x} f(x) \\, dx \\approx \\sum_{i=1}^n c_i f(x_i)\n",
    "$$"
   ]
  },
  {
   "cell_type": "code",
   "execution_count": null,
   "id": "65ce7493",
   "metadata": {},
   "outputs": [],
   "source": [
    "def gaussLaguerre1D():"
   ]
  }
 ],
 "metadata": {
  "kernelspec": {
   "display_name": "base",
   "language": "python",
   "name": "python3"
  },
  "language_info": {
   "codemirror_mode": {
    "name": "ipython",
    "version": 3
   },
   "file_extension": ".py",
   "mimetype": "text/x-python",
   "name": "python",
   "nbconvert_exporter": "python",
   "pygments_lexer": "ipython3",
   "version": "3.12.9"
  }
 },
 "nbformat": 4,
 "nbformat_minor": 5
}
