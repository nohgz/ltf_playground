{
 "cells": [
  {
   "cell_type": "markdown",
   "id": "a7aa2694",
   "metadata": {},
   "source": [
    "# Lorentz Booster\n",
    "- Generate a whole bunch of particles moving at some relative velocity, then lorentz boost into their frame. This is done compactly by\n",
    "$$\n",
    "\\bar{\\eta}^\\mu = \\Lambda^\\mu_\\nu \\eta^\\nu\n",
    "$$\n",
    "where $\\eta$ is the "
   ]
  },
  {
   "cell_type": "code",
   "execution_count": 1,
   "id": "4e7cfd40",
   "metadata": {},
   "outputs": [],
   "source": [
    "from enum import Enum\n",
    "import numpy as np\n",
    "import matplotlib.pyplot as plt\n",
    "from numpy.linalg import norm\n",
    "%matplotlib inline\n",
    "\n",
    "# my own little library for dealing with four vectors\n",
    "import fourvectors"
   ]
  },
  {
   "cell_type": "code",
   "execution_count": 2,
   "id": "77a0d298",
   "metadata": {},
   "outputs": [],
   "source": [
    "### Constants\n",
    "c = 3E8\n",
    "\n",
    "### Create enums of particle properties, could be useful for multi-species experiments\n",
    "class Proton(Enum):\n",
    "    NAME   = \"PROTON\"\n",
    "    MASS   = 1.672E-27 #kg\n",
    "    CHARGE = 1.602E-19 #C\n",
    "\n",
    "class Electron(Enum):\n",
    "    NAME   = \"ELECTRON\"\n",
    "    MASS   = 9.109E-21 #kg\n",
    "    CHARGE =-1.602E-19 #C\n",
    "\n",
    "class Reference(Enum):\n",
    "    \"\"\"A particle that is simply here to be a reference point.\"\"\"\n",
    "    NAME   = \"REFERENCE PARTICLE\"\n",
    "    MASS   = 0        #kg\n",
    "    CHARGE = 0        #C"
   ]
  },
  {
   "cell_type": "code",
   "execution_count": null,
   "id": "c139f90b",
   "metadata": {},
   "outputs": [],
   "source": [
    "### Create the particle class, this holds all of the nice info about each particle\n",
    "class Particle():\n",
    "    def __init__(\n",
    "            self,\n",
    "            species,\n",
    "            pos  = None,  # a four vector\n",
    "            v0   = None,  # a three-velocity\n",
    "            eta0 = None,  # a four-velocity\n",
    "            frame= \"LAB\"  # defaults to lab frame\n",
    "        ):\n",
    "\n",
    "        # if no initial three-velocity specified, assume 0\n",
    "        if v0 is None:\n",
    "            eta0 = np.array([0, 0, 0, 0])\n",
    "        else:\n",
    "            # otherwise set the four velocity to match it\n",
    "            eta0 = fourvectors.to_four_velocity(v0)\n",
    "\n",
    "        # if no initial four-velocity specified, assume 0\n",
    "        if eta0 is None:\n",
    "            eta0 = np.array([0, 0, 0, 0])\n",
    "\n",
    "        # if no position specified, assume origin\n",
    "        if pos is None:\n",
    "            pos = np.array([0, 0, 0, 0])\n",
    "\n",
    "        # Get the parameters from the species of particle\n",
    "        self.name = species.NAME.value\n",
    "        self.mass = species.MASS.value\n",
    "        self.charge = species.CHARGE.value\n",
    "\n",
    "        self.eta = eta0\n",
    "        self.frame = frame\n",
    "\n",
    "    ### Lorentz Boost Functionality\n",
    "    def lorentz_boost_to(self, other):\n",
    "        \"\"\"Lorentz boost to another particle's frame\"\"\"\n",
    "\n",
    "        # if the frame is lab, then we're boosting to another particle\n",
    "        if self.frame == \"LAB\":\n",
    "            self.frame = other.name\n",
    "        else:\n",
    "            self.frame = other.frame\n",
    "\n",
    "        self.lorentz_boost_from_4v(other.eta)\n",
    "\n",
    "    def lorentz_boost_from_4v(self, to_eta):\n",
    "        \"\"\"Lorentz boost given a four-velocity\"\"\"\n",
    "        self.eta = np.linalg.matmul(fourvectors.lorentz_matrix_x_4v(to_eta), self.eta)\n",
    "\n",
    "    def lorentz_boost_from_3v(self, to_v):\n",
    "        \"\"\"Lorentz boost given a three-velocity\"\"\"\n",
    "        self.lorentz_boost_from_4v(fourvectors.to_four_velocity(to_v))\n",
    "\n",
    "\n",
    "\n",
    "    ### Getters\n",
    "    def get_3v(self):\n",
    "        return fourvectors.to_three_velocity(self.eta)"
   ]
  },
  {
   "cell_type": "code",
   "execution_count": 44,
   "id": "557fc919",
   "metadata": {},
   "outputs": [
    {
     "name": "stdout",
     "output_type": "stream",
     "text": [
      "--- LAB FRAME ---\n",
      "REFERENCE PARTICLE Velocity: [[2.00000e+08 0.00000e+00 0.00000e+00]]\n",
      "ELECTRON Velocity: [[2.20000e+08 0.00000e+00 0.00000e+00]]\n",
      "--- REFERENCE PARTICLE FRAME ---\n",
      "REFERENCE PARTICLE Velocity: [[0.00000e+00 0.00000e+00 0.00000e+00]]\n",
      "ELECTRON Velocity: [[3.91304e+07 0.00000e+00 0.00000e+00]]\n"
     ]
    }
   ],
   "source": [
    "reference = Particle(Reference, v0 = np.array([2E8, 0, 0]))\n",
    "other_particle = Particle(Electron, v0 = np.array([2.2E8, 0, 0]))\n",
    "\n",
    "np.set_printoptions(formatter={'float': '{:.5e}'.format})\n",
    "\n",
    "print(f\"--- {reference.frame} FRAME ---\")\n",
    "print(f\"{reference.name} Velocity: {reference.get_3v()}\")\n",
    "print(f\"{other_particle.name} Velocity: {other_particle.get_3v()}\")\n",
    "\n",
    "# perform the lorentz boost\n",
    "other_particle.lorentz_boost_to(reference)\n",
    "reference.lorentz_boost_to(reference)\n",
    "\n",
    "print(f\"--- {reference.frame} FRAME ---\")\n",
    "print(f\"{reference.name} Velocity: {reference.get_3v()}\")\n",
    "print(f\"{other_particle.name} Velocity: {other_particle.get_3v()}\")"
   ]
  }
 ],
 "metadata": {
  "kernelspec": {
   "display_name": "base",
   "language": "python",
   "name": "python3"
  },
  "language_info": {
   "codemirror_mode": {
    "name": "ipython",
    "version": 3
   },
   "file_extension": ".py",
   "mimetype": "text/x-python",
   "name": "python",
   "nbconvert_exporter": "python",
   "pygments_lexer": "ipython3",
   "version": "3.12.9"
  }
 },
 "nbformat": 4,
 "nbformat_minor": 5
}
