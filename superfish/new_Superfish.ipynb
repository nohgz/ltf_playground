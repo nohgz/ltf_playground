{
 "cells": [
  {
   "cell_type": "markdown",
   "id": "03046c6d",
   "metadata": {},
   "source": [
    "# SuperFish [ 7/3/2025 ]"
   ]
  },
  {
   "cell_type": "markdown",
   "id": "4c9577ab",
   "metadata": {},
   "source": [
    "### Import Block"
   ]
  },
  {
   "cell_type": "code",
   "execution_count": 1,
   "id": "27969021-414f-4b1e-8e99-559254c825ef",
   "metadata": {},
   "outputs": [],
   "source": [
    "import numpy as np\n",
    "import math\n",
    "import matplotlib.pyplot as plt\n",
    "import matplotlib as mpl\n",
    "import time\n",
    "mpl.rcParams['axes.linewidth'] = 1.2\n",
    "from numpy.linalg import norm\n",
    "#from numba import njit\n",
    "#from numba.experimental import jitclass\n",
    "from scipy.interpolate import RegularGridInterpolator, interp1d\n",
    "#import pycharge as pc\n",
    "pycharge_flag=1\n",
    "c = 3E8\n",
    "f_res = 2.856e9\n",
    "Amp_fac=0.12\n",
    "phi_RF = 0 #np.pi\n",
    "omega = 2*np.pi*f_res\n",
    "\n",
    "#space charge solver\n",
    "import spacecharger as sc\n",
    "\n",
    "EPSILON_0 = 8.85E-12\n",
    "COULOMB_K = 1 / (4 * np.pi * EPSILON_0)"
   ]
  },
  {
   "cell_type": "markdown",
   "id": "31bcaeab",
   "metadata": {},
   "source": [
    "## Space Charge Parameters"
   ]
  },
  {
   "cell_type": "code",
   "execution_count": null,
   "id": "6e6fcb0c",
   "metadata": {},
   "outputs": [],
   "source": [
    "main_config = dict(\n",
    "    DEBUG = False,\n",
    "    INTEGRATOR = \"Trapezoidal\", #Can be \"Trapezoidal\" or \"Gaussian\"\n",
    "    SHOW_GAUSSIAN_FIT = False,\n",
    "    SAVE_PLOTS = True,\n",
    "    OUT_PATH = \".\",\n",
    "    SEED_RNG = True\n",
    ")\n",
    "\n",
    "bunch_config = dict(\n",
    "    NUM_PARTICLES = 10000,\n",
    "    SPECIES = \"Electron\",    # can be \"Electron\" or \"Proton\"\n",
    "    MU_VEL = 2.9E8, #m/s\n",
    "    SIG_VEL = 0,  #m/s\n",
    "    MU_POS = 0,     #meters\n",
    "    SIG_POS = 1E-4, #meter\n",
    "    DISTRIBUTION = \"Gaussian\", # can be \"Uniform\", \"Mesa\", or \"Gaussian\"\n",
    "    RADIUS = 1E-4,   # meters\n",
    "    LENGTH = 0       # if 0, auto set params. otherwise, it goes off of that\n",
    ")\n",
    "\n",
    "#notes, 5 mesh points and 64 quad points seem to work decently well for\n",
    "# mu_v = 2.6E8, sig_v = 5E6, rad = 1E-4, integ = trap\n",
    "mesh_config = dict(\n",
    "    MESH_PTS = 9,\n",
    "    QUAD_PTS = 64\n",
    ")\n",
    "\n",
    "gaussfits_config = dict(\n",
    "    NUM_BINS = 50,\n",
    "    NUM_GAUSSIANS = 50,\n",
    "    WIDTH_GAUSSIANS = 0.00004\n",
    ")"
   ]
  },
  {
   "cell_type": "markdown",
   "id": "774e1922-21aa-4b99-9d43-c83c7dc3acf5",
   "metadata": {},
   "source": [
    "# Method and Code Breakdown"
   ]
  },
  {
   "cell_type": "markdown",
   "id": "65aa9ba7-6a35-426a-aa31-ca6d62596737",
   "metadata": {},
   "source": [
    "Let's assume axisymmetric fields, i.e $\\partial_{\\theta} E_{\\theta} = 0$, and time harmonic variation, i.e $E(\\vec{r},t) = \\tilde{E}(\\vec{r})\\cos(\\omega t + \\phi_{\\text{RF}})$, $B(\\vec{r},t) = \\tilde{B}(\\vec{r})\\cos(\\omega t + \\phi_{\\text{RF}})$. Then, from Gauss' Law\n",
    "$$ \\nabla \\cdot \\tilde{E} = 0 \\implies \\partial_{z}\\tilde{E}_{z} + r^{-1}\\partial_{r}r \\tilde{E}_{r} = 0.$$\n",
    "Or,\n",
    "$$ r\\tilde{E}_{r} = -\\frac{r^{2}}{2}\\partial_{z}\\tilde{E}_{z} \\implies \\tilde{E}_{r} = -\\frac{r}{2}\\partial_{z}\\tilde{E}_{z} = -\\frac{r}{2}\\tilde{E}_{z}'.$$\n",
    "From Ampere's Law in frequency domain (with no free currents),\n",
    "$$ \\nabla\\times \\tilde{B} = j\\omega\\mu_{0}\\epsilon_{0} \\tilde{E} \\implies r^{-1}\\partial_{r} r B_{\\theta} = j\\omega c^{-2}E_{z}.$$\n",
    "Or,\n",
    "$$ B_{\\theta} = j\\omega\\frac{r}{2 c^{2}} E_{z}.$$\n",
    "Since, $E_{z} = \\tilde{E}_{z}\\cos(\\omega t + \\phi_{\\text{RF}})$,\n",
    "$$ B_{\\theta} = -\\frac{r\\omega}{2 c^{2}}\\tilde{E}_{z}\\sin(\\omega t + \\phi_{\\text{RF}}).$$\n",
    "Loading in $E_{z}$ from CST, computing $E_{r}$, $B_{\\theta}$ and computing $B_{x},B_{y},E_{x},E_{y}$ through\n",
    "$$ E_{z} = \\tilde{E}_{z}\\cos(\\omega t + \\phi_{RF})$$\n",
    "$$ E_{r} = -\\frac{r}{2}\\tilde{E}_{z}'\\cos(\\omega t + \\phi_{RF})$$\n",
    "$$ B_{\\theta} = -\\frac{\\omega r}{2c^{2}}\\tilde{E}_{z}\\sin(\\omega t + \\phi_{RF})$$\n",
    "\n",
    "Note: This saves on memory since I only have to export $\\tilde{E}_{z}$ from CST, but I could theoretically spit out $\\textbf{all}$ of the fields and use it on a cavity without nice symmetries as well."
   ]
  },
  {
   "cell_type": "code",
   "execution_count": 2,
   "id": "c4b76768-9ab7-4c65-85b6-940f28a4fe1f",
   "metadata": {},
   "outputs": [],
   "source": [
    "def inputSuperfishfields(fname):\n",
    "    with open(fname) as fin:\n",
    "        lines = fin.readlines()\n",
    "        linesplit = [lines[i].split() for i in range(len(lines))]\n",
    "        Zmin = float(linesplit[0][0])/100\n",
    "        Zmax = float(linesplit[0][1])/100\n",
    "        Nz = int(linesplit[0][2])\n",
    "        freq = float(linesplit[1][0])*1e6\n",
    "        Rmin = float(linesplit[2][0])/100\n",
    "        Rmax = float(linesplit[2][1])/100\n",
    "        Nr = int(linesplit[2][2])\n",
    "\n",
    "    rr = np.linspace(Rmin,Rmax,Nr+1,endpoint=True)\n",
    "    zz = np.linspace(Zmin,Zmax,Nz+1,endpoint=True)\n",
    "\n",
    "    print(Zmin, Zmax, Nz, Rmin, Rmax, Nr)\n",
    "\n",
    "    E = np.zeros([Nz+1,Nr+1,2])\n",
    "    Emag = np.zeros([Nz+1,Nr+1])\n",
    "    Bt = np.zeros([Nz+1,Nr+1])\n",
    "\n",
    "    linesplitE = linesplit[4::2]\n",
    "    linesplitB = linesplit[5::2]\n",
    "\n",
    "    for ind in range(len(linesplitE)):\n",
    "        i = ind % (Nz+1)\n",
    "        j = int(ind / (Nz+1)) - 1\n",
    "        E[i,j,0] = float(linesplitE[ind][0])*1e6\n",
    "        E[i,j,1] = float(linesplitE[ind][1])*1e6\n",
    "        Emag[i,j] = float(linesplitE[ind][2])*1e6\n",
    "        Bt[i,j] = float(linesplitB[ind][0])*4e-7*np.pi\n",
    "\n",
    "    ERint = RegularGridInterpolator((zz,rr),E[:,:,1])\n",
    "    EZint = RegularGridInterpolator((zz,rr),E[:,:,0])\n",
    "    BTint = RegularGridInterpolator((zz,rr),Bt[:,:])\n",
    "\n",
    "    return ERint,EZint,BTint, rr, zz, Emag"
   ]
  },
  {
   "cell_type": "code",
   "execution_count": 3,
   "id": "22b2f91d-688a-4e9f-b0fd-96f2b0a1b5e9",
   "metadata": {},
   "outputs": [],
   "source": [
    "def Efld(r,t):\n",
    "    try:\n",
    "        E = Amp_fac*np.array([Exint(r)[0],Eyint(r)[0],Ezint(r)[0]])*np.cos(2*np.pi*f_res*t+phi_RF)\n",
    "    except:\n",
    "        E = np.array([0,0,0])\n",
    "    return E\n",
    "\n",
    "def Bfld(r,t):\n",
    "    try:\n",
    "        B = -Amp_fac*np.array([Bxint(r)[0],Byint(r)[0],0])*np.sin(2*np.pi*f_res*t+phi_RF)\n",
    "    except:\n",
    "        B = np.array([0,0,0])\n",
    "    return B"
   ]
  },
  {
   "cell_type": "markdown",
   "id": "a245608c-ef9a-4cb3-a33c-91dbcc3d68ff",
   "metadata": {},
   "source": [
    "Next, I define the space charge field. Using Gauss' Laws, if the radius is higher than the nominal beam radius,\n",
    "$$ E_{r} = \\frac{I_{b}}{2\\pi\\epsilon_{0}v_{z}a^{2}}r.$$\n",
    "If $r<a$, $\\rho_{r} = \\rho\\frac{r^{2}}{a^{2}}$ and thus\n",
    "$$ E_{r} = \\frac{I_{b}}{2\\pi\\epsilon_{0}v_{z}a^{4}}r^{3}.$$\n",
    "The function below is divided by $r$ to make the cos/sin $\\theta$ computations more convenient later."
   ]
  },
  {
   "cell_type": "markdown",
   "id": "4680bb9d-8ead-40bc-961f-f5bd297e11ca",
   "metadata": {},
   "source": [
    "Next, we define a particle class to store quantities like charge/mass. It isn't necessary for the simple program I'm writing here, but makes generalizing to more complex beams later easier. The most important thing here is the Boris routine that implements the Boris particle push. Without going into too much detail (ref. Birdsall and Langdon for the minutia), Boris implements the lorentz force\n",
    "$$ \\partial_{t} \\mathbf{p} = q\\mathbf{E} + q\\mathbf{v}\\times\\mathbf{B}$$\n",
    "in three steps, (1) add half of the electric force, rotate the trajectory analytically in accordance with a constant $\\mathbf{v}\\times\\mathbf{B}$ and then add the other half of the electric force.\n",
    "\n",
    "Doing the momentum update in this fashion conserves energy under magnetic rotations (Interestingly Boris is not symplectic. See Ramachandran et al. 2023 arXiv:2303.08037 for details)."
   ]
  },
  {
   "cell_type": "code",
   "execution_count": 5,
   "id": "1404c116-5c66-4e3f-99f4-5b60bd73600f",
   "metadata": {},
   "outputs": [],
   "source": [
    "class Particle():\n",
    "    def __init__(self,q,m,vel,pos):\n",
    "        self.q = q\n",
    "        self.m = m\n",
    "        self.vel = vel\n",
    "        self.pos = pos\n",
    "        self.Efld = np.zeros(3)\n",
    "        self.Efld_r = np.zeros(3)\n",
    "        self.Bfld = np.zeros(3)\n",
    "        self.Bfld_r = np.zeros(3)\n",
    "        self.theta = 0\n",
    "        self.r = 0\n",
    "        self.tlost = 0\n",
    "        self.tsteplost = 0\n",
    "        self.isLost = False\n",
    "\n",
    "    def set_fields(self,Efld,Bfld):\n",
    "        self.Bfld = Bfld\n",
    "        self.Efld = Efld\n",
    "\n",
    "    def Boris(self,dt):\n",
    "        Uprime = np.zeros(3)\n",
    "        gmma = 1.0/np.sqrt(1-norm(self.vel)**2/c**2)\n",
    "        const1 = dt*self.q/(2*self.m)\n",
    "        Upast = gmma*self.vel\n",
    "        Uminus = Upast + const1*self.Efld\n",
    "        gmma_new = np.sqrt(1 + norm(Uminus)**2/c**2)\n",
    "        t = self.Bfld*const1/gmma_new\n",
    "        Uprime = Uminus + np.cross(Uminus,t)\n",
    "        Uplus = Uminus + np.cross(Uprime,2*t/(1+norm(t)**2))\n",
    "        Unext = Uplus + const1*self.Efld\n",
    "        self.vel = Unext/np.sqrt(1+norm(Unext)**2/c**2)\n",
    "        self.pos = self.pos + dt*self.vel\n",
    "        return self.pos,self.vel"
   ]
  },
  {
   "cell_type": "markdown",
   "id": "f1f7451f-122f-412c-b357-73c7a9ef2b37",
   "metadata": {},
   "source": [
    "Define flags to turn on Space Charge (SCfac) and CST fields (CST_flag)"
   ]
  },
  {
   "cell_type": "code",
   "execution_count": 6,
   "id": "cb9b36db-99f2-4097-9eab-6865b8f333f5",
   "metadata": {},
   "outputs": [],
   "source": [
    "SCfac = 1.0\n",
    "CST_flag = 0.0 # temp disabled because all we care about right now is space charge expansion"
   ]
  },
  {
   "cell_type": "markdown",
   "id": "3d58a876-fd97-474f-b43e-5b06a1e42acd",
   "metadata": {},
   "source": [
    "Define constants"
   ]
  },
  {
   "cell_type": "code",
   "execution_count": null,
   "id": "58728e17-86f8-4fc8-b4f2-44b796cdb072",
   "metadata": {},
   "outputs": [],
   "source": [
    "beam_charge = 1e-9                             # Beam Charge\n",
    "q = 1.6e-19                                    # Proton charge\n",
    "me = 9.1e-31                                   # Electron mass\n",
    "Nt = 75                                        # Number of timesteps\n",
    "L = 4.13*0.0254                                # Length scale in m (set this to overall beamtube length or similar)\n",
    "dt = L/(50*c) #1.0/(10*omega_f)                # Timestep size -- set based on light transit time\n",
    "t = np.linspace(0,Nt*dt,Nt,endpoint=False)\n",
    "Np = 5000                                      # Number of particles\n",
    "p_charge = -beam_charge/Np                     # charge of each macroparticle (beam charge/Np)\n",
    "p_mass = abs(p_charge/q*me)                    # Macroparticle mass (beam charge/q*me)\n",
    "v0 = 2.9e8                                     # Initial beam velocity\n",
    "sigma_x = 0.001                                # Beam radius std deviation\n",
    "r_c = 0.0375                                   # Not used\n",
    "sigma_u = 0.001                                # std deviation in initial momentum\n",
    "Ibeam = -beam_charge*v0                        # Beam current\n",
    "beam_pos_shift = np.array([0,0.038,0.038])     # Beam position shift (not used)"
   ]
  },
  {
   "cell_type": "markdown",
   "id": "3436cade-4505-4495-af65-978fc9907fb4",
   "metadata": {},
   "source": [
    "Next, we initialize particle positions/velocities as well as time history arrays (maybe write to file when this code is made to run larger things)"
   ]
  },
  {
   "cell_type": "markdown",
   "id": "20e4e3d4-c0d8-4856-8c35-5c509f24a824",
   "metadata": {},
   "source": [
    "Finally, we can put it all together. At each step, I compute an average radius/position of the beam and use it to evaluate space charge. Both fields are passed to Boris which pushes over the next $dt$ step."
   ]
  },
  {
   "cell_type": "code",
   "execution_count": 8,
   "id": "7bc23439-bfed-4dd3-a3e1-e281367e326b",
   "metadata": {},
   "outputs": [],
   "source": [
    "def AmILost(normEfld,normBfld,normVel,posY):\n",
    "    if (normEfld+normVel*normBfld < 1e-10):\n",
    "        return True\n",
    "    #if (abs(posY) > 7.575e-3):\n",
    "    #    return True\n",
    "    return False"
   ]
  },
  {
   "cell_type": "code",
   "execution_count": null,
   "id": "f6f79e3b-11cc-4627-8a43-7e3c6087a59e",
   "metadata": {},
   "outputs": [],
   "source": [
    "def track_particles(CST_flag,SCfac,zmax,simulation=None):\n",
    "    rmean_hist = np.zeros(Nt)\n",
    "    Nlost = 0\n",
    "    isAlive = np.array([True for i in range(len(parts))])\n",
    "    endFlag = False\n",
    "    endind = -1\n",
    "    bunchLength = 0\n",
    "    for i in range(1,Nt):\n",
    "        if(i%10 == 0):\n",
    "            print (\"Timestep \",i,\"/\",Nt)\n",
    "        ii = np.where(isAlive == True)\n",
    "        if len(ii[0]) == 0:\n",
    "            rmean = [0,0]\n",
    "            vmean = [0,0]\n",
    "        else:\n",
    "            rmean = np.mean(pos[ii[0],i-1],axis=0)\n",
    "            vmean = np.mean(vel[ii[0],i-1],axis=0)\n",
    "        rmean_hist[i-1] = 0\n",
    "        #print(np.shape(pos))\n",
    "        bunchLength = np.max(pos[ii[0],i-1,-1]) - np.min(pos[ii[0],i-1,-1])\n",
    "        r = np.sqrt((pos[:,i-1,0])**2 + (pos[:,i-1,1])**2)\n",
    "        #v_mean = np.mean(vel[:,i-1,0])\n",
    "        #print(np.shape(r))\n",
    "\n",
    "        # set some things dynamically given the geometry of the bunch\n",
    "        bunch_config[\"RADIUS\"] = np.max(r[ii])\n",
    "        bunch_config[\"LENGTH\"] = bunchLength\n",
    "\n",
    "        # obtain the space charge fields (per timestep)...\n",
    "        E_sc, B_sc, xx, zz = sc.routine(\n",
    "                    main_config=main_config,\n",
    "                    bunch_config=bunch_config,\n",
    "                    mesh_config=mesh_config,\n",
    "                    gaussfits_config=gaussfits_config\n",
    "                )\n",
    "\n",
    "        # ... and interpolate them so that I can evaluate them at the particle's position\n",
    "        ER_sc_int = RegularGridInterpolator((xx, zz), E_sc[:, shared_id, :, 0])\n",
    "        EZ_sc_int = RegularGridInterpolator((xx, zz), E_sc[:, shared_id, :, 2])\n",
    "\n",
    "        for j in range(len(parts)):\n",
    "            if parts[j].isLost == True:\n",
    "                pos[j,i] = pos[j,i-1]\n",
    "                vel[j,i] = vel[j,i-1]\n",
    "                continue\n",
    "\n",
    "            if Np > 1 and SCfac == 1:\n",
    "                beta = vel[j,i-1,-1]/c\n",
    "                # Er = Er_space_charge(r[j],np.max(r[ii]),Ibeam,bunchLength,beta) #E_sc\n",
    "                # Bphi = Bphi_space_charge(r[j],np.max(r[ii]),beamCharge,bunchLength,beta) #B_Sc\n",
    "                # E_sc = Er*np.array([pos[j,i-1][0],pos[j,i-1][1],0])\n",
    "                # B_sc = 0.0 #Bphi*np.array([-pos[j,i-1][1],pos[j,i-1][0],0])\n",
    "                # what is being shown here are three-vectors. I have these!!\n",
    "\n",
    "                # replace these with my routine entirely.\n",
    "                E_sc = ER_sc_int * np.array([pos[j, i-1], ])\n",
    "            else:\n",
    "                E_sc = 0.0\n",
    "                B_sc = 0.0\n",
    "\n",
    "            if (pos[j,i-1,-1] <= 0):\n",
    "                SCfac = 0\n",
    "            else:\n",
    "                SCfac = 1\n",
    "\n",
    "            #print(CST_flag*Efld(np.flip(pos[j,i-1]),t[i-1]))\n",
    "            parts[j].set_fields(CST_flag*Efld(np.flip(pos[j,i-1]),t[i-1])+(len(parts)-Nlost)/len(parts)*SCfac*E_sc\\\n",
    "                                ,(CST_flag*Bfld(np.flip(pos[j,i-1]),t[i-1])+(len(parts)-Nlost)/len(parts)*SCfac*B_sc))\n",
    "                #print(parts[j].Efld)\n",
    "\n",
    "            pos[j,i], vel[j,i] = parts[j].Boris(dt)\n",
    "            if pos[j,i,-1] > zmax:\n",
    "                endFlag = True\n",
    "            if (CST_flag == 1 and i > 1):\n",
    "                parts[j].isLost = AmILost(np.linalg.norm(Efld(np.flip(pos[j,i-1]),t[i-1])),np.linalg.norm(Bfld(np.flip(pos[j,i-1]),t[i-1])),\\\n",
    "                              np.linalg.norm(vel[j,i-1]),pos[j,i-1,-1])\n",
    "                if(parts[j].isLost and parts[j].tsteplost == 0):\n",
    "                    isAlive[j] = False\n",
    "                    parts[j].tsteplost = i-1\n",
    "                    parts[j].tlost = parts[j].tsteplost*dt\n",
    "                    Nlost += 1\n",
    "                    continue\n",
    "        #rmean_hist[i-1] /= len(parts)\n",
    "        rmean_hist[i-1] = np.max(r)\n",
    "        if endFlag == True:\n",
    "            endind = i\n",
    "            break\n",
    "    return rmean_hist, Nlost, isAlive, endind"
   ]
  },
  {
   "cell_type": "markdown",
   "id": "659b1752-540f-4c4f-941d-9f479c1b9dd3",
   "metadata": {},
   "source": [
    "# Simulations"
   ]
  },
  {
   "cell_type": "markdown",
   "id": "b76b8476-5488-4546-a2d3-588f4eec435f",
   "metadata": {},
   "source": [
    "# SuperFish"
   ]
  },
  {
   "cell_type": "code",
   "execution_count": 10,
   "id": "7b4556cc-3320-46b0-814a-ee4d05f4f944",
   "metadata": {},
   "outputs": [
    {
     "name": "stdout",
     "output_type": "stream",
     "text": [
      "0.0 0.29270745000000004 300 0.0 0.05 50\n",
      "[1.98638778e+02 1.01793844e+02 1.56747123e+05]\n"
     ]
    }
   ],
   "source": [
    "ERint, EZint, BTint, rr, zz, Emag = inputSuperfishfields(\"1T1.T7\")\n",
    "\n",
    "def Exint(r):\n",
    "    r = np.flip(r)\n",
    "    rad = np.sqrt(r[0]**2 + r[1]**2)\n",
    "    th = math.atan2(r[1],r[0])\n",
    "    z = r[-1]\n",
    "\n",
    "    return [ERint((z,rad))*np.cos(th)]\n",
    "\n",
    "def Eyint(r):\n",
    "    r = np.flip(r)\n",
    "    rad = np.sqrt(r[0]**2 + r[1]**2)\n",
    "    th = math.atan2(r[1],r[0])\n",
    "    z = r[-1]\n",
    "\n",
    "    return [ERint((z,rad))*np.sin(th)]\n",
    "\n",
    "def Ezint(r):\n",
    "    r = np.flip(r)\n",
    "    rad = np.sqrt(r[0]**2 + r[1]**2)\n",
    "    th = math.atan2(r[1],r[0])\n",
    "    z = r[-1]\n",
    "\n",
    "    return [EZint((z,rad))]\n",
    "\n",
    "def Bxint(r):\n",
    "    r = np.flip(r)\n",
    "    rad = np.sqrt(r[0]**2 + r[1]**2)\n",
    "    th = math.atan2(r[1],r[0])\n",
    "    z = r[-1]\n",
    "\n",
    "    return [-BTint((z,rad))*np.sin(th)]\n",
    "\n",
    "def Byint(r):\n",
    "    r = np.flip(r)\n",
    "    rad = np.sqrt(r[0]**2 + r[1]**2)\n",
    "    th = math.atan2(r[1],r[0])\n",
    "    z = r[-1]\n",
    "\n",
    "    return [BTint((z,rad))*np.cos(th)]\n",
    "\n",
    "R = rr[4]\n",
    "Z = zz[4]\n",
    "th = np.pi/6\n",
    "\n",
    "r = np.array([R*np.cos(th), R*np.sin(th), Z])\n",
    "print(Efld(r,1e-9))"
   ]
  },
  {
   "cell_type": "code",
   "execution_count": 11,
   "id": "9c79e51a-5dec-425c-b987-404f4bf3539a",
   "metadata": {},
   "outputs": [
    {
     "data": {
      "text/plain": [
       "np.float64(0.29270745000000004)"
      ]
     },
     "execution_count": 11,
     "metadata": {},
     "output_type": "execute_result"
    }
   ],
   "source": [
    "np.max(zz)"
   ]
  },
  {
   "cell_type": "code",
   "execution_count": 12,
   "id": "49242346-7dc1-430b-a8d4-7d3e32e8dc4f",
   "metadata": {},
   "outputs": [
    {
     "data": {
      "text/plain": [
       "np.float64(0.05)"
      ]
     },
     "execution_count": 12,
     "metadata": {},
     "output_type": "execute_result"
    }
   ],
   "source": [
    "np.max(rr)"
   ]
  },
  {
   "cell_type": "code",
   "execution_count": null,
   "id": "daf49a07-54bd-427c-8c1f-00e82fcacca1",
   "metadata": {},
   "outputs": [
    {
     "name": "stdout",
     "output_type": "stream",
     "text": [
      "[-9.10653686e+03 -5.25766151e+03 -7.03131138e+06]\n",
      "[ 0.00080044 -0.0013864  -0.        ]\n"
     ]
    },
    {
     "ename": "FileNotFoundError",
     "evalue": "partcl.data not found.",
     "output_type": "error",
     "traceback": [
      "\u001b[31m---------------------------------------------------------------------------\u001b[39m",
      "\u001b[31mFileNotFoundError\u001b[39m                         Traceback (most recent call last)",
      "\u001b[36mCell\u001b[39m\u001b[36m \u001b[39m\u001b[32mIn[13]\u001b[39m\u001b[32m, line 19\u001b[39m\n\u001b[32m     16\u001b[39m         \u001b[38;5;28;01mreturn\u001b[39;00m \u001b[38;5;28;01mTrue\u001b[39;00m\n\u001b[32m     17\u001b[39m     \u001b[38;5;28;01mreturn\u001b[39;00m \u001b[38;5;28;01mFalse\u001b[39;00m\n\u001b[32m---> \u001b[39m\u001b[32m19\u001b[39m partsIMP = \u001b[43mnp\u001b[49m\u001b[43m.\u001b[49m\u001b[43mloadtxt\u001b[49m\u001b[43m(\u001b[49m\u001b[33;43m\"\u001b[39;49m\u001b[33;43mpartcl.data\u001b[39;49m\u001b[33;43m\"\u001b[39;49m\u001b[43m)\u001b[49m\n\u001b[32m     20\u001b[39m partsIMP = partsIMP[::\u001b[32m10\u001b[39m]\n\u001b[32m     21\u001b[39m \u001b[38;5;66;03m#print(\"Grad: \", Amp_fac)\u001b[39;00m\n\u001b[32m     22\u001b[39m \u001b[38;5;66;03m#plt.hist(partsIMP[:,-2],bins=32)\u001b[39;00m\n",
      "\u001b[36mFile \u001b[39m\u001b[32m~/miniconda3/lib/python3.12/site-packages/numpy/lib/_npyio_impl.py:1381\u001b[39m, in \u001b[36mloadtxt\u001b[39m\u001b[34m(fname, dtype, comments, delimiter, converters, skiprows, usecols, unpack, ndmin, encoding, max_rows, quotechar, like)\u001b[39m\n\u001b[32m   1378\u001b[39m \u001b[38;5;28;01mif\u001b[39;00m \u001b[38;5;28misinstance\u001b[39m(delimiter, \u001b[38;5;28mbytes\u001b[39m):\n\u001b[32m   1379\u001b[39m     delimiter = delimiter.decode(\u001b[33m'\u001b[39m\u001b[33mlatin1\u001b[39m\u001b[33m'\u001b[39m)\n\u001b[32m-> \u001b[39m\u001b[32m1381\u001b[39m arr = \u001b[43m_read\u001b[49m\u001b[43m(\u001b[49m\u001b[43mfname\u001b[49m\u001b[43m,\u001b[49m\u001b[43m \u001b[49m\u001b[43mdtype\u001b[49m\u001b[43m=\u001b[49m\u001b[43mdtype\u001b[49m\u001b[43m,\u001b[49m\u001b[43m \u001b[49m\u001b[43mcomment\u001b[49m\u001b[43m=\u001b[49m\u001b[43mcomment\u001b[49m\u001b[43m,\u001b[49m\u001b[43m \u001b[49m\u001b[43mdelimiter\u001b[49m\u001b[43m=\u001b[49m\u001b[43mdelimiter\u001b[49m\u001b[43m,\u001b[49m\n\u001b[32m   1382\u001b[39m \u001b[43m            \u001b[49m\u001b[43mconverters\u001b[49m\u001b[43m=\u001b[49m\u001b[43mconverters\u001b[49m\u001b[43m,\u001b[49m\u001b[43m \u001b[49m\u001b[43mskiplines\u001b[49m\u001b[43m=\u001b[49m\u001b[43mskiprows\u001b[49m\u001b[43m,\u001b[49m\u001b[43m \u001b[49m\u001b[43musecols\u001b[49m\u001b[43m=\u001b[49m\u001b[43musecols\u001b[49m\u001b[43m,\u001b[49m\n\u001b[32m   1383\u001b[39m \u001b[43m            \u001b[49m\u001b[43munpack\u001b[49m\u001b[43m=\u001b[49m\u001b[43munpack\u001b[49m\u001b[43m,\u001b[49m\u001b[43m \u001b[49m\u001b[43mndmin\u001b[49m\u001b[43m=\u001b[49m\u001b[43mndmin\u001b[49m\u001b[43m,\u001b[49m\u001b[43m \u001b[49m\u001b[43mencoding\u001b[49m\u001b[43m=\u001b[49m\u001b[43mencoding\u001b[49m\u001b[43m,\u001b[49m\n\u001b[32m   1384\u001b[39m \u001b[43m            \u001b[49m\u001b[43mmax_rows\u001b[49m\u001b[43m=\u001b[49m\u001b[43mmax_rows\u001b[49m\u001b[43m,\u001b[49m\u001b[43m \u001b[49m\u001b[43mquote\u001b[49m\u001b[43m=\u001b[49m\u001b[43mquotechar\u001b[49m\u001b[43m)\u001b[49m\n\u001b[32m   1386\u001b[39m \u001b[38;5;28;01mreturn\u001b[39;00m arr\n",
      "\u001b[36mFile \u001b[39m\u001b[32m~/miniconda3/lib/python3.12/site-packages/numpy/lib/_npyio_impl.py:997\u001b[39m, in \u001b[36m_read\u001b[39m\u001b[34m(fname, delimiter, comment, quote, imaginary_unit, usecols, skiplines, max_rows, converters, ndmin, unpack, dtype, encoding)\u001b[39m\n\u001b[32m    995\u001b[39m     fname = os.fspath(fname)\n\u001b[32m    996\u001b[39m \u001b[38;5;28;01mif\u001b[39;00m \u001b[38;5;28misinstance\u001b[39m(fname, \u001b[38;5;28mstr\u001b[39m):\n\u001b[32m--> \u001b[39m\u001b[32m997\u001b[39m     fh = \u001b[43mnp\u001b[49m\u001b[43m.\u001b[49m\u001b[43mlib\u001b[49m\u001b[43m.\u001b[49m\u001b[43m_datasource\u001b[49m\u001b[43m.\u001b[49m\u001b[43mopen\u001b[49m\u001b[43m(\u001b[49m\u001b[43mfname\u001b[49m\u001b[43m,\u001b[49m\u001b[43m \u001b[49m\u001b[33;43m'\u001b[39;49m\u001b[33;43mrt\u001b[39;49m\u001b[33;43m'\u001b[39;49m\u001b[43m,\u001b[49m\u001b[43m \u001b[49m\u001b[43mencoding\u001b[49m\u001b[43m=\u001b[49m\u001b[43mencoding\u001b[49m\u001b[43m)\u001b[49m\n\u001b[32m    998\u001b[39m     \u001b[38;5;28;01mif\u001b[39;00m encoding \u001b[38;5;129;01mis\u001b[39;00m \u001b[38;5;28;01mNone\u001b[39;00m:\n\u001b[32m    999\u001b[39m         encoding = \u001b[38;5;28mgetattr\u001b[39m(fh, \u001b[33m'\u001b[39m\u001b[33mencoding\u001b[39m\u001b[33m'\u001b[39m, \u001b[33m'\u001b[39m\u001b[33mlatin1\u001b[39m\u001b[33m'\u001b[39m)\n",
      "\u001b[36mFile \u001b[39m\u001b[32m~/miniconda3/lib/python3.12/site-packages/numpy/lib/_datasource.py:192\u001b[39m, in \u001b[36mopen\u001b[39m\u001b[34m(path, mode, destpath, encoding, newline)\u001b[39m\n\u001b[32m    155\u001b[39m \u001b[38;5;250m\u001b[39m\u001b[33;03m\"\"\"\u001b[39;00m\n\u001b[32m    156\u001b[39m \u001b[33;03mOpen `path` with `mode` and return the file object.\u001b[39;00m\n\u001b[32m    157\u001b[39m \n\u001b[32m   (...)\u001b[39m\u001b[32m    188\u001b[39m \n\u001b[32m    189\u001b[39m \u001b[33;03m\"\"\"\u001b[39;00m\n\u001b[32m    191\u001b[39m ds = DataSource(destpath)\n\u001b[32m--> \u001b[39m\u001b[32m192\u001b[39m \u001b[38;5;28;01mreturn\u001b[39;00m \u001b[43mds\u001b[49m\u001b[43m.\u001b[49m\u001b[43mopen\u001b[49m\u001b[43m(\u001b[49m\u001b[43mpath\u001b[49m\u001b[43m,\u001b[49m\u001b[43m \u001b[49m\u001b[43mmode\u001b[49m\u001b[43m,\u001b[49m\u001b[43m \u001b[49m\u001b[43mencoding\u001b[49m\u001b[43m=\u001b[49m\u001b[43mencoding\u001b[49m\u001b[43m,\u001b[49m\u001b[43m \u001b[49m\u001b[43mnewline\u001b[49m\u001b[43m=\u001b[49m\u001b[43mnewline\u001b[49m\u001b[43m)\u001b[49m\n",
      "\u001b[36mFile \u001b[39m\u001b[32m~/miniconda3/lib/python3.12/site-packages/numpy/lib/_datasource.py:532\u001b[39m, in \u001b[36mDataSource.open\u001b[39m\u001b[34m(self, path, mode, encoding, newline)\u001b[39m\n\u001b[32m    529\u001b[39m     \u001b[38;5;28;01mreturn\u001b[39;00m _file_openers[ext](found, mode=mode,\n\u001b[32m    530\u001b[39m                               encoding=encoding, newline=newline)\n\u001b[32m    531\u001b[39m \u001b[38;5;28;01melse\u001b[39;00m:\n\u001b[32m--> \u001b[39m\u001b[32m532\u001b[39m     \u001b[38;5;28;01mraise\u001b[39;00m \u001b[38;5;167;01mFileNotFoundError\u001b[39;00m(\u001b[33mf\u001b[39m\u001b[33m\"\u001b[39m\u001b[38;5;132;01m{\u001b[39;00mpath\u001b[38;5;132;01m}\u001b[39;00m\u001b[33m not found.\u001b[39m\u001b[33m\"\u001b[39m)\n",
      "\u001b[31mFileNotFoundError\u001b[39m: partcl.data not found."
     ]
    }
   ],
   "source": [
    "SCfac = 1.0\n",
    "CST_flag = 0.0 # off means no eigenfields, just Space charge\n",
    "               # when done correctly, we should see the beam expand\n",
    "\n",
    "#phi_RF = np.pi/2\n",
    "dt = 1e-11 #1.0/(71*f_res)\n",
    "Nt = 150 #)\n",
    "t = np.linspace(0,Nt*dt,Nt,endpoint=False)\n",
    "f_res = 1.3e9\n",
    "Amp_fac = 28.836*(10/61.33) # 6.3 MV/m\n",
    "phi_RF = np.pi/2+45/180*np.pi\n",
    "print(Efld(np.flip(r),0))\n",
    "print(Bfld(np.flip(r),0))\n",
    "\n",
    "def AmILost(normEfld,normBfld,normVel,posZ):\n",
    "    if ((normEfld < 1e-10) and (posZ > 0)):\n",
    "        return True\n",
    "    return False\n",
    "\n",
    "\n",
    "# done via function \n",
    "partsIMP = np.loadtxt(\"partcl.data\")\n",
    "partsIMP = partsIMP[::10]\n",
    "#print(\"Grad: \", Amp_fac)\n",
    "#plt.hist(partsIMP[:,-2],bins=32)"
   ]
  },
  {
   "cell_type": "code",
   "execution_count": null,
   "id": "0ca9f6e3-2529-41b7-97c1-0ae992913f65",
   "metadata": {},
   "outputs": [
    {
     "name": "stdout",
     "output_type": "stream",
     "text": [
      "Timestep  10 / 150\n",
      "Timestep  20 / 150\n",
      "Timestep  30 / 150\n",
      "Timestep  40 / 150\n",
      "Timestep  50 / 150\n",
      "Timestep  60 / 150\n",
      "Timestep  70 / 150\n",
      "Timestep  80 / 150\n",
      "Timestep  90 / 150\n",
      "Timestep  100 / 150\n",
      "Timestep  110 / 150\n",
      "Timestep  120 / 150\n",
      "Exec Time Overall:  26.99610924720764 s\n"
     ]
    }
   ],
   "source": [
    "#charges = np.linspace(0.1,10,21)\n",
    "#charge_AG = np.zeros(21)\n",
    "\n",
    "#start_overall = time.time()\n",
    "#for k in range(len(charges)):\n",
    "#print(\"Analysing \", charges[k], \"nC\")\n",
    "vel = np.zeros([len(partsIMP),Nt,3])\n",
    "pos = np.zeros([len(partsIMP),Nt,3])\n",
    "parts = []\n",
    "Np = len(partsIMP)\n",
    "\n",
    "q = 1.6e-19\n",
    "me = 9.1e-31\n",
    "chargenC = 10\n",
    "beamCharge = -1e-9*chargenC\n",
    "Ibeam = 1.3*chargenC\n",
    "\n",
    "p_charge = beamCharge/Np\n",
    "p_mass = abs(p_charge/q)*me\n",
    "\n",
    "for i in range(len(partsIMP)):\n",
    "    vel[i,0,0] = partsIMP[i,1]\n",
    "    vel[i,0,1] = partsIMP[i,3]\n",
    "    vel[i,0,2] = 4e5 #partsIMP[i,5]\n",
    "    pos[i,0,0] = partsIMP[i,0]\n",
    "    pos[i,0,1] = partsIMP[i,2]\n",
    "    pos[i,0,2] = partsIMP[i,4]\n",
    "    parts.append(Particle(p_charge,p_mass,vel[i,0],pos[i,0]))\n",
    "\n",
    "start = time.time()\n",
    "rmean_hist, Nlost, isAlive, endind = track_particles(CST_flag,SCfac,np.max(zz))\n",
    "end = time.time()\n",
    "charge_AG = (len(parts)-Nlost)/len(parts)*chargenC\n",
    "#print(\"Laser Charge: \",charges[k], \"nC; After Gun: \", charge_AG[k], \"nC; Exec: \", end-start, \"s\")\n",
    "#end_overall = time.time()\n",
    "print(\"Exec Time Overall: \", end-start, \"s\")"
   ]
  },
  {
   "cell_type": "code",
   "execution_count": null,
   "id": "96c63e14-2b48-4f81-8063-ccfd13a4ea94",
   "metadata": {},
   "outputs": [
    {
     "data": {
      "image/png": "[encoded data removed]",
      "text/plain": [
       "<Figure size 640x480 with 1 Axes>"
      ]
     },
     "metadata": {},
     "output_type": "display_data"
    }
   ],
   "source": [
    "Z,R = np.meshgrid(zz,rr)\n",
    "plt.pcolormesh(Z,R,np.transpose(Emag),cmap=\"Greens\")\n",
    "\n",
    "ind = endind-4\n",
    "                # z             #r\n",
    "plt.plot(pos[:,ind,-1],np.sqrt(pos[:,ind,0]**2 + pos[:,ind,1]**2),'r.',markersize=3,alpha=1)\n",
    "plt.grid()"
   ]
  },
  {
   "cell_type": "code",
   "execution_count": null,
   "id": "546878e7-0822-4486-8302-9ee4bb561080",
   "metadata": {},
   "outputs": [
    {
     "data": {
      "text/plain": [
       "[<matplotlib.lines.Line2D at 0x7d00de0ab2f0>]"
      ]
     },
     "execution_count": 47,
     "metadata": {},
     "output_type": "execute_result"
    },
    {
     "data": {
      "image/png": "[encoded data removed]",
      "text/plain": [
       "<Figure size 640x480 with 1 Axes>"
      ]
     },
     "metadata": {},
     "output_type": "display_data"
    }
   ],
   "source": [
    "plt.plot(pos[:,ind,-1],np.sqrt(pos[:,ind,0]**2 + pos[:,ind,1]**2),'r.',markersize=3,alpha=1)\n",
    "#plt.plot(pos[:,0,-1]-np.mean(pos[:,0,-1]),np.sqrt(pos[:,0,0]**2 + pos[:,0,1]**2),'b.',markersize=3,alpha=1)"
   ]
  },
  {
   "cell_type": "code",
   "execution_count": null,
   "id": "1ed3d71f-1d1a-455e-b841-b08dab760b6c",
   "metadata": {},
   "outputs": [],
   "source": []
  }
 ],
 "metadata": {
  "authors": [
   {
    "name": "Omkar H. Ramachandran"
   }
  ],
  "kernelspec": {
   "display_name": "base",
   "language": "python",
   "name": "python3"
  },
  "language_info": {
   "codemirror_mode": {
    "name": "ipython",
    "version": 3
   },
   "file_extension": ".py",
   "mimetype": "text/x-python",
   "name": "python",
   "nbconvert_exporter": "python",
   "pygments_lexer": "ipython3",
   "version": "3.12.2"
  },
  "title": "USPAS Final Project: Tracking Simulations with Space Charge"
 },
 "nbformat": 4,
 "nbformat_minor": 5
}
