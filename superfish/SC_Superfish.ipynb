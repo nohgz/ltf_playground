{
 "cells": [
  {
   "cell_type": "markdown",
   "id": "03046c6d",
   "metadata": {},
   "source": [
    "# SuperFish [ 7/8/2025 ]\n",
    "implemented full space charge solves - CN"
   ]
  },
  {
   "cell_type": "markdown",
   "id": "4c9577ab",
   "metadata": {},
   "source": [
    "## Import Block"
   ]
  },
  {
   "cell_type": "code",
   "execution_count": 1,
   "id": "27969021-414f-4b1e-8e99-559254c825ef",
   "metadata": {},
   "outputs": [],
   "source": [
    "import numpy as np\n",
    "import math\n",
    "import matplotlib.pyplot as plt\n",
    "import matplotlib as mpl\n",
    "import time\n",
    "mpl.rcParams['axes.linewidth'] = 1.2\n",
    "from numpy.linalg import norm\n",
    "#from numba import njit\n",
    "#from numba.experimental import jitclass\n",
    "from scipy.interpolate import RegularGridInterpolator, interp1d\n",
    "#import pycharge as pc\n",
    "pycharge_flag=1\n",
    "c = 3E8\n",
    "f_res = 2.856e9\n",
    "Amp_fac=0.12\n",
    "phi_RF = 0 #np.pi\n",
    "omega = 2*np.pi*f_res\n",
    "\n",
    "#space charge solver\n",
    "import spacecharger as sc\n",
    "\n",
    "EPSILON_0 = 8.85E-12\n",
    "COULOMB_K = 1 / (4 * np.pi * EPSILON_0)"
   ]
  },
  {
   "cell_type": "markdown",
   "id": "4d8d5535",
   "metadata": {},
   "source": [
    "## Constants"
   ]
  },
  {
   "cell_type": "code",
   "execution_count": 2,
   "id": "6936b2ef",
   "metadata": {},
   "outputs": [],
   "source": [
    "beam_charge = 1e-9                             # Beam Charge\n",
    "q = 1.6e-19                                    # Proton charge\n",
    "me = 9.1e-31                                   # Electron mass\n",
    "Nt = 75                                        # Number of timesteps\n",
    "L = 4.13*0.0254                                # Length scale in m (set this to overall beamtube length or similar)\n",
    "dt = L/(50*c) #1.0/(10*omega_f)                # Timestep size -- set based on light transit time\n",
    "t = np.linspace(0,Nt*dt,Nt,endpoint=False)\n",
    "Np = 50                                      # Number of particles\n",
    "p_charge = -beam_charge/Np                     # charge of each macroparticle (beam charge/Np)\n",
    "p_mass = abs(p_charge/q*me)                    # Macroparticle mass (beam charge/q*me)\n",
    "v0 = 2.9e8                                     # Initial beam velocity\n",
    "sigma_x = 0.001                                # Beam radius std deviation\n",
    "r_c = 0.0375                                   # Not used\n",
    "sigma_u = 0.001                                # std deviation in initial momentum\n",
    "Ibeam = -beam_charge*v0                        # Beam current\n",
    "beam_pos_shift = np.array([0,0.038,0.038])     # Beam position shift (not used)"
   ]
  },
  {
   "cell_type": "markdown",
   "id": "4e326beb",
   "metadata": {},
   "source": [
    "## Particle Generation"
   ]
  },
  {
   "cell_type": "code",
   "execution_count": 3,
   "id": "668df669",
   "metadata": {},
   "outputs": [],
   "source": [
    "Npart = int(Np) # number of particles\n",
    "spotsize = 5e-4  # spot size, like rad of bunch\n",
    "bunchLength = 3.2e-5\n",
    "velz = 1.46717e-03 #initial\n",
    "parts = np.zeros([Npart,6])\n",
    "\n",
    "parts[0] = np.array([0,0,0,0,-bunchLength/2,velz])\n",
    "for i in range(1,Npart):\n",
    "    parts[i,-2] = np.random.uniform(low=-bunchLength,high=0)\n",
    "    parts[i,-1] = velz\n",
    "    x = np.random.uniform(low=-spotsize/2,high=spotsize/2)\n",
    "    y = np.random.uniform(low=-spotsize/2,high=spotsize/2)\n",
    "    if (np.sqrt(x**2 + y**2) < spotsize/2):\n",
    "        parts[i,0] = x\n",
    "        parts[i,2] = y #r*np.sin(th)\n",
    "\n",
    "np.savetxt('partcl.data', parts)"
   ]
  },
  {
   "cell_type": "markdown",
   "id": "31bcaeab",
   "metadata": {},
   "source": [
    "## Space Charge Parameters\n",
    "Note that I set anything that may be changed later to -1."
   ]
  },
  {
   "cell_type": "code",
   "execution_count": 4,
   "id": "6e6fcb0c",
   "metadata": {},
   "outputs": [],
   "source": [
    "# Define flags to turn on Space Charge (SC_FLAG) and CST fields (CST_FLAG)\n",
    "SC_FLAG = 1.0\n",
    "CST_FLAG = 0.0 # temp disabled because all we care about right now is space charge expansion\n",
    "\n",
    "main_config = dict(\n",
    "        INTEGRATOR = \"Trapezoidal\", #Can be \"Trapezoidal\" or \"Gaussian\"\n",
    "        SHOW_GAUSSIAN_FIT = False,\n",
    "        SHOW_MESH = False,\n",
    "        SAVE_PLOTS = True,\n",
    "        OUT_PATH = \".\",\n",
    "        SEED_RNG = True\n",
    "    )\n",
    "\n",
    "bunch_config = dict(\n",
    "    NUM_PARTICLES = -1,\n",
    "    SPECIES = \"Electron\",    # can be \"Electron\" or \"Proton\"\n",
    "    MU_VEL = 2.6E8, #m/s\n",
    "    SIG_VEL = 0,  #m/s\n",
    "    DISTRIBUTION = \"Gaussian\", # can be \"Uniform\", \"Mesa\", or \"Gaussian\"\n",
    "    RADIUS = 2.5e-6,   # meters\n",
    "    LENGTH = 1.2e-2,\n",
    "    CHARGE = -1e-08\n",
    ")\n",
    "\n",
    "#notes, 7 mesh points and 64 quad points seem to work decently well for\n",
    "# mu_v = 2.6E8, sig_v = 5E6, rad = 1E-4, integ = trap\n",
    "mesh_config = dict(\n",
    "    X_MESH_PTS = 5,\n",
    "    Y_MESH_PTS = 5,   # set to -1 to set dy = dx\n",
    "    Z_MESH_PTS = 49,  # set to -1 to set dz = dx\n",
    "    QUAD_PTS = 48\n",
    ")\n",
    "\n",
    "gaussfits_config = dict(\n",
    "    NUM_BINS = 1,\n",
    "    NUM_GAUSSIANS = 1,\n",
    "    WIDTH_GAUSSIANS = -1 # set to -1 to auto infer based on bunch length (works p well)\n",
    ")"
   ]
  },
  {
   "cell_type": "markdown",
   "id": "79bb5a50",
   "metadata": {},
   "source": [
    "## Custom Interpolator\n"
   ]
  },
  {
   "cell_type": "code",
   "execution_count": 5,
   "id": "805c1377",
   "metadata": {},
   "outputs": [],
   "source": [
    "class BilinearInterpolator:\n",
    "    # Create the interpolator with data for interpolation\n",
    "    def __init__(self, points, data, force_regular_spacing, grid_tolerance=0.05):\n",
    "        self.x_vals, self.y_vals = points\n",
    "        self.data = np.array(data)\n",
    "\n",
    "        # Run some basic checks for the input data\n",
    "        self.__sanitizeCoordinates();\n",
    "\n",
    "        # if the data is reasonable, then do the spacing checks\n",
    "        self.dx = np.diff(self.x_vals).flat\n",
    "        self.dy = np.diff(self.y_vals).flat\n",
    "\n",
    "        if not self.__isRegularlySpaced(grid_tolerance) and force_regular_spacing:\n",
    "            print(f\"dx: {self.dx[0]},\\t dy{self.dy[0]}\")\n",
    "            raise ValueError(\"Input x and y arrays are not evenly spaced!\")\n",
    "\n",
    "    def __call__(self, point):\n",
    "        \"\"\"Calls the bilinear interpolation routine when provided a x,y point.\"\"\"\n",
    "        x_vals, y_vals, data = self.x_vals, self.y_vals, self.data\n",
    "        x, y = point\n",
    "\n",
    "\n",
    "        # As we are regularly spaced, we can use the simple floor method to\n",
    "        # get the index of the value closest to the interpolant\n",
    "        lower_index_x = int((x - x_vals[0])/self.dx[0])\n",
    "        lower_index_y = int((y - y_vals[0])/self.dy[0])\n",
    "\n",
    "\n",
    "        if lower_index_x < 0:\n",
    "            print(\"X LOOB\")\n",
    "            print(f\"REQUESTED X: {x}, CLOSEST VALUE: {x_vals[0]}\")\n",
    "\n",
    "        if lower_index_x > data.shape[0]:\n",
    "            print(\"X HOOB\")\n",
    "            print(f\"REQUESTED X: {x}, CLOSEST VALUE: {x_vals[-1]}\")\n",
    "\n",
    "        if lower_index_y < 0:\n",
    "            print(\"Y LOOB\")\n",
    "            print(f\"REQUESTED Y: {y}, CLOSEST VALUE: {y_vals[0]}\")\n",
    "\n",
    "        if lower_index_y > data.shape[1]:\n",
    "            print(\"Y HOOB\")\n",
    "            print(f\"REQUESTED Y: {y}, CLOSEST VALUE: {y_vals[-1]}\")\n",
    "\n",
    "        # build the f(Q_xy) dudes\n",
    "        q11 = data[lower_index_x][lower_index_y]\n",
    "        q12 = data[lower_index_x][lower_index_y + 1]\n",
    "        q21 = data[lower_index_x + 1][lower_index_y]\n",
    "        q22 = data[lower_index_x + 1][lower_index_y + 1]\n",
    "\n",
    "        # and the x1,x2,y1,y2 dudes\n",
    "        x1 = x_vals[lower_index_x]\n",
    "        x2 = x_vals[lower_index_x + 1]\n",
    "        y1 = y_vals[lower_index_y]\n",
    "        y2 = y_vals[lower_index_y + 1]\n",
    "\n",
    "\n",
    "        # the expanded form of that matrix equation on top\n",
    "        return (q11 * (x2 - x) * (y2 - y) +\n",
    "                q12 * (x2 - x) * (y - y1) +\n",
    "                q21 * (x - x1) * (y2 - y) +\n",
    "                q22 * (x - x1) * (y - y1)) / ((x2 - x1) * (y2 - y1))\n",
    "\n",
    "    def __sanitizeCoordinates(self):\n",
    "        x_vals, y_vals, data = self.x_vals, self.y_vals, self.data\n",
    "        \"\"\"Does basic checks for the input data.\"\"\"\n",
    "\n",
    "        # Ensures that there are enough points in the data array to\n",
    "        # actually do an interpolation (in this case, 2 for x and 2 for y)\n",
    "        if len(x_vals) < 2 and len(y_vals) < 2:\n",
    "            raise ValueError(\"Not enough points for an interpolation!\")\n",
    "\n",
    "        # Ensures that the x and y values for the input data have a value\n",
    "        if len(x_vals) * len(y_vals) != data.size:\n",
    "            raise ValueError(\"Not every x and y point has a value!\")\n",
    "\n",
    "        # Ensures that x and y array is monotonically increasing\n",
    "        if not all(i<j for i, j in zip(x_vals, x_vals[1:])):\n",
    "            raise ValueError(\"The x array is not monotonically increasing!\")\n",
    "\n",
    "        if not all(i<j for i, j in zip(y_vals, y_vals[1:])):\n",
    "            raise ValueError(\"The y array is not monotonically increasing!\")\n",
    "\n",
    "    def __isRegularlySpaced(self, tolerance):\n",
    "        \"\"\"Checks if the spacing beween the x and y arrays is consistent between\n",
    "        themselves and each other.\"\"\"\n",
    "        dx, dy = self.dx, self.dy\n",
    "\n",
    "        # Check if the x and y values are evenly spaced\n",
    "        if (np.allclose(dx, dx[0], rtol=tolerance) and np.allclose(dy, dy[0], rtol=tolerance)):\n",
    "            # and that the x and y values are evenly spaced from each other\n",
    "            return np.allclose(dx[0], dy[0], rtol=tolerance)\n",
    "        else:\n",
    "            return False"
   ]
  },
  {
   "cell_type": "markdown",
   "id": "c22c607f",
   "metadata": {},
   "source": [
    "## Handy Field Conversions"
   ]
  },
  {
   "cell_type": "code",
   "execution_count": 6,
   "id": "88392022",
   "metadata": {},
   "outputs": [],
   "source": [
    "def Exint(r):\n",
    "    r = np.flip(r)\n",
    "    rad = np.sqrt(r[0]**2 + r[1]**2)\n",
    "    th = math.atan2(r[1],r[0])\n",
    "    z = r[-1]\n",
    "\n",
    "    return [ERint((z,rad))*np.cos(th)]\n",
    "\n",
    "def Eyint(r):\n",
    "    r = np.flip(r)\n",
    "    rad = np.sqrt(r[0]**2 + r[1]**2)\n",
    "    th = math.atan2(r[1],r[0])\n",
    "    z = r[-1]\n",
    "\n",
    "    return [ERint((z,rad))*np.sin(th)]\n",
    "\n",
    "def Ezint(r):\n",
    "    r = np.flip(r)\n",
    "    rad = np.sqrt(r[0]**2 + r[1]**2)\n",
    "    th = math.atan2(r[1],r[0])\n",
    "    z = r[-1]\n",
    "\n",
    "    return [EZint((z,rad))]\n",
    "\n",
    "def Bxint(r):\n",
    "    r = np.flip(r)\n",
    "    rad = np.sqrt(r[0]**2 + r[1]**2)\n",
    "    th = math.atan2(r[1],r[0])\n",
    "    z = r[-1]\n",
    "\n",
    "    return [-BTint((z,rad))*np.sin(th)]\n",
    "\n",
    "def Byint(r):\n",
    "    r = np.flip(r)\n",
    "    rad = np.sqrt(r[0]**2 + r[1]**2)\n",
    "    th = math.atan2(r[1],r[0])\n",
    "    z = r[-1]\n",
    "\n",
    "    return [BTint((z,rad))*np.cos(th)]\n",
    "\n",
    "def B_phi(x, y, z):\n",
    "    r = np.hypot(x, y)\n",
    "    phi = np.arctan2(y, x)\n",
    "    bx = BXint([x,y,z])\n",
    "    by = BYint([x,y,z])\n",
    "    return -bx * np.sin(phi) + by * np.cos(phi)"
   ]
  },
  {
   "cell_type": "markdown",
   "id": "774e1922-21aa-4b99-9d43-c83c7dc3acf5",
   "metadata": {},
   "source": [
    "# Method and Code Breakdown"
   ]
  },
  {
   "cell_type": "markdown",
   "id": "65aa9ba7-6a35-426a-aa31-ca6d62596737",
   "metadata": {},
   "source": [
    "Let's assume axisymmetric fields, i.e $\\partial_{\\theta} E_{\\theta} = 0$, and time harmonic variation, i.e $E(\\vec{r},t) = \\tilde{E}(\\vec{r})\\cos(\\omega t + \\phi_{\\text{RF}})$, $B(\\vec{r},t) = \\tilde{B}(\\vec{r})\\cos(\\omega t + \\phi_{\\text{RF}})$. Then, from Gauss' Law\n",
    "$$ \\nabla \\cdot \\tilde{E} = 0 \\implies \\partial_{z}\\tilde{E}_{z} + r^{-1}\\partial_{r}r \\tilde{E}_{r} = 0.$$\n",
    "Or,\n",
    "$$ r\\tilde{E}_{r} = -\\frac{r^{2}}{2}\\partial_{z}\\tilde{E}_{z} \\implies \\tilde{E}_{r} = -\\frac{r}{2}\\partial_{z}\\tilde{E}_{z} = -\\frac{r}{2}\\tilde{E}_{z}'.$$\n",
    "From Ampere's Law in frequency domain (with no free currents),\n",
    "$$ \\nabla\\times \\tilde{B} = j\\omega\\mu_{0}\\epsilon_{0} \\tilde{E} \\implies r^{-1}\\partial_{r} r B_{\\theta} = j\\omega c^{-2}E_{z}.$$\n",
    "Or,\n",
    "$$ B_{\\theta} = j\\omega\\frac{r}{2 c^{2}} E_{z}.$$\n",
    "Since, $E_{z} = \\tilde{E}_{z}\\cos(\\omega t + \\phi_{\\text{RF}})$,\n",
    "$$ B_{\\theta} = -\\frac{r\\omega}{2 c^{2}}\\tilde{E}_{z}\\sin(\\omega t + \\phi_{\\text{RF}}).$$\n",
    "Loading in $E_{z}$ from CST, computing $E_{r}$, $B_{\\theta}$ and computing $B_{x},B_{y},E_{x},E_{y}$ through\n",
    "$$ E_{z} = \\tilde{E}_{z}\\cos(\\omega t + \\phi_{RF})$$\n",
    "$$ E_{r} = -\\frac{r}{2}\\tilde{E}_{z}'\\cos(\\omega t + \\phi_{RF})$$\n",
    "$$ B_{\\theta} = -\\frac{\\omega r}{2c^{2}}\\tilde{E}_{z}\\sin(\\omega t + \\phi_{RF})$$\n",
    "\n",
    "Note: This saves on memory since I only have to export $\\tilde{E}_{z}$ from CST, but I could theoretically spit out $\\textbf{all}$ of the fields and use it on a cavity without nice symmetries as well."
   ]
  },
  {
   "cell_type": "code",
   "execution_count": 7,
   "id": "c4b76768-9ab7-4c65-85b6-940f28a4fe1f",
   "metadata": {},
   "outputs": [],
   "source": [
    "def inputSuperfishfields(fname):\n",
    "    with open(fname) as fin:\n",
    "        lines = fin.readlines()\n",
    "        linesplit = [lines[i].split() for i in range(len(lines))]\n",
    "        Zmin = float(linesplit[0][0])/100\n",
    "        Zmax = float(linesplit[0][1])/100\n",
    "        Nz = int(linesplit[0][2])\n",
    "        freq = float(linesplit[1][0])*1e6\n",
    "        Rmin = float(linesplit[2][0])/100\n",
    "        Rmax = float(linesplit[2][1])/100\n",
    "        Nr = int(linesplit[2][2])\n",
    "\n",
    "    rr = np.linspace(Rmin,Rmax,Nr+1,endpoint=True)\n",
    "    zz = np.linspace(Zmin,Zmax,Nz+1,endpoint=True)\n",
    "\n",
    "    print(Zmin, Zmax, Nz, Rmin, Rmax, Nr)\n",
    "\n",
    "    E = np.zeros([Nz+1,Nr+1,2])\n",
    "    Emag = np.zeros([Nz+1,Nr+1])\n",
    "    Bt = np.zeros([Nz+1,Nr+1])\n",
    "\n",
    "    linesplitE = linesplit[4::2]\n",
    "    linesplitB = linesplit[5::2]\n",
    "\n",
    "    for ind in range(len(linesplitE)):\n",
    "        i = ind % (Nz+1)\n",
    "        j = int(ind / (Nz+1)) - 1\n",
    "        E[i,j,0] = float(linesplitE[ind][0])*1e6\n",
    "        E[i,j,1] = float(linesplitE[ind][1])*1e6\n",
    "        Emag[i,j] = float(linesplitE[ind][2])*1e6\n",
    "        Bt[i,j] = float(linesplitB[ind][0])*4e-7*np.pi\n",
    "\n",
    "    ERint = RegularGridInterpolator((zz,rr),E[:,:,1])\n",
    "    EZint = RegularGridInterpolator((zz,rr),E[:,:,0])\n",
    "    BTint = RegularGridInterpolator((zz,rr),Bt[:,:])\n",
    "\n",
    "    return ERint,EZint,BTint, rr, zz, Emag"
   ]
  },
  {
   "cell_type": "code",
   "execution_count": 8,
   "id": "22b2f91d-688a-4e9f-b0fd-96f2b0a1b5e9",
   "metadata": {},
   "outputs": [],
   "source": [
    "def Efld(r,t):\n",
    "    try:\n",
    "        E = Amp_fac*np.array([Exint(r)[0],Eyint(r)[0],Ezint(r)[0]])*np.cos(2*np.pi*f_res*t+phi_RF)\n",
    "    except:\n",
    "        E = np.array([0,0,0])\n",
    "    return E\n",
    "\n",
    "def Bfld(r,t):\n",
    "    try:\n",
    "        B = -Amp_fac*np.array([Bxint(r)[0],Byint(r)[0],0])*np.sin(2*np.pi*f_res*t+phi_RF)\n",
    "    except:\n",
    "        B = np.array([0,0,0])\n",
    "    return B"
   ]
  },
  {
   "cell_type": "markdown",
   "id": "a245608c-ef9a-4cb3-a33c-91dbcc3d68ff",
   "metadata": {},
   "source": [
    "Next, I define the space charge field. Using Gauss' Laws, if the radius is higher than the nominal beam radius,\n",
    "$$ E_{r} = \\frac{I_{b}}{2\\pi\\epsilon_{0}v_{z}a^{2}}r.$$\n",
    "If $r<a$, $\\rho_{r} = \\rho\\frac{r^{2}}{a^{2}}$ and thus\n",
    "$$ E_{r} = \\frac{I_{b}}{2\\pi\\epsilon_{0}v_{z}a^{4}}r^{3}.$$\n",
    "The function below is divided by $r$ to make the cos/sin $\\theta$ computations more convenient later."
   ]
  },
  {
   "cell_type": "markdown",
   "id": "4680bb9d-8ead-40bc-961f-f5bd297e11ca",
   "metadata": {},
   "source": [
    "Next, we define a particle class to store quantities like charge/mass. It isn't necessary for the simple program I'm writing here, but makes generalizing to more complex beams later easier. The most important thing here is the Boris routine that implements the Boris particle push. Without going into too much detail (ref. Birdsall and Langdon for the minutia), Boris implements the lorentz force\n",
    "$$ \\partial_{t} \\mathbf{p} = q\\mathbf{E} + q\\mathbf{v}\\times\\mathbf{B}$$\n",
    "in three steps, (1) add half of the electric force, rotate the trajectory analytically in accordance with a constant $\\mathbf{v}\\times\\mathbf{B}$ and then add the other half of the electric force.\n",
    "\n",
    "Doing the momentum update in this fashion conserves energy under magnetic rotations (Interestingly Boris is not symplectic. See Ramachandran et al. 2023 arXiv:2303.08037 for details)."
   ]
  },
  {
   "cell_type": "code",
   "execution_count": 9,
   "id": "1404c116-5c66-4e3f-99f4-5b60bd73600f",
   "metadata": {},
   "outputs": [],
   "source": [
    "class Particle():\n",
    "    def __init__(self,q,m,vel,pos):\n",
    "        self.q = q\n",
    "        self.m = m\n",
    "        self.vel = vel\n",
    "        self.pos = pos\n",
    "        self.Efld = np.zeros(3)\n",
    "        self.Efld_r = np.zeros(3)\n",
    "        self.Bfld = np.zeros(3)\n",
    "        self.Bfld_r = np.zeros(3)\n",
    "        self.theta = 0\n",
    "        self.r = 0\n",
    "        self.tlost = 0\n",
    "        self.tsteplost = 0\n",
    "        self.isLost = False\n",
    "\n",
    "    def set_fields(self,Efld,Bfld):\n",
    "        self.Bfld = Bfld\n",
    "        self.Efld = Efld\n",
    "\n",
    "    def Boris(self,dt):\n",
    "        Uprime = np.zeros(3)\n",
    "        gmma = 1.0/np.sqrt(1-norm(self.vel)**2/c**2)\n",
    "        const1 = dt*self.q/(2*self.m)\n",
    "        Upast = gmma*self.vel\n",
    "        Uminus = Upast + const1*self.Efld\n",
    "        gmma_new = np.sqrt(1 + norm(Uminus)**2/c**2)\n",
    "        t = self.Bfld*const1/gmma_new\n",
    "        Uprime = Uminus + np.cross(Uminus,t)\n",
    "        Uplus = Uminus + np.cross(Uprime,2*t/(1+norm(t)**2))\n",
    "        Unext = Uplus + const1*self.Efld\n",
    "        self.vel = Unext/np.sqrt(1+norm(Unext)**2/c**2)\n",
    "        self.pos = self.pos + dt*self.vel\n",
    "        return self.pos,self.vel"
   ]
  },
  {
   "cell_type": "markdown",
   "id": "3436cade-4505-4495-af65-978fc9907fb4",
   "metadata": {},
   "source": [
    "Next, we initialize particle positions/velocities as well as time history arrays (maybe write to file when this code is made to run larger things)"
   ]
  },
  {
   "cell_type": "markdown",
   "id": "20e4e3d4-c0d8-4856-8c35-5c509f24a824",
   "metadata": {},
   "source": [
    "Finally, we can put it all together. At each step, I compute an average radius/position of the beam and use it to evaluate space charge. Both fields are passed to Boris which pushes over the next $dt$ step."
   ]
  },
  {
   "cell_type": "code",
   "execution_count": 10,
   "id": "7bc23439-bfed-4dd3-a3e1-e281367e326b",
   "metadata": {},
   "outputs": [],
   "source": [
    "def AmILost(normEfld,normBfld,normVel,posY):\n",
    "    if (normEfld+normVel*normBfld < 1e-10):\n",
    "        return True\n",
    "    #if (abs(posY) > 7.575e-3):\n",
    "    #    return True\n",
    "    return False"
   ]
  },
  {
   "cell_type": "code",
   "execution_count": 11,
   "id": "f6f79e3b-11cc-4627-8a43-7e3c6087a59e",
   "metadata": {},
   "outputs": [],
   "source": [
    "def track_particles(CST_FLAG, SC_FLAG, zmax, simulation=None):\n",
    "    rmean_hist = np.zeros(Nt)\n",
    "    Nlost = 0\n",
    "    isAlive = np.array([True for i in range(len(parts))])\n",
    "    endFlag = False\n",
    "    endind = -1\n",
    "    bunchLength = 0\n",
    "    for i in range(1, Nt):\n",
    "        if(i%10 == 0):\n",
    "            print (\"Timestep \",i,\"/\",Nt)\n",
    "        ii = np.where(isAlive == True)\n",
    "        if len(ii[0]) == 0:\n",
    "            rmean = [0,0]\n",
    "            vmean = [0,0]\n",
    "        else:\n",
    "            rmean = np.mean(pos[ii[0],i-1],axis=0)\n",
    "            vmean = np.mean(vel[ii[0],i-1],axis=0)\n",
    "        rmean_hist[i-1] = 0\n",
    "        #print(np.shape(pos))\n",
    "        bunchLength = np.max(pos[ii[0],i-1,-1]) - np.min(pos[ii[0],i-1,-1])\n",
    "\n",
    "        r = np.sqrt((pos[:,i-1,0])**2 + (pos[:,i-1,1])**2)\n",
    "        #v_mean = np.mean(vel[:,i-1,0])\n",
    "        #print(np.shape(r))\n",
    "\n",
    "        # set some things dynamically given the geometry of the bunch\n",
    "        # do i need to set the velocity straight from the bunch itself????????\n",
    "        bunch_config[\"RADIUS\"] = np.max(r[ii])\n",
    "        bunch_config[\"LENGTH\"] = bunchLength # unsure if this is needed\n",
    "\n",
    "        print(f\"brad: {bunch_config[\"RADIUS\"]}, blen: {bunch_config[\"LENGTH\"]}\")\n",
    "\n",
    "        # obtain the space charge fields (per timestep)...\n",
    "        E_sc, B_sc, xx, yy, zz = sc.routine(\n",
    "                    main_config=main_config,\n",
    "                    bunch_config=bunch_config,\n",
    "                    mesh_config=mesh_config,\n",
    "                    gaussfits_config=gaussfits_config\n",
    "                )\n",
    "\n",
    "        # ... and interpolate them so that I can evaluate them at the particle's position\n",
    "        # i set the sc.closestVal to be zero because that means y=0, which gives the\n",
    "        # proper r and z hat components\n",
    "        ER_sc_int = BilinearInterpolator((xx, zz), E_sc[:, sc.closestVal(0, yy), :, 0], force_regular_spacing=False)\n",
    "        EZ_sc_int = BilinearInterpolator((xx, zz), E_sc[:, sc.closestVal(0, yy), :, 2], force_regular_spacing=False)\n",
    "        BX_sc_int = BilinearInterpolator((xx, zz), B_sc[:, sc.closestVal(0, yy), :, 0], force_regular_spacing=False)\n",
    "        BY_sc_int = BilinearInterpolator((yy, zz), B_sc[:, sc.closestVal(0, yy), :, 1], force_regular_spacing=False)\n",
    "        # the index at the end is the component (x=r=0, y=1, z=2)\n",
    "\n",
    "        for j in range(len(parts)):\n",
    "            if parts[j].isLost == True:\n",
    "                pos[j,i] = pos[j,i-1]\n",
    "                vel[j,i] = vel[j,i-1]\n",
    "                continue\n",
    "\n",
    "            if Np > 1 and SC_FLAG == 1:\n",
    "                beta = vel[j,i-1,-1] / c\n",
    "                # Er = Er_space_charge(r[j],np.max(r[ii]),Ibeam,bunchLength,beta) #E_sc\n",
    "                # Bphi = Bphi_space_charge(r[j],np.max(r[ii]),beamCharge,bunchLength,beta) #B_Sc\n",
    "                # E_sc = Er*np.array([pos[j,i-1][0],pos[j,i-1][1],0])\n",
    "                # B_sc = 0.0 #Bphi*np.array([-pos[j,i-1][1],pos[j,i-1][0],0])\n",
    "                # what is being shown here are three-vectors. I have these!!\n",
    "\n",
    "                # replace these with my routine entirely.\n",
    "\n",
    "                # radial term                (r, z)                      (x, y ,z)\n",
    "                E_sc = ER_sc_int([pos[j,i-1][0], pos[j,i-1][2]]) * np.array([pos[j,i-1][0], pos[j,i-1][1], 0])\\\n",
    "                        + EZ_sc_int([pos[j,i-1][0], pos[j,i-1][2]]) * np.array([0, 0, pos[j, i-1][2]]) #longitudinal term\n",
    "\n",
    "                if j==1:\n",
    "                    print(E_sc)\n",
    "\n",
    "                # for now setting this to zero because i care more about the eflds\n",
    "                B_sc = 0.0\n",
    "\n",
    "            else:\n",
    "                E_sc = 0.0\n",
    "                B_sc = 0.0\n",
    "\n",
    "            if (pos[j,i-1,-1] <= 0):\n",
    "                SC_FLAG = 0\n",
    "            else:\n",
    "                SC_FLAG = 1\n",
    "\n",
    "            #print(CST_FLAG*Efld(np.flip(pos[j,i-1]),t[i-1]))\n",
    "            parts[j].set_fields(CST_FLAG*Efld(np.flip(pos[j,i-1]),t[i-1])+(len(parts)-Nlost)/len(parts)*SC_FLAG*E_sc\\\n",
    "                                ,(CST_FLAG*Bfld(np.flip(pos[j,i-1]),t[i-1])+(len(parts)-Nlost)/len(parts)*SC_FLAG*B_sc))\n",
    "                #print(parts[j].Efld)\n",
    "\n",
    "            pos[j,i], vel[j,i] = parts[j].Boris(dt)\n",
    "            if pos[j,i,-1] > zmax:\n",
    "                endFlag = True\n",
    "            if (CST_FLAG == 1 and i > 1):\n",
    "                parts[j].isLost = AmILost(np.linalg.norm(Efld(np.flip(pos[j,i-1]),t[i-1])),np.linalg.norm(Bfld(np.flip(pos[j,i-1]),t[i-1])),\\\n",
    "                              np.linalg.norm(vel[j,i-1]),pos[j,i-1,-1])\n",
    "                if(parts[j].isLost and parts[j].tsteplost == 0):\n",
    "                    isAlive[j] = False\n",
    "                    parts[j].tsteplost = i-1\n",
    "                    parts[j].tlost = parts[j].tsteplost*dt\n",
    "                    Nlost += 1\n",
    "                    continue\n",
    "        #rmean_hist[i-1] /= len(parts)\n",
    "        rmean_hist[i-1] = np.max(r)\n",
    "        if endFlag == True:\n",
    "            endind = i\n",
    "            break\n",
    "    return rmean_hist, Nlost, isAlive, endind"
   ]
  },
  {
   "cell_type": "markdown",
   "id": "659b1752-540f-4c4f-941d-9f479c1b9dd3",
   "metadata": {},
   "source": [
    "# Simulations"
   ]
  },
  {
   "cell_type": "code",
   "execution_count": 12,
   "id": "7b4556cc-3320-46b0-814a-ee4d05f4f944",
   "metadata": {},
   "outputs": [
    {
     "name": "stdout",
     "output_type": "stream",
     "text": [
      "0.0 0.29270745000000004 300 0.0 0.05 50\n",
      "[1.98638778e+02 1.01793844e+02 1.56747123e+05]\n"
     ]
    }
   ],
   "source": [
    "ERint, EZint, BTint, rr, zz, Emag = inputSuperfishfields(\"1T1.T7\")\n",
    "\n",
    "\n",
    "R = rr[4]\n",
    "Z = zz[4]\n",
    "th = np.pi/6\n",
    "\n",
    "r = np.array([R*np.cos(th), R*np.sin(th), Z])\n",
    "print(Efld(r,1e-9))"
   ]
  },
  {
   "cell_type": "code",
   "execution_count": 13,
   "id": "9c79e51a-5dec-425c-b987-404f4bf3539a",
   "metadata": {},
   "outputs": [
    {
     "data": {
      "text/plain": [
       "np.float64(0.29270745000000004)"
      ]
     },
     "execution_count": 13,
     "metadata": {},
     "output_type": "execute_result"
    }
   ],
   "source": [
    "np.max(zz)"
   ]
  },
  {
   "cell_type": "code",
   "execution_count": 14,
   "id": "49242346-7dc1-430b-a8d4-7d3e32e8dc4f",
   "metadata": {},
   "outputs": [
    {
     "data": {
      "text/plain": [
       "np.float64(0.05)"
      ]
     },
     "execution_count": 14,
     "metadata": {},
     "output_type": "execute_result"
    }
   ],
   "source": [
    "np.max(rr)"
   ]
  },
  {
   "cell_type": "code",
   "execution_count": 15,
   "id": "daf49a07-54bd-427c-8c1f-00e82fcacca1",
   "metadata": {},
   "outputs": [
    {
     "name": "stdout",
     "output_type": "stream",
     "text": [
      "[-9.10653686e+03 -5.25766151e+03 -7.03131138e+06]\n",
      "[ 0.00080044 -0.0013864  -0.        ]\n"
     ]
    }
   ],
   "source": [
    "#phi_RF = np.pi/2\n",
    "dt = 1e-11 #1.0/(71*f_res)\n",
    "Nt = 150 #)\n",
    "t = np.linspace(0,Nt*dt,Nt,endpoint=False)\n",
    "f_res = 1.3e9\n",
    "Amp_fac = 28.836*(10/61.33) # 6.3 MV/m\n",
    "phi_RF = np.pi/2+45/180*np.pi\n",
    "print(Efld(np.flip(r),0))\n",
    "print(Bfld(np.flip(r),0))\n",
    "\n",
    "def AmILost(normEfld,normBfld,normVel,posZ):\n",
    "    if ((normEfld < 1e-10) and (posZ > 0)):\n",
    "        return True\n",
    "    return False\n",
    "\n",
    "\n",
    "partsIMP = np.loadtxt(\"partcl.data\")\n",
    "partsIMP = partsIMP[::10]\n",
    "#print(\"Grad: \", Amp_fac)\n",
    "#plt.hist(partsIMP[:,-2],bins=32)"
   ]
  },
  {
   "cell_type": "code",
   "execution_count": 16,
   "id": "0ca9f6e3-2529-41b7-97c1-0ae992913f65",
   "metadata": {},
   "outputs": [
    {
     "name": "stdout",
     "output_type": "stream",
     "text": [
      "brad: 0.00011346604822668113, blen: 2.36660755323612e-05\n",
      "NPARTS 50\n",
      "260000000.0\n",
      "450333209.9679081\n",
      "450333209.9679081\n"
     ]
    },
    {
     "ename": "ValueError",
     "evalue": "Velocity is above the speed of light (c)!",
     "output_type": "error",
     "traceback": [
      "\u001b[31m---------------------------------------------------------------------------\u001b[39m",
      "\u001b[31mValueError\u001b[39m                                Traceback (most recent call last)",
      "\u001b[36mCell\u001b[39m\u001b[36m \u001b[39m\u001b[32mIn[16]\u001b[39m\u001b[32m, line 36\u001b[39m\n\u001b[32m     33\u001b[39m \u001b[38;5;66;03m# mass is taken care of in the declaration.\u001b[39;00m\n\u001b[32m     35\u001b[39m start = time.time()\n\u001b[32m---> \u001b[39m\u001b[32m36\u001b[39m rmean_hist, Nlost, isAlive, endind = \u001b[43mtrack_particles\u001b[49m\u001b[43m(\u001b[49m\u001b[43mCST_FLAG\u001b[49m\u001b[43m,\u001b[49m\u001b[43m \u001b[49m\u001b[43mSC_FLAG\u001b[49m\u001b[43m,\u001b[49m\u001b[43m \u001b[49m\u001b[43mnp\u001b[49m\u001b[43m.\u001b[49m\u001b[43mmax\u001b[49m\u001b[43m(\u001b[49m\u001b[43mzz\u001b[49m\u001b[43m)\u001b[49m\u001b[43m)\u001b[49m\n\u001b[32m     37\u001b[39m end = time.time()\n\u001b[32m     38\u001b[39m charge_AG = (\u001b[38;5;28mlen\u001b[39m(parts)-Nlost)/\u001b[38;5;28mlen\u001b[39m(parts)*chargenC\n",
      "\u001b[36mCell\u001b[39m\u001b[36m \u001b[39m\u001b[32mIn[11]\u001b[39m\u001b[32m, line 34\u001b[39m, in \u001b[36mtrack_particles\u001b[39m\u001b[34m(CST_FLAG, SC_FLAG, zmax, simulation)\u001b[39m\n\u001b[32m     31\u001b[39m \u001b[38;5;28mprint\u001b[39m(\u001b[33mf\u001b[39m\u001b[33m\"\u001b[39m\u001b[33mbrad: \u001b[39m\u001b[38;5;132;01m{\u001b[39;00mbunch_config[\u001b[33m\"\u001b[39m\u001b[33mRADIUS\u001b[39m\u001b[33m\"\u001b[39m]\u001b[38;5;132;01m}\u001b[39;00m\u001b[33m, blen: \u001b[39m\u001b[38;5;132;01m{\u001b[39;00mbunch_config[\u001b[33m\"\u001b[39m\u001b[33mLENGTH\u001b[39m\u001b[33m\"\u001b[39m]\u001b[38;5;132;01m}\u001b[39;00m\u001b[33m\"\u001b[39m)\n\u001b[32m     33\u001b[39m \u001b[38;5;66;03m# obtain the space charge fields (per timestep)...\u001b[39;00m\n\u001b[32m---> \u001b[39m\u001b[32m34\u001b[39m E_sc, B_sc, xx, yy, zz = \u001b[43msc\u001b[49m\u001b[43m.\u001b[49m\u001b[43mroutine\u001b[49m\u001b[43m(\u001b[49m\n\u001b[32m     35\u001b[39m \u001b[43m            \u001b[49m\u001b[43mmain_config\u001b[49m\u001b[43m=\u001b[49m\u001b[43mmain_config\u001b[49m\u001b[43m,\u001b[49m\n\u001b[32m     36\u001b[39m \u001b[43m            \u001b[49m\u001b[43mbunch_config\u001b[49m\u001b[43m=\u001b[49m\u001b[43mbunch_config\u001b[49m\u001b[43m,\u001b[49m\n\u001b[32m     37\u001b[39m \u001b[43m            \u001b[49m\u001b[43mmesh_config\u001b[49m\u001b[43m=\u001b[49m\u001b[43mmesh_config\u001b[49m\u001b[43m,\u001b[49m\n\u001b[32m     38\u001b[39m \u001b[43m            \u001b[49m\u001b[43mgaussfits_config\u001b[49m\u001b[43m=\u001b[49m\u001b[43mgaussfits_config\u001b[49m\n\u001b[32m     39\u001b[39m \u001b[43m        \u001b[49m\u001b[43m)\u001b[49m\n\u001b[32m     41\u001b[39m \u001b[38;5;66;03m# ... and interpolate them so that I can evaluate them at the particle's position\u001b[39;00m\n\u001b[32m     42\u001b[39m \u001b[38;5;66;03m# i set the sc.closestVal to be zero because that means y=0, which gives the\u001b[39;00m\n\u001b[32m     43\u001b[39m \u001b[38;5;66;03m# proper r and z hat components\u001b[39;00m\n\u001b[32m     44\u001b[39m ER_sc_int = BilinearInterpolator((xx, zz), E_sc[:, sc.closestVal(\u001b[32m0\u001b[39m, yy), :, \u001b[32m0\u001b[39m], force_regular_spacing=\u001b[38;5;28;01mFalse\u001b[39;00m)\n",
      "\u001b[36mFile \u001b[39m\u001b[32m~/Documents/python_stuff/ltf_playground/superfish/spacecharger.py:276\u001b[39m, in \u001b[36mroutine\u001b[39m\u001b[34m(main_config, bunch_config, mesh_config, gaussfits_config)\u001b[39m\n\u001b[32m    270\u001b[39m \u001b[38;5;66;03m###\u001b[39;00m\n\u001b[32m    271\u001b[39m \u001b[38;5;66;03m# STEP 2: Lorentz boost to the reference particle's frame\u001b[39;00m\n\u001b[32m    272\u001b[39m \u001b[38;5;66;03m###\u001b[39;00m\n\u001b[32m    273\u001b[39m \n\u001b[32m    274\u001b[39m \u001b[38;5;66;03m# Perform the lorentz boost for each particle\u001b[39;00m\n\u001b[32m    275\u001b[39m \u001b[38;5;28;01mfor\u001b[39;00m particle \u001b[38;5;129;01min\u001b[39;00m parts:\n\u001b[32m--> \u001b[39m\u001b[32m276\u001b[39m     \u001b[43mparticle\u001b[49m\u001b[43m.\u001b[49m\u001b[43mlorentz_boost_to\u001b[49m\u001b[43m(\u001b[49m\u001b[43mreference\u001b[49m\u001b[43m)\u001b[49m\n\u001b[32m    278\u001b[39m reference.boost_as_reference()\n\u001b[32m    280\u001b[39m \u001b[38;5;66;03m# get the velocities and positions of each particle\u001b[39;00m\n",
      "\u001b[36mFile \u001b[39m\u001b[32m~/Documents/python_stuff/ltf_playground/superfish/spacecharger.py:139\u001b[39m, in \u001b[36mBunchParticle.lorentz_boost_to\u001b[39m\u001b[34m(self, other)\u001b[39m\n\u001b[32m    136\u001b[39m     \u001b[38;5;28mself\u001b[39m.frame = other.frame\n\u001b[32m    138\u001b[39m \u001b[38;5;66;03m# first lorentz boost the velocity\u001b[39;00m\n\u001b[32m--> \u001b[39m\u001b[32m139\u001b[39m \u001b[38;5;28;43mself\u001b[39;49m\u001b[43m.\u001b[49m\u001b[43mlorentz_boost_from_4v\u001b[49m\u001b[43m(\u001b[49m\u001b[43mother\u001b[49m\u001b[43m.\u001b[49m\u001b[43mvel_4v\u001b[49m\u001b[43m)\u001b[49m\n\u001b[32m    141\u001b[39m \u001b[38;5;66;03m# then shift it\u001b[39;00m\n\u001b[32m    142\u001b[39m \u001b[38;5;28;01mif\u001b[39;00m \u001b[38;5;28mself\u001b[39m.name == \u001b[33m\"\u001b[39m\u001b[33mREFERENCE PARTICLE\u001b[39m\u001b[33m\"\u001b[39m:\n\u001b[32m    143\u001b[39m     \u001b[38;5;66;03m# here, the particle is the reference, and becomes the new reference frame\u001b[39;00m\n",
      "\u001b[36mFile \u001b[39m\u001b[32m~/Documents/python_stuff/ltf_playground/superfish/spacecharger.py:157\u001b[39m, in \u001b[36mBunchParticle.lorentz_boost_from_4v\u001b[39m\u001b[34m(self, to_vel_4v)\u001b[39m\n\u001b[32m    155\u001b[39m \u001b[38;5;28;01mdef\u001b[39;00m \u001b[34mlorentz_boost_from_4v\u001b[39m(\u001b[38;5;28mself\u001b[39m, to_vel_4v):\n\u001b[32m    156\u001b[39m \u001b[38;5;250m    \u001b[39m\u001b[33;03m\"\"\"Lorentz boost given a four-velocity\"\"\"\u001b[39;00m\n\u001b[32m--> \u001b[39m\u001b[32m157\u001b[39m     lorentz_matrix = \u001b[43mfv\u001b[49m\u001b[43m.\u001b[49m\u001b[43mlorentz_matrix_z_4v\u001b[49m\u001b[43m(\u001b[49m\u001b[43mto_vel_4v\u001b[49m\u001b[43m)\u001b[49m\n\u001b[32m    158\u001b[39m     \u001b[38;5;28mself\u001b[39m.vel_4v = matmul(lorentz_matrix, \u001b[38;5;28mself\u001b[39m.vel_4v)\n",
      "\u001b[36mFile \u001b[39m\u001b[32m~/Documents/python_stuff/ltf_playground/superfish/fourvectors.py:56\u001b[39m, in \u001b[36mlorentz_matrix_z_4v\u001b[39m\u001b[34m(eta)\u001b[39m\n\u001b[32m     53\u001b[39m \u001b[38;5;28;01mdef\u001b[39;00m \u001b[34mlorentz_matrix_z_4v\u001b[39m(eta):\n\u001b[32m     54\u001b[39m \u001b[38;5;250m    \u001b[39m\u001b[33;03m\"\"\"Returns the **Lorentz transformation matrix** given a four-velocity only\u001b[39;00m\n\u001b[32m     55\u001b[39m \u001b[33;03m    in the z-hat direction.\"\"\"\u001b[39;00m\n\u001b[32m---> \u001b[39m\u001b[32m56\u001b[39m     \u001b[38;5;28;01mreturn\u001b[39;00m \u001b[43mlorentz_matrix_z_3v\u001b[49m\u001b[43m(\u001b[49m\u001b[43mto_three_velocity\u001b[49m\u001b[43m(\u001b[49m\u001b[43meta\u001b[49m\u001b[43m)\u001b[49m\u001b[43m)\u001b[49m\n",
      "\u001b[36mFile \u001b[39m\u001b[32m~/Documents/python_stuff/ltf_playground/superfish/fourvectors.py:45\u001b[39m, in \u001b[36mlorentz_matrix_z_3v\u001b[39m\u001b[34m(v)\u001b[39m\n\u001b[32m     42\u001b[39m \u001b[38;5;250m\u001b[39m\u001b[33;03m\"\"\"Returns the **Lorentz transformation matrix** given a three-velocity only\u001b[39;00m\n\u001b[32m     43\u001b[39m \u001b[33;03min the z-hat direction.\"\"\"\u001b[39;00m\n\u001b[32m     44\u001b[39m beta = norm(v) / \u001b[32m3E8\u001b[39m\n\u001b[32m---> \u001b[39m\u001b[32m45\u001b[39m gamma = \u001b[43mgamma_3v\u001b[49m\u001b[43m(\u001b[49m\u001b[43mnorm\u001b[49m\u001b[43m(\u001b[49m\u001b[43mv\u001b[49m\u001b[43m)\u001b[49m\u001b[43m)\u001b[49m\n\u001b[32m     46\u001b[39m \u001b[38;5;28;01mreturn\u001b[39;00m np.array([\n\u001b[32m     47\u001b[39m     [gamma, \u001b[32m0\u001b[39m, \u001b[32m0\u001b[39m, -gamma*beta],\n\u001b[32m     48\u001b[39m     [ \u001b[32m0\u001b[39m, \u001b[32m1\u001b[39m, \u001b[32m0\u001b[39m, \u001b[32m0\u001b[39m],\n\u001b[32m     49\u001b[39m     [ \u001b[32m0\u001b[39m, \u001b[32m0\u001b[39m, \u001b[32m1\u001b[39m, \u001b[32m0\u001b[39m],\n\u001b[32m     50\u001b[39m     [-gamma*beta, \u001b[32m0\u001b[39m, \u001b[32m0\u001b[39m, gamma]\n\u001b[32m     51\u001b[39m ])\n",
      "\u001b[36mFile \u001b[39m\u001b[32m~/Documents/python_stuff/ltf_playground/superfish/fourvectors.py:15\u001b[39m, in \u001b[36mgamma_3v\u001b[39m\u001b[34m(v)\u001b[39m\n\u001b[32m     12\u001b[39m \u001b[38;5;28mprint\u001b[39m(v)\n\u001b[32m     14\u001b[39m \u001b[38;5;66;03m# ensure we're not going above c\u001b[39;00m\n\u001b[32m---> \u001b[39m\u001b[32m15\u001b[39m \u001b[43mcheck_vel_3v\u001b[49m\u001b[43m(\u001b[49m\u001b[43mv\u001b[49m\u001b[43m)\u001b[49m\n\u001b[32m     17\u001b[39m \u001b[38;5;250m\u001b[39m\u001b[33;03m\"\"\"Returns the Lorentz γ(gamma) factor from a three-velocity.\"\"\"\u001b[39;00m\n\u001b[32m     18\u001b[39m \u001b[38;5;28;01mreturn\u001b[39;00m \u001b[32m1\u001b[39m/np.sqrt(\u001b[32m1\u001b[39m - norm(v)**\u001b[32m2\u001b[39m/\u001b[32m9E16\u001b[39m)\n",
      "\u001b[36mFile \u001b[39m\u001b[32m~/Documents/python_stuff/ltf_playground/superfish/fourvectors.py:62\u001b[39m, in \u001b[36mcheck_vel_3v\u001b[39m\u001b[34m(vel_3v)\u001b[39m\n\u001b[32m     60\u001b[39m \u001b[38;5;28;01mif\u001b[39;00m norm(vel_3v) > \u001b[32m3E8\u001b[39m:\n\u001b[32m     61\u001b[39m     \u001b[38;5;28mprint\u001b[39m(vel_3v)\n\u001b[32m---> \u001b[39m\u001b[32m62\u001b[39m     \u001b[38;5;28;01mraise\u001b[39;00m \u001b[38;5;167;01mValueError\u001b[39;00m(\u001b[33m\"\u001b[39m\u001b[33mVelocity is above the speed of light (c)!\u001b[39m\u001b[33m\"\u001b[39m)\n",
      "\u001b[31mValueError\u001b[39m: Velocity is above the speed of light (c)!"
     ]
    }
   ],
   "source": [
    "#charges = np.linspace(0.1,10,21)\n",
    "#charge_AG = np.zeros(21)\n",
    "\n",
    "#start_overall = time.time()\n",
    "#for k in range(len(charges)):\n",
    "#print(\"Analysing \", charges[k], \"nC\")\n",
    "vel = np.zeros([len(partsIMP),Nt,3])\n",
    "pos = np.zeros([len(partsIMP),Nt,3])\n",
    "parts = []\n",
    "Np = len(partsIMP)\n",
    "\n",
    "q = 1.6e-19\n",
    "me = 9.1e-31\n",
    "chargenC = 10\n",
    "beamCharge = -1e-9*chargenC\n",
    "Ibeam = 1.3*chargenC\n",
    "\n",
    "p_charge = beamCharge/Np\n",
    "p_mass = abs(p_charge/q)*me\n",
    "\n",
    "\n",
    "for i in range(len(partsIMP)):\n",
    "    vel[i,0,0] = partsIMP[i,1]\n",
    "    vel[i,0,1] = partsIMP[i,3]\n",
    "    vel[i,0,2] = 4e7 #partsIMP[i,5]\n",
    "    pos[i,0,0] = partsIMP[i,0]\n",
    "    pos[i,0,1] = partsIMP[i,2]\n",
    "    pos[i,0,2] = partsIMP[i,4]\n",
    "    parts.append(Particle(p_charge,p_mass,vel[i,0],pos[i,0]))\n",
    "\n",
    "bunch_config[\"CHARGE\"] = beamCharge\n",
    "bunch_config[\"NUM_PARTICLES\"] = Npart\n",
    "# mass is taken care of in the declaration.\n",
    "\n",
    "start = time.time()\n",
    "rmean_hist, Nlost, isAlive, endind = track_particles(CST_FLAG, SC_FLAG, np.max(zz))\n",
    "end = time.time()\n",
    "charge_AG = (len(parts)-Nlost)/len(parts)*chargenC\n",
    "#print(\"Laser Charge: \",charges[k], \"nC; After Gun: \", charge_AG[k], \"nC; Exec: \", end-start, \"s\")\n",
    "#end_overall = time.time()\n",
    "print(\"Exec Time Overall: \", end-start, \"s\")"
   ]
  },
  {
   "cell_type": "code",
   "execution_count": 24,
   "id": "66e3311f",
   "metadata": {},
   "outputs": [
    {
     "data": {
      "text/plain": [
       "4950"
      ]
     },
     "execution_count": 24,
     "metadata": {},
     "output_type": "execute_result"
    }
   ],
   "source": [
    "sum = 0\n",
    "\n",
    "for i in range(100):\n",
    "    sum += i\n",
    "\n",
    "sum"
   ]
  },
  {
   "cell_type": "code",
   "execution_count": null,
   "id": "8c81c2e2",
   "metadata": {},
   "outputs": [],
   "source": [
    "print(endind)"
   ]
  },
  {
   "cell_type": "code",
   "execution_count": null,
   "id": "96c63e14-2b48-4f81-8063-ccfd13a4ea94",
   "metadata": {},
   "outputs": [],
   "source": [
    "Z,R = np.meshgrid(zz,rr)\n",
    "plt.pcolormesh(Z,R,np.transpose(Emag),cmap=\"Greens\")\n",
    "\n",
    "# ind = endind-4\n",
    "# print(n)\n",
    "ind_1 = 10\n",
    "ind_2 = 0\n",
    "\n",
    "                # z             #r\n",
    "plt.plot(pos[:,ind_1,-1],np.sqrt(pos[:,ind_1,0]**2 + pos[:,ind_1,1]**2),'r.',markersize=3,alpha=1)\n",
    "plt.plot(pos[:,ind_2,-1],np.sqrt(pos[:,ind_2,0]**2 + pos[:,ind_2,1]**2),'r.',markersize=3,alpha=1)\n",
    "plt.grid()"
   ]
  },
  {
   "cell_type": "code",
   "execution_count": null,
   "id": "0423347f",
   "metadata": {},
   "outputs": [],
   "source": [
    "print(vel[:,10,-1])"
   ]
  },
  {
   "cell_type": "code",
   "execution_count": null,
   "id": "546878e7-0822-4486-8302-9ee4bb561080",
   "metadata": {},
   "outputs": [],
   "source": [
    "plt.plot(pos[:,ind_1,-1],np.sqrt(pos[:,ind_1,0]**2 + pos[:,ind_1,1]**2),'r.',markersize=3,alpha=1)\n",
    "plt.grid()\n",
    "#plt.plot(pos[:,0,-1]-np.mean(pos[:,0,-1]),np.sqrt(pos[:,0,0]**2 + pos[:,0,1]**2),'b.',markersize=3,alpha=1)"
   ]
  }
 ],
 "metadata": {
  "authors": [
   {
    "name": "Omkar H. Ramachandran"
   }
  ],
  "kernelspec": {
   "display_name": "base",
   "language": "python",
   "name": "python3"
  },
  "language_info": {
   "codemirror_mode": {
    "name": "ipython",
    "version": 3
   },
   "file_extension": ".py",
   "mimetype": "text/x-python",
   "name": "python",
   "nbconvert_exporter": "python",
   "pygments_lexer": "ipython3",
   "version": "3.12.2"
  },
  "title": "USPAS Final Project: Tracking Simulations with Space Charge"
 },
 "nbformat": 4,
 "nbformat_minor": 5
}
