{
 "cells": [
  {
   "cell_type": "markdown",
   "id": "03046c6d",
   "metadata": {},
   "source": [
    "# SuperFish [ 7/8/2025 ]\n",
    "implemented full space charge solves - CN"
   ]
  },
  {
   "cell_type": "markdown",
   "id": "4c9577ab",
   "metadata": {},
   "source": [
    "## Import Block"
   ]
  },
  {
   "cell_type": "code",
   "execution_count": 20,
   "id": "27969021-414f-4b1e-8e99-559254c825ef",
   "metadata": {},
   "outputs": [],
   "source": [
    "import numpy as np\n",
    "import math\n",
    "import matplotlib.pyplot as plt\n",
    "import matplotlib as mpl\n",
    "import time\n",
    "mpl.rcParams['axes.linewidth'] = 1.2\n",
    "from numpy.linalg import norm\n",
    "#from numba import njit\n",
    "#from numba.experimental import jitclass\n",
    "from scipy.interpolate import RegularGridInterpolator, interp1d\n",
    "#import pycharge as pc\n",
    "pycharge_flag=1\n",
    "c = 3E8\n",
    "f_res = 2.856e9\n",
    "Amp_fac=0.12\n",
    "phi_RF = 0 #np.pi\n",
    "omega = 2*np.pi*f_res\n",
    "\n",
    "#space charge solver\n",
    "import spacecharger as sc\n",
    "\n",
    "EPSILON_0 = 8.85E-12\n",
    "COULOMB_K = 1 / (4 * np.pi * EPSILON_0)"
   ]
  },
  {
   "cell_type": "markdown",
   "id": "4d8d5535",
   "metadata": {},
   "source": [
    "## Constants"
   ]
  },
  {
   "cell_type": "code",
   "execution_count": 21,
   "id": "6936b2ef",
   "metadata": {},
   "outputs": [],
   "source": [
    "beam_charge = 1e-9                             # Beam Charge\n",
    "q = 1.6e-19                                    # Proton charge\n",
    "me = 9.1e-31                                   # Electron mass\n",
    "Nt = 75                                        # Number of timesteps\n",
    "L = 4.13*0.0254                                # Length scale in m (set this to overall beamtube length or similar)\n",
    "dt = L/(50*c) #1.0/(10*omega_f)                # Timestep size -- set based on light transit time\n",
    "t = np.linspace(0,Nt*dt,Nt,endpoint=False)\n",
    "Np = 5000                                      # Number of particles\n",
    "p_charge = -beam_charge/Np                     # charge of each macroparticle (beam charge/Np)\n",
    "p_mass = abs(p_charge/q*me)                    # Macroparticle mass (beam charge/q*me)\n",
    "v0 = 2.9e8                                     # Initial beam velocity\n",
    "sigma_x = 0.001                                # Beam radius std deviation\n",
    "r_c = 0.0375                                   # Not used\n",
    "sigma_u = 0.001                                # std deviation in initial momentum\n",
    "Ibeam = -beam_charge*v0                        # Beam current\n",
    "beam_pos_shift = np.array([0,0.038,0.038])     # Beam position shift (not used)"
   ]
  },
  {
   "cell_type": "markdown",
   "id": "4e326beb",
   "metadata": {},
   "source": [
    "## Particle Generation"
   ]
  },
  {
   "cell_type": "code",
   "execution_count": 22,
   "id": "668df669",
   "metadata": {},
   "outputs": [],
   "source": [
    "Npart = int(Np) # number of particles\n",
    "spotsize = 5e-4  # spot size, like rad of bunch\n",
    "bunchLength = 3.2e-5\n",
    "velz = 1.46717e-03 #initial\n",
    "parts = np.zeros([Npart,6])\n",
    "\n",
    "parts[0] = np.array([0,0,0,0,-bunchLength/2,velz])\n",
    "for i in range(1,Npart):\n",
    "    parts[i,-2] = np.random.uniform(low=-bunchLength,high=0)\n",
    "    parts[i,-1] = velz\n",
    "    x = np.random.uniform(low=-spotsize/2,high=spotsize/2)\n",
    "    y = np.random.uniform(low=-spotsize/2,high=spotsize/2)\n",
    "    if (np.sqrt(x**2 + y**2) < spotsize/2):\n",
    "        parts[i,0] = x\n",
    "        parts[i,2] = y #r*np.sin(th)\n",
    "\n",
    "np.savetxt('partcl.data', parts)"
   ]
  },
  {
   "cell_type": "markdown",
   "id": "31bcaeab",
   "metadata": {},
   "source": [
    "## Space Charge Parameters\n",
    "Note that I set anything that may be changed later to -1."
   ]
  },
  {
   "cell_type": "code",
   "execution_count": 23,
   "id": "6e6fcb0c",
   "metadata": {},
   "outputs": [],
   "source": [
    "# Define flags to turn on Space Charge (SC_FLAG) and CST fields (CST_FLAG)\n",
    "SC_FLAG = 1.0\n",
    "CST_FLAG = 0.0 # temp disabled because all we care about right now is space charge expansion\n",
    "\n",
    "main_config = dict(\n",
    "    INTEGRATOR = \"Trapezoidal\", #Can be \"Trapezoidal\" or \"Gaussian\"\n",
    "    SHOW_GAUSSIAN_FIT = False,\n",
    "    SAVE_PLOTS = True,\n",
    "    OUT_PATH = \".\",\n",
    "    SEED_RNG = True\n",
    ")\n",
    "\n",
    "bunch_config = dict(\n",
    "    # change the particles to be macroparticles. i.e. define bunch charge and then\n",
    "    # scale it according to num particles (q = bunchCharge/N)\n",
    "    NUM_PARTICLES = -1,\n",
    "    SPECIES = \"Electron\",    # can be \"Electron\" or \"Proton\"\n",
    "    MU_VEL = 2.6E8, #m/s\n",
    "    SIG_VEL = 5E6,  #m/s\n",
    "    MU_POS = 0,     #meters\n",
    "    SIG_POS = 1E-4, #meter\n",
    "    DISTRIBUTION = \"Gaussian\", # can be \"Uniform\", \"Mesa\", or \"Gaussian\"\n",
    "    RADIUS = 1E-4,   # meters\n",
    "    LENGTH = -1,     # set to -1 to auto infer bunch length. recommended\n",
    "    CHARGE = -1\n",
    ")\n",
    "\n",
    "#notes, 5 mesh points and 64 quad points seem to work decently well for\n",
    "# mu_v = 2.6E8, sig_v = 5E6, rad = 1E-4, integ = trap\n",
    "mesh_config = dict(\n",
    "    X_MESH_PTS = 5,\n",
    "    Y_MESH_PTS = 5,   # set to -1 to set dy = dx\n",
    "    Z_MESH_PTS = 15,  # set to -1 to set dz = dx\n",
    "    SHOW_MESH = True,\n",
    "    QUAD_PTS = 64\n",
    ")\n",
    "\n",
    "gaussfits_config = dict(\n",
    "    NUM_BINS = 50,\n",
    "    NUM_GAUSSIANS = 50,\n",
    "    WIDTH_GAUSSIANS = 0.00004\n",
    ")"
   ]
  },
  {
   "cell_type": "markdown",
   "id": "c22c607f",
   "metadata": {},
   "source": [
    "## Handy Field Conversions"
   ]
  },
  {
   "cell_type": "code",
   "execution_count": 24,
   "id": "88392022",
   "metadata": {},
   "outputs": [],
   "source": [
    "def Exint(r):\n",
    "    r = np.flip(r)\n",
    "    rad = np.sqrt(r[0]**2 + r[1]**2)\n",
    "    th = math.atan2(r[1],r[0])\n",
    "    z = r[-1]\n",
    "\n",
    "    return [ERint((z,rad))*np.cos(th)]\n",
    "\n",
    "def Eyint(r):\n",
    "    r = np.flip(r)\n",
    "    rad = np.sqrt(r[0]**2 + r[1]**2)\n",
    "    th = math.atan2(r[1],r[0])\n",
    "    z = r[-1]\n",
    "\n",
    "    return [ERint((z,rad))*np.sin(th)]\n",
    "\n",
    "def Ezint(r):\n",
    "    r = np.flip(r)\n",
    "    rad = np.sqrt(r[0]**2 + r[1]**2)\n",
    "    th = math.atan2(r[1],r[0])\n",
    "    z = r[-1]\n",
    "\n",
    "    return [EZint((z,rad))]\n",
    "\n",
    "def Bxint(r):\n",
    "    r = np.flip(r)\n",
    "    rad = np.sqrt(r[0]**2 + r[1]**2)\n",
    "    th = math.atan2(r[1],r[0])\n",
    "    z = r[-1]\n",
    "\n",
    "    return [-BTint((z,rad))*np.sin(th)]\n",
    "\n",
    "def Byint(r):\n",
    "    r = np.flip(r)\n",
    "    rad = np.sqrt(r[0]**2 + r[1]**2)\n",
    "    th = math.atan2(r[1],r[0])\n",
    "    z = r[-1]\n",
    "\n",
    "    return [BTint((z,rad))*np.cos(th)]\n",
    "\n",
    "def B_phi(x, y, z):\n",
    "    r = np.hypot(x, y)\n",
    "    phi = np.arctan2(y, x)\n",
    "    bx = BXint([x,y,z])\n",
    "    by = BYint([x,y,z])\n",
    "    return -bx * np.sin(phi) + by * np.cos(phi)"
   ]
  },
  {
   "cell_type": "code",
   "execution_count": 36,
   "id": "f5129dc1",
   "metadata": {},
   "outputs": [
    {
     "data": {
      "text/plain": [
       "array([0.005, 0.02 , 0.035, 0.05 ])"
      ]
     },
     "execution_count": 36,
     "metadata": {},
     "output_type": "execute_result"
    }
   ],
   "source": [
    "np.linspace(start=0.5e-2, stop=5e-2, num=4)"
   ]
  },
  {
   "cell_type": "markdown",
   "id": "774e1922-21aa-4b99-9d43-c83c7dc3acf5",
   "metadata": {},
   "source": [
    "# Method and Code Breakdown"
   ]
  },
  {
   "cell_type": "markdown",
   "id": "65aa9ba7-6a35-426a-aa31-ca6d62596737",
   "metadata": {},
   "source": [
    "Let's assume axisymmetric fields, i.e $\\partial_{\\theta} E_{\\theta} = 0$, and time harmonic variation, i.e $E(\\vec{r},t) = \\tilde{E}(\\vec{r})\\cos(\\omega t + \\phi_{\\text{RF}})$, $B(\\vec{r},t) = \\tilde{B}(\\vec{r})\\cos(\\omega t + \\phi_{\\text{RF}})$. Then, from Gauss' Law\n",
    "$$ \\nabla \\cdot \\tilde{E} = 0 \\implies \\partial_{z}\\tilde{E}_{z} + r^{-1}\\partial_{r}r \\tilde{E}_{r} = 0.$$\n",
    "Or,\n",
    "$$ r\\tilde{E}_{r} = -\\frac{r^{2}}{2}\\partial_{z}\\tilde{E}_{z} \\implies \\tilde{E}_{r} = -\\frac{r}{2}\\partial_{z}\\tilde{E}_{z} = -\\frac{r}{2}\\tilde{E}_{z}'.$$\n",
    "From Ampere's Law in frequency domain (with no free currents),\n",
    "$$ \\nabla\\times \\tilde{B} = j\\omega\\mu_{0}\\epsilon_{0} \\tilde{E} \\implies r^{-1}\\partial_{r} r B_{\\theta} = j\\omega c^{-2}E_{z}.$$\n",
    "Or,\n",
    "$$ B_{\\theta} = j\\omega\\frac{r}{2 c^{2}} E_{z}.$$\n",
    "Since, $E_{z} = \\tilde{E}_{z}\\cos(\\omega t + \\phi_{\\text{RF}})$,\n",
    "$$ B_{\\theta} = -\\frac{r\\omega}{2 c^{2}}\\tilde{E}_{z}\\sin(\\omega t + \\phi_{\\text{RF}}).$$\n",
    "Loading in $E_{z}$ from CST, computing $E_{r}$, $B_{\\theta}$ and computing $B_{x},B_{y},E_{x},E_{y}$ through\n",
    "$$ E_{z} = \\tilde{E}_{z}\\cos(\\omega t + \\phi_{RF})$$\n",
    "$$ E_{r} = -\\frac{r}{2}\\tilde{E}_{z}'\\cos(\\omega t + \\phi_{RF})$$\n",
    "$$ B_{\\theta} = -\\frac{\\omega r}{2c^{2}}\\tilde{E}_{z}\\sin(\\omega t + \\phi_{RF})$$\n",
    "\n",
    "Note: This saves on memory since I only have to export $\\tilde{E}_{z}$ from CST, but I could theoretically spit out $\\textbf{all}$ of the fields and use it on a cavity without nice symmetries as well."
   ]
  },
  {
   "cell_type": "code",
   "execution_count": 25,
   "id": "c4b76768-9ab7-4c65-85b6-940f28a4fe1f",
   "metadata": {},
   "outputs": [],
   "source": [
    "def inputSuperfishfields(fname):\n",
    "    with open(fname) as fin:\n",
    "        lines = fin.readlines()\n",
    "        linesplit = [lines[i].split() for i in range(len(lines))]\n",
    "        Zmin = float(linesplit[0][0])/100\n",
    "        Zmax = float(linesplit[0][1])/100\n",
    "        Nz = int(linesplit[0][2])\n",
    "        freq = float(linesplit[1][0])*1e6\n",
    "        Rmin = float(linesplit[2][0])/100\n",
    "        Rmax = float(linesplit[2][1])/100\n",
    "        Nr = int(linesplit[2][2])\n",
    "\n",
    "    rr = np.linspace(Rmin,Rmax,Nr+1,endpoint=True)\n",
    "    zz = np.linspace(Zmin,Zmax,Nz+1,endpoint=True)\n",
    "\n",
    "    print(Zmin, Zmax, Nz, Rmin, Rmax, Nr)\n",
    "\n",
    "    E = np.zeros([Nz+1,Nr+1,2])\n",
    "    Emag = np.zeros([Nz+1,Nr+1])\n",
    "    Bt = np.zeros([Nz+1,Nr+1])\n",
    "\n",
    "    linesplitE = linesplit[4::2]\n",
    "    linesplitB = linesplit[5::2]\n",
    "\n",
    "    for ind in range(len(linesplitE)):\n",
    "        i = ind % (Nz+1)\n",
    "        j = int(ind / (Nz+1)) - 1\n",
    "        E[i,j,0] = float(linesplitE[ind][0])*1e6\n",
    "        E[i,j,1] = float(linesplitE[ind][1])*1e6\n",
    "        Emag[i,j] = float(linesplitE[ind][2])*1e6\n",
    "        Bt[i,j] = float(linesplitB[ind][0])*4e-7*np.pi\n",
    "\n",
    "    ERint = RegularGridInterpolator((zz,rr),E[:,:,1])\n",
    "    EZint = RegularGridInterpolator((zz,rr),E[:,:,0])\n",
    "    BTint = RegularGridInterpolator((zz,rr),Bt[:,:])\n",
    "\n",
    "    return ERint,EZint,BTint, rr, zz, Emag"
   ]
  },
  {
   "cell_type": "code",
   "execution_count": 26,
   "id": "22b2f91d-688a-4e9f-b0fd-96f2b0a1b5e9",
   "metadata": {},
   "outputs": [],
   "source": [
    "def Efld(r,t):\n",
    "    try:\n",
    "        E = Amp_fac*np.array([Exint(r)[0],Eyint(r)[0],Ezint(r)[0]])*np.cos(2*np.pi*f_res*t+phi_RF)\n",
    "    except:\n",
    "        E = np.array([0,0,0])\n",
    "    return E\n",
    "\n",
    "def Bfld(r,t):\n",
    "    try:\n",
    "        B = -Amp_fac*np.array([Bxint(r)[0],Byint(r)[0],0])*np.sin(2*np.pi*f_res*t+phi_RF)\n",
    "    except:\n",
    "        B = np.array([0,0,0])\n",
    "    return B"
   ]
  },
  {
   "cell_type": "markdown",
   "id": "a245608c-ef9a-4cb3-a33c-91dbcc3d68ff",
   "metadata": {},
   "source": [
    "Next, I define the space charge field. Using Gauss' Laws, if the radius is higher than the nominal beam radius,\n",
    "$$ E_{r} = \\frac{I_{b}}{2\\pi\\epsilon_{0}v_{z}a^{2}}r.$$\n",
    "If $r<a$, $\\rho_{r} = \\rho\\frac{r^{2}}{a^{2}}$ and thus\n",
    "$$ E_{r} = \\frac{I_{b}}{2\\pi\\epsilon_{0}v_{z}a^{4}}r^{3}.$$\n",
    "The function below is divided by $r$ to make the cos/sin $\\theta$ computations more convenient later."
   ]
  },
  {
   "cell_type": "markdown",
   "id": "4680bb9d-8ead-40bc-961f-f5bd297e11ca",
   "metadata": {},
   "source": [
    "Next, we define a particle class to store quantities like charge/mass. It isn't necessary for the simple program I'm writing here, but makes generalizing to more complex beams later easier. The most important thing here is the Boris routine that implements the Boris particle push. Without going into too much detail (ref. Birdsall and Langdon for the minutia), Boris implements the lorentz force\n",
    "$$ \\partial_{t} \\mathbf{p} = q\\mathbf{E} + q\\mathbf{v}\\times\\mathbf{B}$$\n",
    "in three steps, (1) add half of the electric force, rotate the trajectory analytically in accordance with a constant $\\mathbf{v}\\times\\mathbf{B}$ and then add the other half of the electric force.\n",
    "\n",
    "Doing the momentum update in this fashion conserves energy under magnetic rotations (Interestingly Boris is not symplectic. See Ramachandran et al. 2023 arXiv:2303.08037 for details)."
   ]
  },
  {
   "cell_type": "code",
   "execution_count": 27,
   "id": "1404c116-5c66-4e3f-99f4-5b60bd73600f",
   "metadata": {},
   "outputs": [],
   "source": [
    "class Particle():\n",
    "    def __init__(self,q,m,vel,pos):\n",
    "        self.q = q\n",
    "        self.m = m\n",
    "        self.vel = vel\n",
    "        self.pos = pos\n",
    "        self.Efld = np.zeros(3)\n",
    "        self.Efld_r = np.zeros(3)\n",
    "        self.Bfld = np.zeros(3)\n",
    "        self.Bfld_r = np.zeros(3)\n",
    "        self.theta = 0\n",
    "        self.r = 0\n",
    "        self.tlost = 0\n",
    "        self.tsteplost = 0\n",
    "        self.isLost = False\n",
    "\n",
    "    def set_fields(self,Efld,Bfld):\n",
    "        self.Bfld = Bfld\n",
    "        self.Efld = Efld\n",
    "\n",
    "    def Boris(self,dt):\n",
    "        Uprime = np.zeros(3)\n",
    "        gmma = 1.0/np.sqrt(1-norm(self.vel)**2/c**2)\n",
    "        const1 = dt*self.q/(2*self.m)\n",
    "        Upast = gmma*self.vel\n",
    "        Uminus = Upast + const1*self.Efld\n",
    "        gmma_new = np.sqrt(1 + norm(Uminus)**2/c**2)\n",
    "        t = self.Bfld*const1/gmma_new\n",
    "        Uprime = Uminus + np.cross(Uminus,t)\n",
    "        Uplus = Uminus + np.cross(Uprime,2*t/(1+norm(t)**2))\n",
    "        Unext = Uplus + const1*self.Efld\n",
    "        self.vel = Unext/np.sqrt(1+norm(Unext)**2/c**2)\n",
    "        self.pos = self.pos + dt*self.vel\n",
    "        return self.pos,self.vel"
   ]
  },
  {
   "cell_type": "markdown",
   "id": "3436cade-4505-4495-af65-978fc9907fb4",
   "metadata": {},
   "source": [
    "Next, we initialize particle positions/velocities as well as time history arrays (maybe write to file when this code is made to run larger things)"
   ]
  },
  {
   "cell_type": "markdown",
   "id": "20e4e3d4-c0d8-4856-8c35-5c509f24a824",
   "metadata": {},
   "source": [
    "Finally, we can put it all together. At each step, I compute an average radius/position of the beam and use it to evaluate space charge. Both fields are passed to Boris which pushes over the next $dt$ step."
   ]
  },
  {
   "cell_type": "code",
   "execution_count": 28,
   "id": "7bc23439-bfed-4dd3-a3e1-e281367e326b",
   "metadata": {},
   "outputs": [],
   "source": [
    "def AmILost(normEfld,normBfld,normVel,posY):\n",
    "    if (normEfld+normVel*normBfld < 1e-10):\n",
    "        return True\n",
    "    #if (abs(posY) > 7.575e-3):\n",
    "    #    return True\n",
    "    return False"
   ]
  },
  {
   "cell_type": "code",
   "execution_count": null,
   "id": "f6f79e3b-11cc-4627-8a43-7e3c6087a59e",
   "metadata": {},
   "outputs": [],
   "source": [
    "def track_particles(CST_FLAG, SC_FLAG, zmax, simulation=None):\n",
    "    rmean_hist = np.zeros(Nt)\n",
    "    Nlost = 0\n",
    "    isAlive = np.array([True for i in range(len(parts))])\n",
    "    endFlag = False\n",
    "    endind = -1\n",
    "    bunchLength = 0\n",
    "    for i in range(1, Nt):\n",
    "        if(i%10 == 0):\n",
    "            print (\"Timestep \",i,\"/\",Nt)\n",
    "        ii = np.where(isAlive == True)\n",
    "        if len(ii[0]) == 0:\n",
    "            rmean = [0,0]\n",
    "            vmean = [0,0]\n",
    "        else:\n",
    "            rmean = np.mean(pos[ii[0],i-1],axis=0)\n",
    "            vmean = np.mean(vel[ii[0],i-1],axis=0)\n",
    "        rmean_hist[i-1] = 0\n",
    "        #print(np.shape(pos))\n",
    "        bunchLength = np.max(pos[ii[0],i-1,-1]) - np.min(pos[ii[0],i-1,-1]) \n",
    "\n",
    "        r = np.sqrt((pos[:,i-1,0])**2 + (pos[:,i-1,1])**2)\n",
    "        #v_mean = np.mean(vel[:,i-1,0])\n",
    "        #print(np.shape(r))\n",
    "\n",
    "        # set some things dynamically given the geometry of the bunch\n",
    "        # do i need to set the velocity straight from the bunch itself????????\n",
    "        bunch_config[\"RADIUS\"] = np.max(r[ii])\n",
    "        bunch_config[\"LENGTH\"] = bunchLength # unsure if this is needed\n",
    "\n",
    "        print(f\"brad: {bunch_config[\"RADIUS\"]}, blen: {bunch_config[\"LENGTH\"]}\")\n",
    "\n",
    "        # obtain the space charge fields (per timestep)...\n",
    "        E_sc, B_sc, xx, yy, zz = sc.routine(\n",
    "                    main_config=main_config,\n",
    "                    bunch_config=bunch_config,\n",
    "                    mesh_config=mesh_config,\n",
    "                    gaussfits_config=gaussfits_config\n",
    "                )\n",
    "\n",
    "        # ... and interpolate them so that I can evaluate them at the particle's position\n",
    "        # i set the sc.closestVal to be zero because that means y=0, which gives the\n",
    "        # proper r and z hat components\n",
    "        ER_sc_int = RegularGridInterpolator((xx, zz), E_sc[:, sc.closestVal(0, yy), :, 0], fill_value = None, bounds_error=False)\n",
    "        EZ_sc_int = RegularGridInterpolator((xx, zz), E_sc[:, sc.closestVal(0, yy), :, 2], fill_value = None, bounds_error=False)\n",
    "        BX_sc_int = RegularGridInterpolator((xx, zz), B_sc[:, sc.closestVal(0, yy), :, 0], fill_value = None, bounds_error=False)\n",
    "        BY_sc_int = RegularGridInterpolator((yy, zz), B_sc[:, sc.closestVal(0, yy), :, 1], fill_value = None, bounds_error=False)\n",
    "        # the index at the end is the component (x=r=0, y=1, z=2)\n",
    "\n",
    "        for j in range(len(parts)):\n",
    "            if parts[j].isLost == True:\n",
    "                pos[j,i] = pos[j,i-1]\n",
    "                vel[j,i] = vel[j,i-1]\n",
    "                continue\n",
    "\n",
    "            if Np > 1 and SC_FLAG == 1:\n",
    "                beta = vel[j,i-1,-1] / c\n",
    "                # Er = Er_space_charge(r[j],np.max(r[ii]),Ibeam,bunchLength,beta) #E_sc\n",
    "                # Bphi = Bphi_space_charge(r[j],np.max(r[ii]),beamCharge,bunchLength,beta) #B_Sc\n",
    "                # E_sc = Er*np.array([pos[j,i-1][0],pos[j,i-1][1],0])\n",
    "                # B_sc = 0.0 #Bphi*np.array([-pos[j,i-1][1],pos[j,i-1][0],0])\n",
    "                # what is being shown here are three-vectors. I have these!!\n",
    "\n",
    "                # replace these with my routine entirely.\n",
    "\n",
    "\n",
    "\n",
    "                # radial term                (r, z)                      (x, y ,z)\n",
    "                E_sc = ER_sc_int([pos[j,i-1][0], pos[j,i-1][2]]) * np.array([pos[j,i-1][0], pos[j,i-1][1], 0])\\\n",
    "                        + EZ_sc_int([pos[j,i-1][0], pos[j,i-1][2]]) * np.array([0, 0, pos[j, i-1][2]]) #longitudinal term\n",
    "\n",
    "                if j==1:\n",
    "                    print(E_sc)\n",
    "                    \n",
    "                # for now setting this to zero because i care more about the eflds\n",
    "                B_sc = 0.0\n",
    "\n",
    "            else:\n",
    "                E_sc = 0.0\n",
    "                B_sc = 0.0\n",
    "\n",
    "            if (pos[j,i-1,-1] <= 0):\n",
    "                SC_FLAG = 0\n",
    "            else:\n",
    "                SC_FLAG = 1\n",
    "\n",
    "            #print(CST_FLAG*Efld(np.flip(pos[j,i-1]),t[i-1]))\n",
    "            parts[j].set_fields(CST_FLAG*Efld(np.flip(pos[j,i-1]),t[i-1])+(len(parts)-Nlost)/len(parts)*SC_FLAG*E_sc\\\n",
    "                                ,(CST_FLAG*Bfld(np.flip(pos[j,i-1]),t[i-1])+(len(parts)-Nlost)/len(parts)*SC_FLAG*B_sc))\n",
    "                #print(parts[j].Efld)\n",
    "\n",
    "            pos[j,i], vel[j,i] = parts[j].Boris(dt)\n",
    "            if pos[j,i,-1] > zmax:\n",
    "                endFlag = True\n",
    "            if (CST_FLAG == 1 and i > 1):\n",
    "                parts[j].isLost = AmILost(np.linalg.norm(Efld(np.flip(pos[j,i-1]),t[i-1])),np.linalg.norm(Bfld(np.flip(pos[j,i-1]),t[i-1])),\\\n",
    "                              np.linalg.norm(vel[j,i-1]),pos[j,i-1,-1])\n",
    "                if(parts[j].isLost and parts[j].tsteplost == 0):\n",
    "                    isAlive[j] = False\n",
    "                    parts[j].tsteplost = i-1\n",
    "                    parts[j].tlost = parts[j].tsteplost*dt\n",
    "                    Nlost += 1\n",
    "                    continue\n",
    "        #rmean_hist[i-1] /= len(parts)\n",
    "        rmean_hist[i-1] = np.max(r)\n",
    "        if endFlag == True:\n",
    "            endind = i\n",
    "            break\n",
    "    return rmean_hist, Nlost, isAlive, endind"
   ]
  },
  {
   "cell_type": "markdown",
   "id": "659b1752-540f-4c4f-941d-9f479c1b9dd3",
   "metadata": {},
   "source": [
    "# Simulations"
   ]
  },
  {
   "cell_type": "code",
   "execution_count": 30,
   "id": "7b4556cc-3320-46b0-814a-ee4d05f4f944",
   "metadata": {},
   "outputs": [
    {
     "name": "stdout",
     "output_type": "stream",
     "text": [
      "0.0 0.29270745000000004 300 0.0 0.05 50\n",
      "[1.98638778e+02 1.01793844e+02 1.56747123e+05]\n"
     ]
    }
   ],
   "source": [
    "ERint, EZint, BTint, rr, zz, Emag = inputSuperfishfields(\"1T1.T7\")\n",
    "\n",
    "\n",
    "R = rr[4]\n",
    "Z = zz[4]\n",
    "th = np.pi/6\n",
    "\n",
    "r = np.array([R*np.cos(th), R*np.sin(th), Z])\n",
    "print(Efld(r,1e-9))"
   ]
  },
  {
   "cell_type": "code",
   "execution_count": 31,
   "id": "9c79e51a-5dec-425c-b987-404f4bf3539a",
   "metadata": {},
   "outputs": [
    {
     "data": {
      "text/plain": [
       "np.float64(0.29270745000000004)"
      ]
     },
     "execution_count": 31,
     "metadata": {},
     "output_type": "execute_result"
    }
   ],
   "source": [
    "np.max(zz)"
   ]
  },
  {
   "cell_type": "code",
   "execution_count": 32,
   "id": "49242346-7dc1-430b-a8d4-7d3e32e8dc4f",
   "metadata": {},
   "outputs": [
    {
     "data": {
      "text/plain": [
       "np.float64(0.05)"
      ]
     },
     "execution_count": 32,
     "metadata": {},
     "output_type": "execute_result"
    }
   ],
   "source": [
    "np.max(rr)"
   ]
  },
  {
   "cell_type": "code",
   "execution_count": 33,
   "id": "daf49a07-54bd-427c-8c1f-00e82fcacca1",
   "metadata": {},
   "outputs": [
    {
     "name": "stdout",
     "output_type": "stream",
     "text": [
      "[-9.10653686e+03 -5.25766151e+03 -7.03131138e+06]\n",
      "[ 0.00080044 -0.0013864  -0.        ]\n"
     ]
    }
   ],
   "source": [
    "#phi_RF = np.pi/2\n",
    "dt = 1e-11 #1.0/(71*f_res)\n",
    "Nt = 150 #)\n",
    "t = np.linspace(0,Nt*dt,Nt,endpoint=False)\n",
    "f_res = 1.3e9\n",
    "Amp_fac = 28.836*(10/61.33) # 6.3 MV/m\n",
    "phi_RF = np.pi/2+45/180*np.pi\n",
    "print(Efld(np.flip(r),0))\n",
    "print(Bfld(np.flip(r),0))\n",
    "\n",
    "def AmILost(normEfld,normBfld,normVel,posZ):\n",
    "    if ((normEfld < 1e-10) and (posZ > 0)):\n",
    "        return True\n",
    "    return False\n",
    "\n",
    "\n",
    "partsIMP = np.loadtxt(\"partcl.data\")\n",
    "partsIMP = partsIMP[::10]\n",
    "#print(\"Grad: \", Amp_fac)\n",
    "#plt.hist(partsIMP[:,-2],bins=32)"
   ]
  },
  {
   "cell_type": "code",
   "execution_count": null,
   "id": "0ca9f6e3-2529-41b7-97c1-0ae992913f65",
   "metadata": {},
   "outputs": [
    {
     "name": "stdout",
     "output_type": "stream",
     "text": [
      "-1e-08\n",
      "brad: 0.00024984292300481126, blen: 3.197430667841433e-05\n",
      "num macros:500, charge macros: -2.0000000000000002e-11\n",
      "brad: 0.00024984292300481126, blen: 3.1974306678414315e-05\n",
      "num macros:500, charge macros: -2.0000000000000002e-11\n",
      "[ 3.63085297e-12  2.22766296e-13 -4.03730668e-13]\n",
      "brad: 0.00024984292300481126, blen: 3.197430667841426e-05\n",
      "num macros:500, charge macros: -2.0000000000000002e-11\n",
      "[ 7.76786203e-12  4.76587145e-13 -1.57176253e-12]\n",
      "brad: 0.00024984292300481126, blen: 3.197430667841415e-05\n",
      "num macros:500, charge macros: -2.0000000000000002e-11\n"
     ]
    },
    {
     "ename": "KeyboardInterrupt",
     "evalue": "",
     "output_type": "error",
     "traceback": [
      "\u001b[31m---------------------------------------------------------------------------\u001b[39m",
      "\u001b[31mKeyboardInterrupt\u001b[39m                         Traceback (most recent call last)",
      "\u001b[36mCell\u001b[39m\u001b[36m \u001b[39m\u001b[32mIn[34]\u001b[39m\u001b[32m, line 39\u001b[39m\n\u001b[32m     34\u001b[39m \u001b[38;5;66;03m# mass is taken care of in the declaration.\u001b[39;00m\n\u001b[32m     35\u001b[39m \u001b[38;5;66;03m# done the same way as this thing here.\u001b[39;00m\n\u001b[32m     38\u001b[39m start = time.time()\n\u001b[32m---> \u001b[39m\u001b[32m39\u001b[39m rmean_hist, Nlost, isAlive, endind = \u001b[43mtrack_particles\u001b[49m\u001b[43m(\u001b[49m\u001b[43mCST_FLAG\u001b[49m\u001b[43m,\u001b[49m\u001b[43m \u001b[49m\u001b[43mSC_FLAG\u001b[49m\u001b[43m,\u001b[49m\u001b[43m \u001b[49m\u001b[43mnp\u001b[49m\u001b[43m.\u001b[49m\u001b[43mmax\u001b[49m\u001b[43m(\u001b[49m\u001b[43mzz\u001b[49m\u001b[43m)\u001b[49m\u001b[43m)\u001b[49m\n\u001b[32m     40\u001b[39m end = time.time()\n\u001b[32m     41\u001b[39m charge_AG = (\u001b[38;5;28mlen\u001b[39m(parts)-Nlost)/\u001b[38;5;28mlen\u001b[39m(parts)*chargenC\n",
      "\u001b[36mCell\u001b[39m\u001b[36m \u001b[39m\u001b[32mIn[29]\u001b[39m\u001b[32m, line 33\u001b[39m, in \u001b[36mtrack_particles\u001b[39m\u001b[34m(CST_FLAG, SC_FLAG, zmax, simulation)\u001b[39m\n\u001b[32m     30\u001b[39m \u001b[38;5;28mprint\u001b[39m(\u001b[33mf\u001b[39m\u001b[33m\"\u001b[39m\u001b[33mbrad: \u001b[39m\u001b[38;5;132;01m{\u001b[39;00mbunch_config[\u001b[33m\"\u001b[39m\u001b[33mRADIUS\u001b[39m\u001b[33m\"\u001b[39m]\u001b[38;5;132;01m}\u001b[39;00m\u001b[33m, blen: \u001b[39m\u001b[38;5;132;01m{\u001b[39;00mbunch_config[\u001b[33m\"\u001b[39m\u001b[33mLENGTH\u001b[39m\u001b[33m\"\u001b[39m]\u001b[38;5;132;01m}\u001b[39;00m\u001b[33m\"\u001b[39m)\n\u001b[32m     32\u001b[39m \u001b[38;5;66;03m# obtain the space charge fields (per timestep)...\u001b[39;00m\n\u001b[32m---> \u001b[39m\u001b[32m33\u001b[39m E_sc, B_sc, xx, yy, zz = \u001b[43msc\u001b[49m\u001b[43m.\u001b[49m\u001b[43mroutine\u001b[49m\u001b[43m(\u001b[49m\n\u001b[32m     34\u001b[39m \u001b[43m            \u001b[49m\u001b[43mmain_config\u001b[49m\u001b[43m=\u001b[49m\u001b[43mmain_config\u001b[49m\u001b[43m,\u001b[49m\n\u001b[32m     35\u001b[39m \u001b[43m            \u001b[49m\u001b[43mbunch_config\u001b[49m\u001b[43m=\u001b[49m\u001b[43mbunch_config\u001b[49m\u001b[43m,\u001b[49m\n\u001b[32m     36\u001b[39m \u001b[43m            \u001b[49m\u001b[43mmesh_config\u001b[49m\u001b[43m=\u001b[49m\u001b[43mmesh_config\u001b[49m\u001b[43m,\u001b[49m\n\u001b[32m     37\u001b[39m \u001b[43m            \u001b[49m\u001b[43mgaussfits_config\u001b[49m\u001b[43m=\u001b[49m\u001b[43mgaussfits_config\u001b[49m\n\u001b[32m     38\u001b[39m \u001b[43m        \u001b[49m\u001b[43m)\u001b[49m\n\u001b[32m     40\u001b[39m \u001b[38;5;66;03m# ... and interpolate them so that I can evaluate them at the particle's position\u001b[39;00m\n\u001b[32m     41\u001b[39m \u001b[38;5;66;03m# i set the sc.closestVal to be zero because that means y=0, which gives the\u001b[39;00m\n\u001b[32m     42\u001b[39m \u001b[38;5;66;03m# proper r and z hat components\u001b[39;00m\n\u001b[32m     43\u001b[39m ER_sc_int = RegularGridInterpolator((xx, zz), E_sc[:, sc.closestVal(\u001b[32m0\u001b[39m, yy), :, \u001b[32m0\u001b[39m], fill_value = \u001b[38;5;28;01mNone\u001b[39;00m, bounds_error=\u001b[38;5;28;01mFalse\u001b[39;00m)\n",
      "\u001b[36mFile \u001b[39m\u001b[32m~/Documents/python_stuff/ltf_playground/superfish/spacecharger.py:396\u001b[39m, in \u001b[36mroutine\u001b[39m\u001b[34m(input_file, main_config, bunch_config, mesh_config, gaussfits_config)\u001b[39m\n\u001b[32m    387\u001b[39m \u001b[38;5;66;03m###\u001b[39;00m\n\u001b[32m    388\u001b[39m \u001b[38;5;66;03m# STEP 5: Solve fields\u001b[39;00m\n\u001b[32m    389\u001b[39m \u001b[38;5;66;03m###\u001b[39;00m\n\u001b[32m    390\u001b[39m gauss_params = {\n\u001b[32m    391\u001b[39m     \u001b[33m\"\u001b[39m\u001b[33mxGauss\u001b[39m\u001b[33m\"\u001b[39m: xGauss,\n\u001b[32m    392\u001b[39m     \u001b[33m\"\u001b[39m\u001b[33mampGauss\u001b[39m\u001b[33m\"\u001b[39m: ampGauss,\n\u001b[32m    393\u001b[39m     \u001b[33m\"\u001b[39m\u001b[33msigGauss\u001b[39m\u001b[33m\"\u001b[39m: sigGauss\n\u001b[32m    394\u001b[39m }\n\u001b[32m--> \u001b[39m\u001b[32m396\u001b[39m lb_efld_cyl = \u001b[43mltsolvers\u001b[49m\u001b[43m.\u001b[49m\u001b[43msolve_SCFields\u001b[49m\u001b[43m(\u001b[49m\n\u001b[32m    397\u001b[39m \u001b[43m    \u001b[49m\u001b[43mbunch_rad\u001b[49m\u001b[43m=\u001b[49m\u001b[43mbunch\u001b[49m\u001b[43m.\u001b[49m\u001b[43mRADIUS\u001b[49m\u001b[43m,\u001b[49m\n\u001b[32m    398\u001b[39m \u001b[43m    \u001b[49m\u001b[43mbunch_len\u001b[49m\u001b[43m=\u001b[49m\u001b[43mbunch\u001b[49m\u001b[43m.\u001b[49m\u001b[43mLENGTH\u001b[49m\u001b[43m,\u001b[49m\n\u001b[32m    399\u001b[39m \u001b[43m    \u001b[49m\u001b[43mco_mesh\u001b[49m\u001b[43m=\u001b[49m\u001b[43m(\u001b[49m\u001b[43mx_mesh\u001b[49m\u001b[43m,\u001b[49m\u001b[43m \u001b[49m\u001b[43my_mesh\u001b[49m\u001b[43m,\u001b[49m\u001b[43m \u001b[49m\u001b[43mz_mesh\u001b[49m\u001b[43m)\u001b[49m\u001b[43m,\u001b[49m\n\u001b[32m    400\u001b[39m \u001b[43m    \u001b[49m\u001b[43mrho_type\u001b[49m\u001b[43m=\u001b[49m\u001b[43mbunch\u001b[49m\u001b[43m.\u001b[49m\u001b[43mDISTRIBUTION\u001b[49m\u001b[43m.\u001b[49m\u001b[43mlower\u001b[49m\u001b[43m(\u001b[49m\u001b[43m)\u001b[49m\u001b[43m,\u001b[49m\n\u001b[32m    401\u001b[39m \u001b[43m    \u001b[49m\u001b[43mintegrator\u001b[49m\u001b[43m=\u001b[49m\u001b[43mmain\u001b[49m\u001b[43m.\u001b[49m\u001b[43mINTEGRATOR\u001b[49m\u001b[43m.\u001b[49m\u001b[43mlower\u001b[49m\u001b[43m(\u001b[49m\u001b[43m)\u001b[49m\u001b[43m,\u001b[49m\n\u001b[32m    402\u001b[39m \u001b[43m    \u001b[49m\u001b[43mn\u001b[49m\u001b[43m=\u001b[49m\u001b[43mmesh\u001b[49m\u001b[43m.\u001b[49m\u001b[43mQUAD_PTS\u001b[49m\u001b[43m,\u001b[49m\n\u001b[32m    403\u001b[39m \u001b[43m    \u001b[49m\u001b[43mgauss_params\u001b[49m\u001b[43m=\u001b[49m\u001b[43mgauss_params\u001b[49m\n\u001b[32m    404\u001b[39m \u001b[43m\u001b[49m\u001b[43m)\u001b[49m\n\u001b[32m    406\u001b[39m \u001b[38;5;66;03m###\u001b[39;00m\n\u001b[32m    407\u001b[39m \u001b[38;5;66;03m# STEP 6: Convert cylindrical to Cartesian\u001b[39;00m\n\u001b[32m    408\u001b[39m \u001b[38;5;66;03m###\u001b[39;00m\n\u001b[32m    409\u001b[39m lb_ER = lb_efld_cyl[..., \u001b[32m0\u001b[39m]\n",
      "\u001b[36mFile \u001b[39m\u001b[32m~/Documents/python_stuff/ltf_playground/superfish/ltsolvers.py:172\u001b[39m, in \u001b[36msolve_SCFields\u001b[39m\u001b[34m(bunch_rad, bunch_len, co_mesh, rho_type, integrator, n, gauss_params)\u001b[39m\n\u001b[32m    170\u001b[39m     \u001b[38;5;28;01mfor\u001b[39;00m i_y, y \u001b[38;5;129;01min\u001b[39;00m \u001b[38;5;28menumerate\u001b[39m(y_mesh):\n\u001b[32m    171\u001b[39m         \u001b[38;5;28;01mfor\u001b[39;00m i_x, x \u001b[38;5;129;01min\u001b[39;00m \u001b[38;5;28menumerate\u001b[39m(x_mesh):\n\u001b[32m--> \u001b[39m\u001b[32m172\u001b[39m             lb_efld_cyl[i_x, i_y, i_z] = \u001b[43m_jit_integrate\u001b[49m\u001b[43m(\u001b[49m\n\u001b[32m    173\u001b[39m \u001b[43m                \u001b[49m\u001b[43mn\u001b[49m\u001b[43m=\u001b[49m\u001b[43mn\u001b[49m\u001b[43m,\u001b[49m\n\u001b[32m    174\u001b[39m \u001b[43m                \u001b[49m\u001b[43mbunch_rad\u001b[49m\u001b[43m=\u001b[49m\u001b[43mbunch_rad\u001b[49m\u001b[43m,\u001b[49m\n\u001b[32m    175\u001b[39m \u001b[43m                \u001b[49m\u001b[43mbunch_len\u001b[49m\u001b[43m=\u001b[49m\u001b[43mbunch_len\u001b[49m\u001b[43m,\u001b[49m\n\u001b[32m    176\u001b[39m \u001b[43m                \u001b[49m\u001b[43mfield_pt\u001b[49m\u001b[43m=\u001b[49m\u001b[43mnp\u001b[49m\u001b[43m.\u001b[49m\u001b[43marray\u001b[49m\u001b[43m(\u001b[49m\u001b[43m[\u001b[49m\u001b[43mx\u001b[49m\u001b[43m,\u001b[49m\u001b[43m \u001b[49m\u001b[43my\u001b[49m\u001b[43m,\u001b[49m\u001b[43m \u001b[49m\u001b[43mz\u001b[49m\u001b[43m]\u001b[49m\u001b[43m)\u001b[49m\u001b[43m,\u001b[49m\n\u001b[32m    177\u001b[39m \u001b[43m                \u001b[49m\u001b[43mweights\u001b[49m\u001b[43m=\u001b[49m\u001b[43mweights\u001b[49m\u001b[43m,\u001b[49m\n\u001b[32m    178\u001b[39m \u001b[43m                \u001b[49m\u001b[43mroots\u001b[49m\u001b[43m=\u001b[49m\u001b[43mroots\u001b[49m\u001b[43m,\u001b[49m\n\u001b[32m    179\u001b[39m \u001b[43m                \u001b[49m\u001b[43mrho_func\u001b[49m\u001b[43m=\u001b[49m\u001b[43mrho_func\u001b[49m\u001b[43m,\u001b[49m\n\u001b[32m    180\u001b[39m \u001b[43m                \u001b[49m\u001b[43mrho_params\u001b[49m\u001b[43m=\u001b[49m\u001b[43mrho_params\u001b[49m\u001b[43m,\u001b[49m\n\u001b[32m    181\u001b[39m \u001b[43m                \u001b[49m\u001b[43mis_trapezoid\u001b[49m\u001b[43m=\u001b[49m\u001b[43mis_trapezoid\u001b[49m\n\u001b[32m    182\u001b[39m \u001b[43m            \u001b[49m\u001b[43m)\u001b[49m\n\u001b[32m    184\u001b[39m \u001b[38;5;28;01mreturn\u001b[39;00m lb_efld_cyl\n",
      "\u001b[36mFile \u001b[39m\u001b[32m~/miniconda3/lib/python3.12/site-packages/numba/core/serialize.py:30\u001b[39m, in \u001b[36m_numba_unpickle\u001b[39m\u001b[34m(address, bytedata, hashed)\u001b[39m\n\u001b[32m     26\u001b[39m \u001b[38;5;66;03m# Keep unpickled object via `numba_unpickle` alive.\u001b[39;00m\n\u001b[32m     27\u001b[39m _unpickled_memo = {}\n\u001b[32m---> \u001b[39m\u001b[32m30\u001b[39m \u001b[38;5;28;01mdef\u001b[39;00m \u001b[34m_numba_unpickle\u001b[39m(address, bytedata, hashed):\n\u001b[32m     31\u001b[39m \u001b[38;5;250m    \u001b[39m\u001b[33;03m\"\"\"Used by `numba_unpickle` from _helperlib.c\u001b[39;00m\n\u001b[32m     32\u001b[39m \n\u001b[32m     33\u001b[39m \u001b[33;03m    Parameters\u001b[39;00m\n\u001b[32m   (...)\u001b[39m\u001b[32m     42\u001b[39m \u001b[33;03m        unpickled object\u001b[39;00m\n\u001b[32m     43\u001b[39m \u001b[33;03m    \"\"\"\u001b[39;00m\n\u001b[32m     44\u001b[39m     key = (address, hashed)\n",
      "\u001b[31mKeyboardInterrupt\u001b[39m: "
     ]
    }
   ],
   "source": [
    "#charges = np.linspace(0.1,10,21)\n",
    "#charge_AG = np.zeros(21)\n",
    "\n",
    "#start_overall = time.time()\n",
    "#for k in range(len(charges)):\n",
    "#print(\"Analysing \", charges[k], \"nC\")\n",
    "vel = np.zeros([len(partsIMP),Nt,3])\n",
    "pos = np.zeros([len(partsIMP),Nt,3])\n",
    "parts = []\n",
    "Np = len(partsIMP)\n",
    "\n",
    "q = 1.6e-19\n",
    "me = 9.1e-31\n",
    "chargenC = 10\n",
    "beamCharge = -1e-9*chargenC\n",
    "Ibeam = 1.3*chargenC\n",
    "\n",
    "p_charge = beamCharge/Np\n",
    "p_mass = abs(p_charge/q)*me\n",
    "\n",
    "print(beamCharge)\n",
    "\n",
    "for i in range(len(partsIMP)):\n",
    "    vel[i,0,0] = partsIMP[i,1]\n",
    "    vel[i,0,1] = partsIMP[i,3]\n",
    "    vel[i,0,2] = 4e7 #partsIMP[i,5]\n",
    "    pos[i,0,0] = partsIMP[i,0]\n",
    "    pos[i,0,1] = partsIMP[i,2]\n",
    "    pos[i,0,2] = partsIMP[i,4]\n",
    "    parts.append(Particle(p_charge,p_mass,vel[i,0],pos[i,0]))\n",
    "\n",
    "bunch_config[\"CHARGE\"] = beamCharge\n",
    "bunch_config[\"NUM_PARTICLES\"] = Np\n",
    "# mass is taken care of in the declaration.\n",
    "\n",
    "\n",
    "start = time.time()\n",
    "rmean_hist, Nlost, isAlive, endind = track_particles(CST_FLAG, SC_FLAG, np.max(zz))\n",
    "end = time.time()\n",
    "charge_AG = (len(parts)-Nlost)/len(parts)*chargenC\n",
    "#print(\"Laser Charge: \",charges[k], \"nC; After Gun: \", charge_AG[k], \"nC; Exec: \", end-start, \"s\")\n",
    "#end_overall = time.time()\n",
    "print(\"Exec Time Overall: \", end-start, \"s\")"
   ]
  },
  {
   "cell_type": "code",
   "execution_count": null,
   "id": "8c81c2e2",
   "metadata": {},
   "outputs": [
    {
     "name": "stdout",
     "output_type": "stream",
     "text": [
      "-1\n"
     ]
    }
   ],
   "source": [
    "print(endind)"
   ]
  },
  {
   "cell_type": "code",
   "execution_count": 37,
   "id": "96c63e14-2b48-4f81-8063-ccfd13a4ea94",
   "metadata": {},
   "outputs": [
    {
     "data": {
      "image/png": "[encoded data removed]",
      "text/plain": [
       "<Figure size 640x480 with 1 Axes>"
      ]
     },
     "metadata": {},
     "output_type": "display_data"
    }
   ],
   "source": [
    "Z,R = np.meshgrid(zz,rr)\n",
    "plt.pcolormesh(Z,R,np.transpose(Emag),cmap=\"Greens\")\n",
    "\n",
    "# ind = endind-4\n",
    "# print(n)\n",
    "ind_1 = 140\n",
    "ind_2 = 0\n",
    "\n",
    "                # z             #r\n",
    "plt.plot(pos[:,ind_1,-1],np.sqrt(pos[:,ind_1,0]**2 + pos[:,ind_1,1]**2),'r.',markersize=3,alpha=1)\n",
    "plt.plot(pos[:,ind_2,-1],np.sqrt(pos[:,ind_2,0]**2 + pos[:,ind_2,1]**2),'r.',markersize=3,alpha=1)\n",
    "plt.grid()"
   ]
  },
  {
   "cell_type": "code",
   "execution_count": null,
   "id": "0423347f",
   "metadata": {},
   "outputs": [
    {
     "name": "stdout",
     "output_type": "stream",
     "text": [
      "[40000000.0000006  39999999.18745253 39999999.70874697 39999998.9959057\n",
      " 39999999.79738402 40000000.0000006  39999999.7898813  39999999.23630296\n",
      " 39999999.73851556 39999999.30475984 39999999.02613489 39999999.20701145\n",
      " 39999999.39302734 39999999.92097422 39999999.40728576 40000000.0000006\n",
      " 39999999.33999889 39999999.76192654 39999999.51781043 39999999.77635805\n",
      " 39999999.3319327  40000000.0000006  39999999.30556867 39999999.00572552\n",
      " 39999999.6516856  39999999.54882521 40000000.0000006  40000000.0000006\n",
      " 39999999.21341574 39999999.48140062 39999999.85462762 39999999.98291628\n",
      " 39999999.99010493 40000000.0000006  39999999.81481379 39999999.6307601\n",
      " 40000000.0000006  39999999.24070819 39999999.49613507 39999999.62969724\n",
      " 39999999.84033575 40000000.0000006  39999999.54103018 39999999.78994115\n",
      " 40000000.0000006  39999999.33861204 39999999.84208515 39999999.66368805\n",
      " 39999999.81482251 39999999.79595913 39999999.81299791 39999999.67149541\n",
      " 39999999.78873739 39999999.9909515  39999999.53216807 39999999.74463254\n",
      " 39999999.52822163 39999999.55599514 40000000.0000006  39999999.46240795\n",
      " 39999999.93237342 39999999.58046299 39999999.21204441 39999999.95564497\n",
      " 39999999.82212152 39999999.90028527 39999999.5035099  39999999.5842139\n",
      " 39999999.90809504 40000000.0000006  39999999.95918556 39999999.82625395\n",
      " 40000000.0000006  39999999.45458658 39999999.53067012 39999999.72844376\n",
      " 39999999.23032244 40000000.0000006  39999999.06026569 39999999.51754851\n",
      " 39999999.57192118 39999999.5809534  40000000.0000006  39999999.71038667\n",
      " 39999999.42774018 40000000.0000006  40000000.0000006  40000000.0000006\n",
      " 40000000.0000006  39999999.72215461 39999999.28069141 40000000.0000006\n",
      " 39999999.57507354 39999999.94463934 39999999.97111054 39999999.69565126\n",
      " 39999999.7232791  40000000.0000006  39999999.85804667 39999999.99070125\n",
      " 40000000.0000006  39999999.22771735 40000000.0000006  39999999.90148298\n",
      " 39999999.82102709 40000000.0000006  39999999.8308134  39999998.98511953\n",
      " 39999999.09926502 39999999.92429136 39999999.64415149 39999999.34404947\n",
      " 39999999.44575989 39999999.69731928 39999999.73445014 40000000.0000006\n",
      " 40000000.0000006  40000000.0000006  40000000.0000006  39999999.87230799\n",
      " 39999999.93434708 40000000.0000006  39999999.77942122 39999999.51720293\n",
      " 40000000.0000006  39999999.40906292 39999999.07863744 39999999.28093296\n",
      " 39999999.5974883  39999999.86992051 39999999.9139014  39999999.80916235\n",
      " 39999999.4710296  39999999.72697239 39999999.28665454 40000000.0000006\n",
      " 39999999.72543347 39999999.25497815 39999999.95829991 39999999.8227251\n",
      " 39999999.69385981 39999999.97969847 39999999.66779129 39999999.69816741\n",
      " 40000000.0000006  39999999.8503538  39999999.55781148 40000000.0000006\n",
      " 39999999.56342834 39999999.94486892 39999999.58027776 39999998.99185625\n",
      " 39999999.02426967 39999999.36750665 39999999.36817374 40000000.0000006\n",
      " 39999999.9706381  39999999.69742373 40000000.0000006  39999999.06168465\n",
      " 39999999.51228134 39999999.16301362 39999999.82316665 39999999.49555766\n",
      " 39999999.10399377 39999999.42892177 40000000.0000006  39999999.66980622\n",
      " 39999999.49663986 39999999.45647655 39999999.68129694 40000000.0000006\n",
      " 40000000.0000006  39999998.98792892 39999999.8489543  39999999.91096458\n",
      " 40000000.0000006  39999999.51881382 39999999.4956977  40000000.0000006\n",
      " 39999999.12892637 39999999.59986017 39999999.78625944 39999999.62954199\n",
      " 39999999.40532923 39999999.0733496  39999999.7236768  39999999.32471111\n",
      " 39999999.86783453 39999999.98663843 39999999.96724818 39999999.49933913\n",
      " 39999999.7043341  39999999.57475038 39999999.7525162  39999999.8833957\n",
      " 39999999.90176004 39999999.24397554 39999999.01802554 39999999.92553623\n",
      " 39999999.85536209 40000000.0000006  39999999.55287177 39999999.59840304\n",
      " 39999999.50807685 39999999.59201802 39999999.90481964 39999999.87242875\n",
      " 39999999.86218476 39999999.6428156  39999999.50335395 40000000.0000006\n",
      " 39999999.01412646 39999999.63592938 39999999.59797365 39999999.02225221\n",
      " 40000000.0000006  39999999.15063201 40000000.0000006  39999999.88971885\n",
      " 40000000.0000006  39999999.76128544 39999999.42527765 39999999.72448952\n",
      " 39999999.98786297 39999999.86913712 39999999.4821839  39999999.52974528\n",
      " 39999999.53728662 39999999.97392293 39999999.98726001 39999999.70838616\n",
      " 39999999.96454233 39999999.24934398 39999999.94850541 39999999.18266867\n",
      " 39999999.0026229  39999999.22924004 40000000.0000006  39999999.77647611\n",
      " 39999999.79328337 39999999.7088301  39999999.73418918 39999999.711513\n",
      " 39999999.6200918  39999999.95449468 39999999.25056554 39999999.68305914\n",
      " 39999999.96161573 39999999.54119076 40000000.0000006  40000000.0000006\n",
      " 40000000.0000006  39999999.71560339 39999999.90769116 39999999.50369978\n",
      " 40000000.0000006  39999999.76659327 39999999.11512549 39999999.73973212\n",
      " 40000000.0000006  39999999.44825368 39999999.87229205 40000000.0000006\n",
      " 39999999.77251036 40000000.0000006  39999999.89705049 39999999.6076969\n",
      " 39999999.95719391 39999999.61176345 39999999.53711712 40000000.0000006\n",
      " 39999999.79125808 39999999.92354859 40000000.0000006  40000000.0000006\n",
      " 39999999.14090163 39999999.74301232 39999999.5190212  39999999.71996428\n",
      " 40000000.0000006  39999999.6675097  39999999.33359295 40000000.0000006\n",
      " 39999999.11944309 39999999.93863256 39999999.54507729 39999999.15461558\n",
      " 40000000.0000006  40000000.0000006  39999999.66388993 39999999.62786434\n",
      " 39999999.85397791 40000000.0000006  39999999.70072567 39999999.50210629\n",
      " 39999999.57371106 39999999.31037864 39999999.73086371 39999999.04978584\n",
      " 39999999.85840628 39999999.72204182 40000000.0000006  39999999.64729293\n",
      " 40000000.0000006  39999999.25875076 39999999.95945119 40000000.0000006\n",
      " 40000000.0000006  39999999.95245186 39999999.57439189 39999999.71489573\n",
      " 39999999.98618777 39999999.37494507 39999999.32590979 39999999.96061306\n",
      " 39999999.88496205 39999999.04228258 39999999.8700487  39999999.08126843\n",
      " 39999999.46985076 39999999.6232614  39999999.96283481 40000000.0000006\n",
      " 39999999.80352231 40000000.0000006  39999999.2894422  39999999.62438456\n",
      " 39999999.9410407  39999999.69797751 39999999.73189846 39999999.58080065\n",
      " 39999999.93307161 39999999.26990177 39999999.56278832 39999999.9514273\n",
      " 39999999.88326968 39999999.79364769 39999999.68845932 40000000.0000006\n",
      " 40000000.0000006  40000000.0000006  39999999.45286812 40000000.0000006\n",
      " 39999999.32597198 40000000.0000006  39999999.49902612 39999999.61414272\n",
      " 39999999.38831154 39999999.71904465 39999999.96220942 39999999.53148512\n",
      " 40000000.0000006  39999999.64771429 39999999.72935584 39999999.5925677\n",
      " 39999999.61714621 39999999.51163685 39999999.58942725 39999999.56327084\n",
      " 39999999.57658674 40000000.0000006  40000000.0000006  39999999.86476265\n",
      " 40000000.0000006  40000000.0000006  40000000.0000006  39999999.11045598\n",
      " 39999999.44383448 39999999.512081   39999999.44880181 40000000.0000006\n",
      " 39999999.89255602 39999999.57181422 39999999.70376671 39999999.77754425\n",
      " 39999999.79101194 39999999.25615004 39999999.71883312 39999999.69873549\n",
      " 39999999.41789867 39999999.11316666 39999999.18892286 40000000.0000006\n",
      " 39999999.560793   40000000.0000006  40000000.0000006  39999999.76348346\n",
      " 39999999.91839208 39999999.53375284 39999999.96366839 39999999.5246595\n",
      " 39999999.50051937 39999999.92780399 39999999.55370787 39999999.064987\n",
      " 39999999.81865943 39999999.91077375 39999999.03142135 39999999.37503964\n",
      " 39999999.59608007 40000000.0000006  39999999.7992237  39999999.86811523\n",
      " 39999999.8274275  39999999.64742342 39999999.76736157 40000000.0000006\n",
      " 39999999.30316337 39999999.49515377 39999999.56061929 39999999.6650997\n",
      " 39999999.31923159 39999999.71545255 39999999.65221522 40000000.0000006\n",
      " 40000000.0000006  40000000.0000006  39999999.57042138 39999999.89043031\n",
      " 39999999.58836538 39999999.8616014  39999999.99560585 40000000.0000006\n",
      " 39999999.55991264 39999999.22411516 39999999.84381822 39999999.66870666\n",
      " 39999999.18803986 39999999.8525603  39999999.75043904 39999999.99648409\n",
      " 40000000.0000006  39999999.06676636 40000000.0000006  39999999.32171797\n",
      " 39999999.58155859 39999999.93176996 39999999.66563255 40000000.0000006\n",
      " 39999999.98655094 40000000.0000006  39999999.74914316 39999999.83412885\n",
      " 39999999.61062872 40000000.0000006  39999999.69539247 39999999.76373172\n",
      " 40000000.0000006  39999999.638752   39999999.98649502 39999999.59074665\n",
      " 39999998.99204161 39999999.88257295 39999999.82103574 39999999.07216837\n",
      " 39999999.77988584 39999999.95181823 39999999.59112992 39999999.92793986\n",
      " 39999999.10141964 39999999.73969267 39999999.33503694 39999999.76363808\n",
      " 40000000.0000006  39999999.51619051 39999999.75233566 39999999.55693614\n",
      " 39999999.66063368 39999999.07130349 40000000.0000006  39999999.51510043\n",
      " 39999999.66709051 39999999.54954631 40000000.0000006  39999999.35282798\n",
      " 39999999.60717738 39999999.83786956 39999999.08092333 39999999.76309074\n",
      " 39999999.16272379 40000000.0000006  39999999.65374254 40000000.0000006\n",
      " 39999999.71633993 39999999.39278212 40000000.0000006  40000000.0000006\n",
      " 39999999.6496546  39999999.50023185 39999999.64170828 39999999.17766111\n",
      " 39999999.04645319 39999999.92513785 39999999.5781887  39999999.78538257\n",
      " 39999999.96371415 39999999.19035804 39999999.67090462 39999999.40018953]\n"
     ]
    }
   ],
   "source": [
    "print(vel[:,140,-1])"
   ]
  },
  {
   "cell_type": "code",
   "execution_count": null,
   "id": "546878e7-0822-4486-8302-9ee4bb561080",
   "metadata": {},
   "outputs": [
    {
     "data": {
      "image/png": "[encoded data removed]",
      "text/plain": [
       "<Figure size 640x480 with 1 Axes>"
      ]
     },
     "metadata": {},
     "output_type": "display_data"
    }
   ],
   "source": [
    "plt.plot(pos[:,ind,-1],np.sqrt(pos[:,ind,0]**2 + pos[:,ind,1]**2),'r.',markersize=3,alpha=1)\n",
    "plt.grid()\n",
    "#plt.plot(pos[:,0,-1]-np.mean(pos[:,0,-1]),np.sqrt(pos[:,0,0]**2 + pos[:,0,1]**2),'b.',markersize=3,alpha=1)"
   ]
  }
 ],
 "metadata": {
  "authors": [
   {
    "name": "Omkar H. Ramachandran"
   }
  ],
  "kernelspec": {
   "display_name": "base",
   "language": "python",
   "name": "python3"
  },
  "language_info": {
   "codemirror_mode": {
    "name": "ipython",
    "version": 3
   },
   "file_extension": ".py",
   "mimetype": "text/x-python",
   "name": "python",
   "nbconvert_exporter": "python",
   "pygments_lexer": "ipython3",
   "version": "3.12.2"
  },
  "title": "USPAS Final Project: Tracking Simulations with Space Charge"
 },
 "nbformat": 4,
 "nbformat_minor": 5
}
